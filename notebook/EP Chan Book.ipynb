{
 "cells": [
  {
   "cell_type": "markdown",
   "metadata": {},
   "source": [
    "# EP Chan Book Implementation\n",
    "\n",
    "This is a replicate of the strategy shown in the book \"Algorithmic Trading Winning Strategies and their Rationale\" by Ernest P. Chan. To use this notebook, you need specific virtual environment **qt-env** and setup the ipython kernel as \"qt\".\n",
    "\n",
    "Mean reversion is a widely observed phenomenon in finance. Even though individual asset price may not follow mean reversion, but a combination of assets, i.e., a portfolio, may show mean reversion. Therefore, we can constucture a portfolio with mean reversion feature, and then trade on it to gain profit."
   ]
  },
  {
   "cell_type": "markdown",
   "metadata": {},
   "source": [
    "To do so, several things need to be done. First of all, we need to test whether a price series is mean reversion. The test is named **ADF test**. The test statistics is $\\lambda$/SE($\\lambda$), where $\\lambda$ is the regression coefficient of equation:\n",
    "\n",
    "$\\Delta y(t) = \\lambda y(t-1) +\\mu + \\beta t+\\alpha_1\\Delta y(t-1)+\\dots+\\alpha_k\\Delta y(t-k)+\\epsilon_t$.\n",
    "\n",
    "Import necessary modules and print out version information."
   ]
  },
  {
   "cell_type": "code",
   "execution_count": 2,
   "metadata": {},
   "outputs": [],
   "source": [
    "import sys\n",
    "sys.path.append('/home/adam/.pyenv/ep-chan/lib/python3.5/site-packages')"
   ]
  },
  {
   "cell_type": "code",
   "execution_count": 3,
   "metadata": {},
   "outputs": [
    {
     "data": {
      "text/html": [
       "\n",
       "    <div class=\"bk-root\">\n",
       "        <a href=\"https://bokeh.pydata.org\" target=\"_blank\" class=\"bk-logo bk-logo-small bk-logo-notebook\"></a>\n",
       "        <span id=\"ec130175-7391-479c-a09b-c7dd6e276437\">Loading BokehJS ...</span>\n",
       "    </div>"
      ]
     },
     "metadata": {},
     "output_type": "display_data"
    },
    {
     "data": {
      "application/javascript": [
       "\n",
       "(function(root) {\n",
       "  function now() {\n",
       "    return new Date();\n",
       "  }\n",
       "\n",
       "  var force = true;\n",
       "\n",
       "  if (typeof (root._bokeh_onload_callbacks) === \"undefined\" || force === true) {\n",
       "    root._bokeh_onload_callbacks = [];\n",
       "    root._bokeh_is_loading = undefined;\n",
       "  }\n",
       "\n",
       "  var JS_MIME_TYPE = 'application/javascript';\n",
       "  var HTML_MIME_TYPE = 'text/html';\n",
       "  var EXEC_MIME_TYPE = 'application/vnd.bokehjs_exec.v0+json';\n",
       "  var CLASS_NAME = 'output_bokeh rendered_html';\n",
       "\n",
       "  /**\n",
       "   * Render data to the DOM node\n",
       "   */\n",
       "  function render(props, node) {\n",
       "    var script = document.createElement(\"script\");\n",
       "    node.appendChild(script);\n",
       "  }\n",
       "\n",
       "  /**\n",
       "   * Handle when an output is cleared or removed\n",
       "   */\n",
       "  function handleClearOutput(event, handle) {\n",
       "    var cell = handle.cell;\n",
       "\n",
       "    var id = cell.output_area._bokeh_element_id;\n",
       "    var server_id = cell.output_area._bokeh_server_id;\n",
       "    // Clean up Bokeh references\n",
       "    if (id !== undefined) {\n",
       "      Bokeh.index[id].model.document.clear();\n",
       "      delete Bokeh.index[id];\n",
       "    }\n",
       "\n",
       "    if (server_id !== undefined) {\n",
       "      // Clean up Bokeh references\n",
       "      var cmd = \"from bokeh.io.state import curstate; print(curstate().uuid_to_server['\" + server_id + \"'].get_sessions()[0].document.roots[0]._id)\";\n",
       "      cell.notebook.kernel.execute(cmd, {\n",
       "        iopub: {\n",
       "          output: function(msg) {\n",
       "            var element_id = msg.content.text.trim();\n",
       "            Bokeh.index[element_id].model.document.clear();\n",
       "            delete Bokeh.index[element_id];\n",
       "          }\n",
       "        }\n",
       "      });\n",
       "      // Destroy server and session\n",
       "      var cmd = \"import bokeh.io.notebook as ion; ion.destroy_server('\" + server_id + \"')\";\n",
       "      cell.notebook.kernel.execute(cmd);\n",
       "    }\n",
       "  }\n",
       "\n",
       "  /**\n",
       "   * Handle when a new output is added\n",
       "   */\n",
       "  function handleAddOutput(event, handle) {\n",
       "    var output_area = handle.output_area;\n",
       "    var output = handle.output;\n",
       "\n",
       "    // limit handleAddOutput to display_data with EXEC_MIME_TYPE content only\n",
       "    if ((output.output_type != \"display_data\") || (!output.data.hasOwnProperty(EXEC_MIME_TYPE))) {\n",
       "      return\n",
       "    }\n",
       "\n",
       "    var toinsert = output_area.element.find(\".\" + CLASS_NAME.split(' ')[0]);\n",
       "\n",
       "    if (output.metadata[EXEC_MIME_TYPE][\"id\"] !== undefined) {\n",
       "      toinsert[toinsert.length - 1].firstChild.textContent = output.data[JS_MIME_TYPE];\n",
       "      // store reference to embed id on output_area\n",
       "      output_area._bokeh_element_id = output.metadata[EXEC_MIME_TYPE][\"id\"];\n",
       "    }\n",
       "    if (output.metadata[EXEC_MIME_TYPE][\"server_id\"] !== undefined) {\n",
       "      var bk_div = document.createElement(\"div\");\n",
       "      bk_div.innerHTML = output.data[HTML_MIME_TYPE];\n",
       "      var script_attrs = bk_div.children[0].attributes;\n",
       "      for (var i = 0; i < script_attrs.length; i++) {\n",
       "        toinsert[toinsert.length - 1].firstChild.setAttribute(script_attrs[i].name, script_attrs[i].value);\n",
       "      }\n",
       "      // store reference to server id on output_area\n",
       "      output_area._bokeh_server_id = output.metadata[EXEC_MIME_TYPE][\"server_id\"];\n",
       "    }\n",
       "  }\n",
       "\n",
       "  function register_renderer(events, OutputArea) {\n",
       "\n",
       "    function append_mime(data, metadata, element) {\n",
       "      // create a DOM node to render to\n",
       "      var toinsert = this.create_output_subarea(\n",
       "        metadata,\n",
       "        CLASS_NAME,\n",
       "        EXEC_MIME_TYPE\n",
       "      );\n",
       "      this.keyboard_manager.register_events(toinsert);\n",
       "      // Render to node\n",
       "      var props = {data: data, metadata: metadata[EXEC_MIME_TYPE]};\n",
       "      render(props, toinsert[toinsert.length - 1]);\n",
       "      element.append(toinsert);\n",
       "      return toinsert\n",
       "    }\n",
       "\n",
       "    /* Handle when an output is cleared or removed */\n",
       "    events.on('clear_output.CodeCell', handleClearOutput);\n",
       "    events.on('delete.Cell', handleClearOutput);\n",
       "\n",
       "    /* Handle when a new output is added */\n",
       "    events.on('output_added.OutputArea', handleAddOutput);\n",
       "\n",
       "    /**\n",
       "     * Register the mime type and append_mime function with output_area\n",
       "     */\n",
       "    OutputArea.prototype.register_mime_type(EXEC_MIME_TYPE, append_mime, {\n",
       "      /* Is output safe? */\n",
       "      safe: true,\n",
       "      /* Index of renderer in `output_area.display_order` */\n",
       "      index: 0\n",
       "    });\n",
       "  }\n",
       "\n",
       "  // register the mime type if in Jupyter Notebook environment and previously unregistered\n",
       "  if (root.Jupyter !== undefined) {\n",
       "    var events = require('base/js/events');\n",
       "    var OutputArea = require('notebook/js/outputarea').OutputArea;\n",
       "\n",
       "    if (OutputArea.prototype.mime_types().indexOf(EXEC_MIME_TYPE) == -1) {\n",
       "      register_renderer(events, OutputArea);\n",
       "    }\n",
       "  }\n",
       "\n",
       "  \n",
       "  if (typeof (root._bokeh_timeout) === \"undefined\" || force === true) {\n",
       "    root._bokeh_timeout = Date.now() + 5000;\n",
       "    root._bokeh_failed_load = false;\n",
       "  }\n",
       "\n",
       "  var NB_LOAD_WARNING = {'data': {'text/html':\n",
       "     \"<div style='background-color: #fdd'>\\n\"+\n",
       "     \"<p>\\n\"+\n",
       "     \"BokehJS does not appear to have successfully loaded. If loading BokehJS from CDN, this \\n\"+\n",
       "     \"may be due to a slow or bad network connection. Possible fixes:\\n\"+\n",
       "     \"</p>\\n\"+\n",
       "     \"<ul>\\n\"+\n",
       "     \"<li>re-rerun `output_notebook()` to attempt to load from CDN again, or</li>\\n\"+\n",
       "     \"<li>use INLINE resources instead, as so:</li>\\n\"+\n",
       "     \"</ul>\\n\"+\n",
       "     \"<code>\\n\"+\n",
       "     \"from bokeh.resources import INLINE\\n\"+\n",
       "     \"output_notebook(resources=INLINE)\\n\"+\n",
       "     \"</code>\\n\"+\n",
       "     \"</div>\"}};\n",
       "\n",
       "  function display_loaded() {\n",
       "    var el = document.getElementById(\"ec130175-7391-479c-a09b-c7dd6e276437\");\n",
       "    if (el != null) {\n",
       "      el.textContent = \"BokehJS is loading...\";\n",
       "    }\n",
       "    if (root.Bokeh !== undefined) {\n",
       "      if (el != null) {\n",
       "        el.textContent = \"BokehJS \" + root.Bokeh.version + \" successfully loaded.\";\n",
       "      }\n",
       "    } else if (Date.now() < root._bokeh_timeout) {\n",
       "      setTimeout(display_loaded, 100)\n",
       "    }\n",
       "  }\n",
       "\n",
       "\n",
       "  function run_callbacks() {\n",
       "    try {\n",
       "      root._bokeh_onload_callbacks.forEach(function(callback) { callback() });\n",
       "    }\n",
       "    finally {\n",
       "      delete root._bokeh_onload_callbacks\n",
       "    }\n",
       "    console.info(\"Bokeh: all callbacks have finished\");\n",
       "  }\n",
       "\n",
       "  function load_libs(js_urls, callback) {\n",
       "    root._bokeh_onload_callbacks.push(callback);\n",
       "    if (root._bokeh_is_loading > 0) {\n",
       "      console.log(\"Bokeh: BokehJS is being loaded, scheduling callback at\", now());\n",
       "      return null;\n",
       "    }\n",
       "    if (js_urls == null || js_urls.length === 0) {\n",
       "      run_callbacks();\n",
       "      return null;\n",
       "    }\n",
       "    console.log(\"Bokeh: BokehJS not loaded, scheduling load and callback at\", now());\n",
       "    root._bokeh_is_loading = js_urls.length;\n",
       "    for (var i = 0; i < js_urls.length; i++) {\n",
       "      var url = js_urls[i];\n",
       "      var s = document.createElement('script');\n",
       "      s.src = url;\n",
       "      s.async = false;\n",
       "      s.onreadystatechange = s.onload = function() {\n",
       "        root._bokeh_is_loading--;\n",
       "        if (root._bokeh_is_loading === 0) {\n",
       "          console.log(\"Bokeh: all BokehJS libraries loaded\");\n",
       "          run_callbacks()\n",
       "        }\n",
       "      };\n",
       "      s.onerror = function() {\n",
       "        console.warn(\"failed to load library \" + url);\n",
       "      };\n",
       "      console.log(\"Bokeh: injecting script tag for BokehJS library: \", url);\n",
       "      document.getElementsByTagName(\"head\")[0].appendChild(s);\n",
       "    }\n",
       "  };var element = document.getElementById(\"ec130175-7391-479c-a09b-c7dd6e276437\");\n",
       "  if (element == null) {\n",
       "    console.log(\"Bokeh: ERROR: autoload.js configured with elementid 'ec130175-7391-479c-a09b-c7dd6e276437' but no matching script tag was found. \")\n",
       "    return false;\n",
       "  }\n",
       "\n",
       "  var js_urls = [\"https://cdn.pydata.org/bokeh/release/bokeh-0.12.15.min.js\", \"https://cdn.pydata.org/bokeh/release/bokeh-widgets-0.12.15.min.js\", \"https://cdn.pydata.org/bokeh/release/bokeh-tables-0.12.15.min.js\", \"https://cdn.pydata.org/bokeh/release/bokeh-gl-0.12.15.min.js\"];\n",
       "\n",
       "  var inline_js = [\n",
       "    function(Bokeh) {\n",
       "      Bokeh.set_log_level(\"info\");\n",
       "    },\n",
       "    \n",
       "    function(Bokeh) {\n",
       "      \n",
       "    },\n",
       "    function(Bokeh) {\n",
       "      console.log(\"Bokeh: injecting CSS: https://cdn.pydata.org/bokeh/release/bokeh-0.12.15.min.css\");\n",
       "      Bokeh.embed.inject_css(\"https://cdn.pydata.org/bokeh/release/bokeh-0.12.15.min.css\");\n",
       "      console.log(\"Bokeh: injecting CSS: https://cdn.pydata.org/bokeh/release/bokeh-widgets-0.12.15.min.css\");\n",
       "      Bokeh.embed.inject_css(\"https://cdn.pydata.org/bokeh/release/bokeh-widgets-0.12.15.min.css\");\n",
       "      console.log(\"Bokeh: injecting CSS: https://cdn.pydata.org/bokeh/release/bokeh-tables-0.12.15.min.css\");\n",
       "      Bokeh.embed.inject_css(\"https://cdn.pydata.org/bokeh/release/bokeh-tables-0.12.15.min.css\");\n",
       "    }\n",
       "  ];\n",
       "\n",
       "  function run_inline_js() {\n",
       "    \n",
       "    if ((root.Bokeh !== undefined) || (force === true)) {\n",
       "      for (var i = 0; i < inline_js.length; i++) {\n",
       "        inline_js[i].call(root, root.Bokeh);\n",
       "      }if (force === true) {\n",
       "        display_loaded();\n",
       "      }} else if (Date.now() < root._bokeh_timeout) {\n",
       "      setTimeout(run_inline_js, 100);\n",
       "    } else if (!root._bokeh_failed_load) {\n",
       "      console.log(\"Bokeh: BokehJS failed to load within specified timeout.\");\n",
       "      root._bokeh_failed_load = true;\n",
       "    } else if (force !== true) {\n",
       "      var cell = $(document.getElementById(\"ec130175-7391-479c-a09b-c7dd6e276437\")).parents('.cell').data().cell;\n",
       "      cell.output_area.append_execute_result(NB_LOAD_WARNING)\n",
       "    }\n",
       "\n",
       "  }\n",
       "\n",
       "  if (root._bokeh_is_loading === 0) {\n",
       "    console.log(\"Bokeh: BokehJS loaded, going straight to plotting\");\n",
       "    run_inline_js();\n",
       "  } else {\n",
       "    load_libs(js_urls, function() {\n",
       "      console.log(\"Bokeh: BokehJS plotting callback run at\", now());\n",
       "      run_inline_js();\n",
       "    });\n",
       "  }\n",
       "}(window));"
      ],
      "application/vnd.bokehjs_load.v0+json": "\n(function(root) {\n  function now() {\n    return new Date();\n  }\n\n  var force = true;\n\n  if (typeof (root._bokeh_onload_callbacks) === \"undefined\" || force === true) {\n    root._bokeh_onload_callbacks = [];\n    root._bokeh_is_loading = undefined;\n  }\n\n  \n\n  \n  if (typeof (root._bokeh_timeout) === \"undefined\" || force === true) {\n    root._bokeh_timeout = Date.now() + 5000;\n    root._bokeh_failed_load = false;\n  }\n\n  var NB_LOAD_WARNING = {'data': {'text/html':\n     \"<div style='background-color: #fdd'>\\n\"+\n     \"<p>\\n\"+\n     \"BokehJS does not appear to have successfully loaded. If loading BokehJS from CDN, this \\n\"+\n     \"may be due to a slow or bad network connection. Possible fixes:\\n\"+\n     \"</p>\\n\"+\n     \"<ul>\\n\"+\n     \"<li>re-rerun `output_notebook()` to attempt to load from CDN again, or</li>\\n\"+\n     \"<li>use INLINE resources instead, as so:</li>\\n\"+\n     \"</ul>\\n\"+\n     \"<code>\\n\"+\n     \"from bokeh.resources import INLINE\\n\"+\n     \"output_notebook(resources=INLINE)\\n\"+\n     \"</code>\\n\"+\n     \"</div>\"}};\n\n  function display_loaded() {\n    var el = document.getElementById(\"ec130175-7391-479c-a09b-c7dd6e276437\");\n    if (el != null) {\n      el.textContent = \"BokehJS is loading...\";\n    }\n    if (root.Bokeh !== undefined) {\n      if (el != null) {\n        el.textContent = \"BokehJS \" + root.Bokeh.version + \" successfully loaded.\";\n      }\n    } else if (Date.now() < root._bokeh_timeout) {\n      setTimeout(display_loaded, 100)\n    }\n  }\n\n\n  function run_callbacks() {\n    try {\n      root._bokeh_onload_callbacks.forEach(function(callback) { callback() });\n    }\n    finally {\n      delete root._bokeh_onload_callbacks\n    }\n    console.info(\"Bokeh: all callbacks have finished\");\n  }\n\n  function load_libs(js_urls, callback) {\n    root._bokeh_onload_callbacks.push(callback);\n    if (root._bokeh_is_loading > 0) {\n      console.log(\"Bokeh: BokehJS is being loaded, scheduling callback at\", now());\n      return null;\n    }\n    if (js_urls == null || js_urls.length === 0) {\n      run_callbacks();\n      return null;\n    }\n    console.log(\"Bokeh: BokehJS not loaded, scheduling load and callback at\", now());\n    root._bokeh_is_loading = js_urls.length;\n    for (var i = 0; i < js_urls.length; i++) {\n      var url = js_urls[i];\n      var s = document.createElement('script');\n      s.src = url;\n      s.async = false;\n      s.onreadystatechange = s.onload = function() {\n        root._bokeh_is_loading--;\n        if (root._bokeh_is_loading === 0) {\n          console.log(\"Bokeh: all BokehJS libraries loaded\");\n          run_callbacks()\n        }\n      };\n      s.onerror = function() {\n        console.warn(\"failed to load library \" + url);\n      };\n      console.log(\"Bokeh: injecting script tag for BokehJS library: \", url);\n      document.getElementsByTagName(\"head\")[0].appendChild(s);\n    }\n  };var element = document.getElementById(\"ec130175-7391-479c-a09b-c7dd6e276437\");\n  if (element == null) {\n    console.log(\"Bokeh: ERROR: autoload.js configured with elementid 'ec130175-7391-479c-a09b-c7dd6e276437' but no matching script tag was found. \")\n    return false;\n  }\n\n  var js_urls = [\"https://cdn.pydata.org/bokeh/release/bokeh-0.12.15.min.js\", \"https://cdn.pydata.org/bokeh/release/bokeh-widgets-0.12.15.min.js\", \"https://cdn.pydata.org/bokeh/release/bokeh-tables-0.12.15.min.js\", \"https://cdn.pydata.org/bokeh/release/bokeh-gl-0.12.15.min.js\"];\n\n  var inline_js = [\n    function(Bokeh) {\n      Bokeh.set_log_level(\"info\");\n    },\n    \n    function(Bokeh) {\n      \n    },\n    function(Bokeh) {\n      console.log(\"Bokeh: injecting CSS: https://cdn.pydata.org/bokeh/release/bokeh-0.12.15.min.css\");\n      Bokeh.embed.inject_css(\"https://cdn.pydata.org/bokeh/release/bokeh-0.12.15.min.css\");\n      console.log(\"Bokeh: injecting CSS: https://cdn.pydata.org/bokeh/release/bokeh-widgets-0.12.15.min.css\");\n      Bokeh.embed.inject_css(\"https://cdn.pydata.org/bokeh/release/bokeh-widgets-0.12.15.min.css\");\n      console.log(\"Bokeh: injecting CSS: https://cdn.pydata.org/bokeh/release/bokeh-tables-0.12.15.min.css\");\n      Bokeh.embed.inject_css(\"https://cdn.pydata.org/bokeh/release/bokeh-tables-0.12.15.min.css\");\n    }\n  ];\n\n  function run_inline_js() {\n    \n    if ((root.Bokeh !== undefined) || (force === true)) {\n      for (var i = 0; i < inline_js.length; i++) {\n        inline_js[i].call(root, root.Bokeh);\n      }if (force === true) {\n        display_loaded();\n      }} else if (Date.now() < root._bokeh_timeout) {\n      setTimeout(run_inline_js, 100);\n    } else if (!root._bokeh_failed_load) {\n      console.log(\"Bokeh: BokehJS failed to load within specified timeout.\");\n      root._bokeh_failed_load = true;\n    } else if (force !== true) {\n      var cell = $(document.getElementById(\"ec130175-7391-479c-a09b-c7dd6e276437\")).parents('.cell').data().cell;\n      cell.output_area.append_execute_result(NB_LOAD_WARNING)\n    }\n\n  }\n\n  if (root._bokeh_is_loading === 0) {\n    console.log(\"Bokeh: BokehJS loaded, going straight to plotting\");\n    run_inline_js();\n  } else {\n    load_libs(js_urls, function() {\n      console.log(\"Bokeh: BokehJS plotting callback run at\", now());\n      run_inline_js();\n    });\n  }\n}(window));"
     },
     "metadata": {},
     "output_type": "display_data"
    },
    {
     "name": "stdout",
     "output_type": "stream",
     "text": [
      "\n",
      "INSTALLED VERSIONS\n",
      "------------------\n",
      "commit: None\n",
      "python: 3.5.2.final.0\n",
      "python-bits: 64\n",
      "OS: Linux\n",
      "OS-release: 4.4.0-17134-Microsoft\n",
      "machine: x86_64\n",
      "processor: x86_64\n",
      "byteorder: little\n",
      "LC_ALL: None\n",
      "LANG: en_US.UTF-8\n",
      "LOCALE: en_US.UTF-8\n",
      "\n",
      "pandas: 0.24.2\n",
      "pytest: None\n",
      "pip: 8.1.1\n",
      "setuptools: 40.8.0\n",
      "Cython: None\n",
      "numpy: 1.16.2\n",
      "scipy: 1.2.1\n",
      "pyarrow: None\n",
      "xarray: None\n",
      "IPython: 7.4.0\n",
      "sphinx: None\n",
      "patsy: 0.5.1\n",
      "dateutil: 2.8.0\n",
      "pytz: 2018.9\n",
      "blosc: None\n",
      "bottleneck: None\n",
      "tables: None\n",
      "numexpr: None\n",
      "feather: None\n",
      "matplotlib: 3.0.3\n",
      "openpyxl: None\n",
      "xlrd: None\n",
      "xlwt: None\n",
      "xlsxwriter: None\n",
      "lxml.etree: 4.2.1\n",
      "bs4: 4.7.1\n",
      "html5lib: 0.999\n",
      "sqlalchemy: 1.2.7\n",
      "pymysql: None\n",
      "psycopg2: 2.7.7 (dt dec pq3 ext lo64)\n",
      "jinja2: 2.10\n",
      "s3fs: None\n",
      "fastparquet: None\n",
      "pandas_gbq: None\n",
      "pandas_datareader: None\n",
      "gcsfs: None\n"
     ]
    },
    {
     "name": "stderr",
     "output_type": "stream",
     "text": [
      "/home/adam/.pyenv/ep-chan/lib/python3.5/site-packages/psycopg2/__init__.py:144: UserWarning: The psycopg2 wheel package will be renamed from release 2.8; in order to keep installing from binary please use \"pip install psycopg2-binary\" instead. For details see: <http://initd.org/psycopg/docs/install.html#binary-install-from-pypi>.\n",
      "  \"\"\")\n"
     ]
    }
   ],
   "source": [
    "#import tushare as ts\n",
    "import quandl\n",
    "import pandas as pd\n",
    "import seaborn as sns\n",
    "\n",
    "from bokeh.plotting import figure\n",
    "from bokeh.io import output_notebook, show\n",
    "from bokeh.models import ColumnDataSource\n",
    "\n",
    "from datetime import datetime\n",
    "\n",
    "output_notebook()\n",
    "pd.show_versions()"
   ]
  },
  {
   "cell_type": "markdown",
   "metadata": {},
   "source": [
    "The first task is to get a workable dataset. We can do this using *Tushare*."
   ]
  },
  {
   "cell_type": "code",
   "execution_count": 4,
   "metadata": {},
   "outputs": [
    {
     "name": "stdout",
     "output_type": "stream",
     "text": [
      "          Date   Open     High      Low  Close      Volume  Ex-Dividend  \\\n",
      "0   2016-01-04  42.34  42.5000  41.9650  42.40  16084145.0          0.0   \n",
      "1   2016-01-05  42.31  42.6250  42.1700  42.55  15769463.0          0.0   \n",
      "2   2016-01-06  42.20  42.5100  42.0400  42.32  16245132.0          0.0   \n",
      "3   2016-01-07  41.65  42.1100  41.4496  41.62  20561556.0          0.0   \n",
      "4   2016-01-08  41.65  42.1200  41.4100  41.51  14645738.0          0.0   \n",
      "5   2016-01-11  41.58  41.8599  41.2900  41.58  15807748.0          0.0   \n",
      "6   2016-01-12  42.30  42.4500  41.8700  42.12  21814837.0          0.0   \n",
      "7   2016-01-13  42.17  42.5700  41.7900  41.85  16854282.0          0.0   \n",
      "8   2016-01-14  41.99  42.1700  41.6400  41.88  16027468.0          0.0   \n",
      "9   2016-01-15  40.95  41.5900  40.9260  41.50  21153542.0          0.0   \n",
      "10  2016-01-19  41.77  42.1200  41.6500  41.92  15462140.0          0.0   \n",
      "11  2016-01-20  41.45  41.6200  40.7500  41.38  19923495.0          0.0   \n",
      "12  2016-01-21  41.45  41.5100  41.0861  41.39  15558254.0          0.0   \n",
      "13  2016-01-22  41.64  42.2385  41.4500  42.06  15209235.0          0.0   \n",
      "14  2016-01-25  42.24  42.5000  41.9300  42.16  12505160.0          0.0   \n",
      "15  2016-01-26  42.16  42.5000  41.9300  42.08  13018471.0          0.0   \n",
      "16  2016-01-27  42.18  42.4600  41.8100  42.09  14167006.0          0.0   \n",
      "17  2016-01-28  42.18  42.7200  42.0600  42.57  16622810.0          0.0   \n",
      "18  2016-01-29  42.86  43.2600  42.6500  42.92  20456815.0          0.0   \n",
      "19  2016-02-01  42.60  43.1500  42.5700  43.00  17097846.0          0.0   \n",
      "20  2016-02-02  42.70  42.7900  42.4050  42.44  12332896.0          0.0   \n",
      "21  2016-02-03  42.80  42.9350  42.2800  42.72  15958302.0          0.0   \n",
      "22  2016-02-04  42.52  42.8900  42.4000  42.53  14413744.0          0.0   \n",
      "23  2016-02-05  42.93  42.9900  42.2600  42.44  17315347.0          0.0   \n",
      "24  2016-02-08  42.17  42.7000  41.9000  42.65  17253832.0          0.0   \n",
      "25  2016-02-09  42.26  43.4900  42.2600  43.30  24853137.0          0.0   \n",
      "26  2016-02-10  43.34  43.3900  42.5100  42.55  16728238.0          0.0   \n",
      "27  2016-02-11  42.03  42.6100  41.9800  42.41  16825337.0          0.0   \n",
      "28  2016-02-12  42.72  43.1350  42.5600  43.11  15220530.0          0.0   \n",
      "29  2016-02-16  43.32  43.4600  43.0200  43.36  12675761.0          0.0   \n",
      "..         ...    ...      ...      ...    ...         ...          ...   \n",
      "472 2017-11-16  46.95  46.9800  46.5100  46.55  12495519.0          0.0   \n",
      "473 2017-11-17  46.34  46.3800  45.2500  45.71  19691311.0          0.0   \n",
      "474 2017-11-20  45.65  45.8800  45.4200  45.46  19146781.0          0.0   \n",
      "475 2017-11-21  45.56  45.9500  45.5400  45.78  10204728.0          0.0   \n",
      "476 2017-11-22  45.89  45.9300  45.5400  45.84   8121139.0          0.0   \n",
      "477 2017-11-24  45.89  46.0450  45.8600  45.88   2996338.0          0.0   \n",
      "478 2017-11-27  45.88  45.9900  45.8100  45.90   5629616.0          0.0   \n",
      "479 2017-11-28  45.99  46.1500  45.7800  45.83   8306301.0          0.0   \n",
      "480 2017-11-29  45.77  45.8200  45.2100  45.50  16435888.0          0.0   \n",
      "481 2017-11-30  45.14  45.8400  45.0300  45.77  16358425.0          0.0   \n",
      "482 2017-12-01  45.80  46.0200  45.2100  45.97  12467724.0          0.0   \n",
      "483 2017-12-04  45.99  46.3780  45.7700  46.23  17503101.0          0.0   \n",
      "484 2017-12-05  46.25  46.4400  46.0600  46.26  13452712.0          0.0   \n",
      "485 2017-12-06  46.33  46.4800  46.2612  46.45   8137495.0          0.0   \n",
      "486 2017-12-07  46.29  46.3200  45.7200  45.78   9064074.0          0.0   \n",
      "487 2017-12-08  45.70  45.7300  45.0500  45.31  13026731.0          0.0   \n",
      "488 2017-12-11  45.18  45.4100  44.9200  45.33   9593906.0          0.0   \n",
      "489 2017-12-12  45.25  45.5200  45.0600  45.29  13906775.0          0.0   \n",
      "490 2017-12-13  45.45  46.0500  45.4000  45.90  12212789.0          0.0   \n",
      "491 2017-12-14  45.90  46.1700  45.8000  46.03   8932016.0          0.0   \n",
      "492 2017-12-15  46.29  46.4200  46.0400  46.19  20161432.0          0.0   \n",
      "493 2017-12-18  46.23  46.3800  45.9100  45.93  10021802.0          0.0   \n",
      "494 2017-12-19  46.08  46.3800  45.9100  46.13   7727552.0          0.0   \n",
      "495 2017-12-20  46.18  46.3000  45.9550  46.08   7296074.0          0.0   \n",
      "496 2017-12-21  46.15  46.2200  45.5600  45.60   9391253.0          0.0   \n",
      "497 2017-12-22  45.64  45.7300  45.5500  45.59   5394639.0          0.0   \n",
      "498 2017-12-26  45.70  45.8550  45.6100  45.81   6043871.0          0.0   \n",
      "499 2017-12-27  45.90  45.9400  45.7150  45.93   5041455.0          0.0   \n",
      "500 2017-12-28  45.91  45.9900  45.6400  45.72   5642213.0          0.0   \n",
      "501 2017-12-29  45.70  46.1800  45.6925  45.88   8293714.0          0.0   \n",
      "\n",
      "     Split Ratio  Adj. Open  Adj. High   Adj. Low  Adj. Close  Adj. Volume  \n",
      "0            1.0  39.990337  40.141458  39.636148   40.047007   16084145.0  \n",
      "1            1.0  39.962002  40.259521  39.829771   40.188683   15769463.0  \n",
      "2            1.0  39.858106  40.150903  39.706985   39.971447   16245132.0  \n",
      "3            1.0  39.338629  39.773101  39.149350   39.310293   20561556.0  \n",
      "4            1.0  39.338629  39.782546  39.111947   39.206398   14645738.0  \n",
      "5            1.0  39.272513  39.536880  38.998607   39.272513   15807748.0  \n",
      "6            1.0  39.952557  40.094232  39.546420   39.782546   21814837.0  \n",
      "7            1.0  39.829771  40.207573  39.470859   39.527530   16854282.0  \n",
      "8            1.0  39.659760  39.829771  39.329184   39.555865   16027468.0  \n",
      "9            1.0  38.677475  39.281958  38.654807   39.196953   21153542.0  \n",
      "10           1.0  39.451969  39.782546  39.338629   39.593645   15462140.0  \n",
      "11           1.0  39.149728  39.310293  38.488574   39.083612   19923495.0  \n",
      "12           1.0  39.149728  39.206398  38.806022   39.093057   15558254.0  \n",
      "13           1.0  39.329184  39.894470  39.149728   39.725876   15209235.0  \n",
      "14           1.0  39.895886  40.141458  39.603090   39.820326   12505160.0  \n",
      "15           1.0  39.820326  40.141458  39.603090   39.744766   13018471.0  \n",
      "16           1.0  39.839216  40.103678  39.489749   39.754211   14167006.0  \n",
      "17           1.0  39.839216  40.349249  39.725876   40.207573   16622810.0  \n",
      "18           1.0  40.481479  40.859281  40.283133   40.538150   20456815.0  \n",
      "19           1.0  40.235908  40.755386  40.207573   40.613710   17097846.0  \n",
      "20           1.0  40.330359  40.415364  40.051730   40.084787   12332896.0  \n",
      "21           1.0  40.424809  40.552317  39.933667   40.349249   15958302.0  \n",
      "22           1.0  40.160348  40.509815  40.047007   40.169793   14413744.0  \n",
      "23           1.0  40.547595  40.604265  39.914777   40.084787   17315347.0  \n",
      "24           1.0  39.829771  40.330359  39.574755   40.283133   17253832.0  \n",
      "25           1.0  39.914777  41.076518  39.914777   40.897062   24853137.0  \n",
      "26           1.0  40.934842  40.982067  40.150903   40.188683   16728238.0  \n",
      "27           1.0  39.697540  40.245353  39.650315   40.056452   16825337.0  \n",
      "28           1.0  40.349249  40.741218  40.198128   40.717606   15220530.0  \n",
      "29           1.0  40.915952  41.048182  40.632600   40.953732   12675761.0  \n",
      "..           ...        ...        ...        ...         ...          ...  \n",
      "472          1.0  46.950000  46.980000  46.510000   46.550000   12495519.0  \n",
      "473          1.0  46.340000  46.380000  45.250000   45.710000   19691311.0  \n",
      "474          1.0  45.650000  45.880000  45.420000   45.460000   19146781.0  \n",
      "475          1.0  45.560000  45.950000  45.540000   45.780000   10204728.0  \n",
      "476          1.0  45.890000  45.930000  45.540000   45.840000    8121139.0  \n",
      "477          1.0  45.890000  46.045000  45.860000   45.880000    2996338.0  \n",
      "478          1.0  45.880000  45.990000  45.810000   45.900000    5629616.0  \n",
      "479          1.0  45.990000  46.150000  45.780000   45.830000    8306301.0  \n",
      "480          1.0  45.770000  45.820000  45.210000   45.500000   16435888.0  \n",
      "481          1.0  45.140000  45.840000  45.030000   45.770000   16358425.0  \n",
      "482          1.0  45.800000  46.020000  45.210000   45.970000   12467724.0  \n",
      "483          1.0  45.990000  46.378000  45.770000   46.230000   17503101.0  \n",
      "484          1.0  46.250000  46.440000  46.060000   46.260000   13452712.0  \n",
      "485          1.0  46.330000  46.480000  46.261200   46.450000    8137495.0  \n",
      "486          1.0  46.290000  46.320000  45.720000   45.780000    9064074.0  \n",
      "487          1.0  45.700000  45.730000  45.050000   45.310000   13026731.0  \n",
      "488          1.0  45.180000  45.410000  44.920000   45.330000    9593906.0  \n",
      "489          1.0  45.250000  45.520000  45.060000   45.290000   13906775.0  \n",
      "490          1.0  45.450000  46.050000  45.400000   45.900000   12212789.0  \n",
      "491          1.0  45.900000  46.170000  45.800000   46.030000    8932016.0  \n",
      "492          1.0  46.290000  46.420000  46.040000   46.190000   20161432.0  \n",
      "493          1.0  46.230000  46.380000  45.910000   45.930000   10021802.0  \n",
      "494          1.0  46.080000  46.380000  45.910000   46.130000    7727552.0  \n",
      "495          1.0  46.180000  46.300000  45.955000   46.080000    7296074.0  \n",
      "496          1.0  46.150000  46.220000  45.560000   45.600000    9391253.0  \n",
      "497          1.0  45.640000  45.730000  45.550000   45.590000    5394639.0  \n",
      "498          1.0  45.700000  45.855000  45.610000   45.810000    6043871.0  \n",
      "499          1.0  45.900000  45.940000  45.715000   45.930000    5041455.0  \n",
      "500          1.0  45.910000  45.990000  45.640000   45.720000    5642213.0  \n",
      "501          1.0  45.700000  46.180000  45.692500   45.880000    8293714.0  \n",
      "\n",
      "[502 rows x 13 columns]\n"
     ]
    }
   ],
   "source": [
    "import os\n",
    "\n",
    "#df = ts.get_hist_data('sh', start='2014-04-30', end='2018-04-30', ktype='M') # get shanghai A share main index\n",
    "df = quandl.get(\"WIKI/KO\", start_date=\"2016-01-01\", end_date=\"2018-01-01\", api_key=os.environ['QUANDL_API_KEY'])\n",
    "df = df.reset_index() # reset index of the dataframe\n",
    "df['Date'] = pd.to_datetime(df['Date']) # convert str to datetime\n",
    "print(df)"
   ]
  },
  {
   "cell_type": "markdown",
   "metadata": {},
   "source": [
    "## Stationary Test\n",
    "\n",
    "### ADF test\n",
    "\n",
    "ADF test is included in *statsmodels* module."
   ]
  },
  {
   "cell_type": "code",
   "execution_count": 5,
   "metadata": {},
   "outputs": [
    {
     "name": "stdout",
     "output_type": "stream",
     "text": [
      "(-2.0618550806365867, 0.2601267813146223, 0, 501, {'10%': -2.569851849873108, '1%': -3.443470002903981, '5%': -2.867326248740681}, 307.3872263966549)\n"
     ]
    },
    {
     "data": {
      "text/html": [
       "\n",
       "<div class=\"bk-root\">\n",
       "    <div class=\"bk-plotdiv\" id=\"0b3d9a45-9960-49b7-997c-56a0eb3b1f50\"></div>\n",
       "</div>"
      ]
     },
     "metadata": {},
     "output_type": "display_data"
    },
    {
     "data": {
      "application/javascript": [
       "(function(root) {\n",
       "  function embed_document(root) {\n",
       "    \n",
       "  var docs_json = {\"0508e772-eb96-4a9b-b9fa-078e50da835e\":{\"roots\":{\"references\":[{\"attributes\":{\"active_drag\":\"auto\",\"active_inspect\":\"auto\",\"active_scroll\":\"auto\",\"active_tap\":\"auto\",\"tools\":[{\"id\":\"96468617-2778-4ecc-9593-2d9f40bdf516\",\"type\":\"PanTool\"},{\"id\":\"86188337-b34d-4542-a3d6-aa3b45bbe22e\",\"type\":\"WheelZoomTool\"},{\"id\":\"13fcbebe-7430-43eb-811d-f88811fd5f52\",\"type\":\"BoxZoomTool\"},{\"id\":\"db94d586-4048-4d26-8c60-ae7e8e39202f\",\"type\":\"SaveTool\"},{\"id\":\"d5d01d4b-38a8-4ffa-b79f-7b4411628465\",\"type\":\"ResetTool\"},{\"id\":\"f69a5157-9fef-44a2-affb-cc087e5da958\",\"type\":\"HelpTool\"}]},\"id\":\"64127704-320b-4ef8-97cd-5f3c51f3309d\",\"type\":\"Toolbar\"},{\"attributes\":{\"formatter\":{\"id\":\"7e372a1c-9f10-4047-987d-098f4780fadc\",\"type\":\"BasicTickFormatter\"},\"plot\":{\"id\":\"ce7fcf7c-e237-4a45-8763-97c56608192d\",\"subtype\":\"Figure\",\"type\":\"Plot\"},\"ticker\":{\"id\":\"ba28b224-7905-47a5-be74-6b76c246d272\",\"type\":\"BasicTicker\"}},\"id\":\"52d223fe-942d-428d-9256-8bda723f77cf\",\"type\":\"LinearAxis\"},{\"attributes\":{\"days\":[1,15]},\"id\":\"5665cbbb-42cc-401f-a542-09c5f5557772\",\"type\":\"DaysTicker\"},{\"attributes\":{\"months\":[0,6]},\"id\":\"b5964833-fada-40bd-bfc7-e6c92fc8361a\",\"type\":\"MonthsTicker\"},{\"attributes\":{\"line_alpha\":0.1,\"line_color\":\"#1f77b4\",\"line_width\":2,\"x\":{\"field\":\"Date\"},\"y\":{\"field\":\"Close\"}},\"id\":\"87099479-6632-418e-a1cf-818e0fa61cf3\",\"type\":\"Line\"},{\"attributes\":{\"line_color\":\"#1f77b4\",\"line_width\":2,\"x\":{\"field\":\"Date\"},\"y\":{\"field\":\"Close\"}},\"id\":\"5692f321-d134-426b-84e9-0b782a33a3c4\",\"type\":\"Line\"},{\"attributes\":{\"days\":[1,4,7,10,13,16,19,22,25,28]},\"id\":\"b278f1f1-0dc2-4b4a-94f7-34c6b1846cc9\",\"type\":\"DaysTicker\"},{\"attributes\":{},\"id\":\"5cf95ba6-08f6-4b0f-91a9-63da4d385300\",\"type\":\"YearsTicker\"},{\"attributes\":{\"base\":60,\"mantissas\":[1,2,5,10,15,20,30],\"max_interval\":1800000.0,\"min_interval\":1000.0,\"num_minor_ticks\":0},\"id\":\"faf85566-3b41-41a6-8c63-8e642e5776fa\",\"type\":\"AdaptiveTicker\"},{\"attributes\":{\"months\":[0,2,4,6,8,10]},\"id\":\"d4775ee8-8045-4c45-a37d-73abd8c38e38\",\"type\":\"MonthsTicker\"},{\"attributes\":{\"callback\":null,\"column_names\":[\"Adj. Low\",\"Ex-Dividend\",\"Volume\",\"index\",\"High\",\"Adj. High\",\"Adj. Close\",\"Open\",\"Adj. Open\",\"Date\",\"Split Ratio\",\"Low\",\"Adj. Volume\",\"Close\"],\"data\":{\"Adj. Close\":{\"__ndarray__\":\"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\",\"dtype\":\"float64\",\"shape\":[502]},\"Adj. High\":{\"__ndarray__\":\"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\",\"dtype\":\"float64\",\"shape\":[502]},\"Adj. Low\":{\"__ndarray__\":\"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\",\"dtype\":\"float64\",\"shape\":[502]},\"Adj. Open\":{\"__ndarray__\":\"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\",\"dtype\":\"float64\",\"shape\":[502]},\"Adj. Volume\":{\"__ndarray__\":\"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\",\"dtype\":\"float64\",\"shape\":[502]},\"Close\":{\"__ndarray__\":\"MzMzMzMzRUBmZmZmZkZFQClcj8L1KEVAj8L1KFzPREDhehSuR8FEQArXo3A9ykRAj8L1KFwPRUDNzMzMzOxEQHE9Ctej8ERAAAAAAADARED2KFyPwvVEQHE9CtejsERAUrgeheuxREBI4XoUrgdFQBSuR+F6FEVACtejcD0KRUDsUbgehQtFQClcj8L1SEVA9ihcj8J1RUAAAAAAAIBFQLgehetROEVAXI/C9ShcRUCkcD0K10NFQLgehetROEVAMzMzMzNTRUBmZmZmZqZFQGZmZmZmRkVAFK5H4Xo0RUCuR+F6FI5FQK5H4XoUrkVAH4XrUbi+RUCuR+F6FM5FQMP1KFyP4kVAuB6F61H4RUC4HoXrUdhFQBSuR+F69EVAFK5H4XoURkBSuB6F65FFQHE9CtejkEVAuB6F61HYRUDD9Shcj+JFQHsUrkfh+kVArkfhehQORkDhehSuRwFGQClcj8L1KEZASOF6FK5nRkA9CtejcJ1GQJqZmZmZmUZAhetRuB6lRkAfhetRuJ5GQGZmZmZmhkZAw/UoXI/iRkDNzMzMzMxGQPYoXI/C1UZAAAAAAADARkB7FK5H4bpGQArXo3A9ykZAZmZmZmbmRkA9CtejcD1HQArXo3A9SkdAUrgehesxR0AK16NwPWpHQFK4HoXrcUdApHA9CtdDR0B7FK5H4VpHQK5H4XoULkdAj8L1KFxvR0C4HoXrUThHQDMzMzMzU0dAhetRuB4FR0AK16NwPepGQM3MzMzMDEdAXI/C9SgcR0DNzMzMzExHQI/C9ShcL0ZAFK5H4XrURUCF61G4HkVGQHsUrkfhWkZApHA9CtdDRkDXo3A9CldGQHE9CtejUEZAZmZmZmZmRkA9CtejcH1GQOxRuB6Fa0ZAPQrXo3B9RkBI4XoUrodGQClcj8L1qEZAH4XrUbieRkAAAAAAAOBGQHsUrkfhukZACtejcD3qRkDNzMzMzKxGQI/C9Shcz0ZAAAAAAABgRkA9CtejcD1GQClcj8L1KEZAmpmZmZn5RUBcj8L1KPxFQI/C9ShcL0ZAcT0K16MwRkC4HoXrUVhGQKRwPQrXY0ZAzczMzMxMRkCamZmZmVlGQFyPwvUoXEZAhetRuB6FRkCPwvUoXK9GQClcj8L1qEZAZmZmZmbGRkDhehSuR+FGQB+F61G4/kZAj8L1KFyPRkCF61G4HoVGQOF6FK5HgUZASOF6FK6nRkCF61G4HmVGQD0K16NwfUZAcT0K16OQRkCuR+F6FG5GQArXo3A9ikZA16NwPQr3RUCkcD0K1+NFQNejcD0KF0ZAuB6F61E4RkAK16NwPapGQI/C9Shcj0ZA16NwPQq3RkDD9Shcj6JGQOxRuB6Fi0ZAcT0K16OwRkApXI/C9chGQArXo3A9ykZAH4XrUbjeRkC4HoXrUdhGQHE9Ctej0EZAcT0K16PQRkBxPQrXo9BGQOF6FK5HwUZAmpmZmZm5RkAK16NwPepGQClcj8L1yEZAcT0K16NwRkAzMzMzM7NFQDMzMzMz00VAcT0K16PQRUCamZmZmblFQKRwPQrXw0VAUrgehevRRUDhehSuR8FFQD0K16NwvUVAuB6F61G4RUBcj8L1KLxFQK5H4XoUzkVAAAAAAADgRUCkcD0K1wNGQB+F61G4HkZACtejcD3qRUBI4XoUrgdGQM3MzMzMDEZA9ihcj8L1RUAfhetRuN5FQM3MzMzM7EVAzczMzMzsRUD2KFyPwtVFQClcj8L1qEVAhetRuB7FRUAfhetRuJ5FQNejcD0Kt0VAzczMzMysRUAUrkfhetRFQIXrUbge5UVAUrgehevRRUBxPQrXo9BFQMP1KFyPIkVAuB6F61GYRUCkcD0K1yNFQK5H4XoUDkVArkfhehQuRUBSuB6F6xFFQM3MzMzMDEVA7FG4HoUrRUCkcD0K10NFQHsUrkfhekVAH4XrUbheRUBmZmZmZgZFQOxRuB6FS0VAMzMzMzMTRUCkcD0K1wNFQClcj8L1KEVApHA9CtcDRUDsUbgehetEQEjhehSu50RAexSuR+HaREA9CtejcN1EQD0K16Nw3URAhetRuB7FRECkcD0K1+NEQOF6FK5H4URA9ihcj8LVREDNzMzMzMxEQFyPwvUo/ERAZmZmZmYGRUDXo3A9CvdEQHE9CtejEEVASOF6FK5HRUCF61G4HkVFQLgehetROEVAj8L1KFwPRUA9CtejcB1FQDMzMzMzM0VAj8L1KFwPRUBmZmZmZgZFQKRwPQrXA0VAuB6F61HYREB7FK5H4TpFQHE9CtejcEVAw/UoXI8iRUC4HoXrUXhEQKRwPQrXg0RA9ihcj8KVREC4HoXrUbhEQOF6FK5HoURAj8L1KFyPREAUrkfhenREQK5H4XoUrkRAj8L1KFyvRECPwvUoXI9EQKRwPQrXw0RAAAAAAADgREAzMzMzM5NEQM3MzMzMLERA9ihcj8IVRECuR+F6FC5EQI/C9ShcT0RAKVyPwvVIRECF61G4HqVEQD0K16NwfURAAAAAAAAARUAzMzMzM/NEQOF6FK5H4URAexSuR+GaREBmZmZmZsZEQB+F61G43kRA9ihcj8LVREAUrkfhetREQClcj8L1yERAZmZmZmbGREDNzMzMzMxEQK5H4XoUzkRAUrgeheuxREDNzMzMzMxEQHsUrkfhukRAZmZmZmbmREAzMzMzM9NEQAAAAAAA4ERAH4XrUbjeREApXI/C9ahEQIXrUbgehURAZmZmZmaGRECamZmZmXlEQHE9CtejcERAXI/C9SicRECF61G4HqVEQFK4HoXrkURAKVyPwvWoREDXo3A9CrdEQDMzMzMz80RAj8L1KFwPRUBI4XoUrudEQJqZmZmZuURAcT0K16OwREApXI/C9chEQOF6FK5HoURAMzMzMzOzRECF61G4HsVEQEjhehSux0RAMzMzMzPzREDD9ShcjwJFQAAAAAAAoERACtejcD1KRECPwvUoXE9EQKRwPQrXQ0RAuB6F61E4RECamZmZmZlEQD0K16NwnURAexSuR+G6REDNzMzMzMxEQBSuR+F61ERApHA9CtfjRED2KFyPwtVEQHsUrkfh+kRAFK5H4XoURUBcj8L1KDxFQD0K16NwPUVA16NwPQoXRUAfhetRuP5EQB+F61G4/kRApHA9CtcDRUCF61G4HiVFQKRwPQrXA0VAXI/C9Sj8RECPwvUoXA9FQAAAAAAAIEVApHA9CtcDRUDXo3A9ChdFQAAAAAAAQEVAcT0K16MwRUD2KFyPwhVFQI/C9ShcD0VAKVyPwvUoRUDXo3A9CjdFQPYoXI/CNUVAzczMzMxMRUC4HoXrUThFQBSuR+F6NEVA16NwPQpXRUApXI/C9UhFQPYoXI/CVUVArkfhehRORUC4HoXrUVhFQBSuR+F6VEVAuB6F61F4RUCF61G4HmVFQClcj8L1iEVAPQrXo3C9RUA9CtejcJ1FQOxRuB6Fi0VAKVyPwvWIRUCkcD0K16NFQK5H4XoUjkVAH4XrUbieRUDhehSuR4FFQDMzMzMzk0VAXI/C9SicRUBSuB6F67FFQClcj8L1qEVAFK5H4XrURUC4HoXrUdhFQFK4HoXr8UVA4XoUrkfBRUApXI/C9chFQPYoXI/C1UVA7FG4HoXLRUA9CtejcN1FQM3MzMzM7EVA16NwPQr3RUBmZmZmZuZFQDMzMzMz80VA16NwPQoXRkBSuB6F6zFGQKRwPQrXg0ZAFK5H4Xq0RkBSuB6F67FGQNejcD0Kt0ZAXI/C9Si8RkCF61G4HuVGQFK4HoXr8UZAH4XrUbj+RkA9CtejcP1GQOF6FK5HwUZAcT0K16OQRkApXI/C9ahGQArXo3A9qkZApHA9CteDRkBmZmZmZqZGQAAAAAAAoEZASOF6FK6nRkBxPQrXo7BGQK5H4XoUzkZAXI/C9SicRkApXI/C9YhGQAAAAAAAoEZA16NwPQq3RkBmZmZmZoZGQClcj8L1qEZACtejcD1qRkDNzMzMzGxGQOF6FK5HYUZAKVyPwvVoRkAzMzMzMzNGQFK4HoXrMUZAcT0K16MwRkAK16NwPSpGQOF6FK5HQUZA16NwPQo3RkDXo3A9CldGQD0K16NwXUZA9ihcj8JVRkAK16NwPWpGQClcj8L1aEZApHA9CteDRkDsUbgehWtGQB+F61G4nkZAH4XrUbjeRkCPwvUoXA9HQOF6FK5HAUdA7FG4HoXrRkCamZmZmdlGQOxRuB6Fy0ZA9ihcj8LVRkAAAAAAAMBGQFK4HoXr0UZAzczMzMzMRkDsUbgehctGQB+F61G43kZA7FG4HoXLRkBmZmZmZuZGQLgehetRGEdAmpmZmZkZR0CuR+F6FO5GQPYoXI/C1UZA16NwPQrXRkDNzMzMzMxGQIXrUbgexUZAFK5H4Xq0RkApXI/C9chGQPYoXI/CtUZAmpmZmZm5RkBSuB6F67FGQGZmZmZmxkZApHA9CtfjRkD2KFyPwvVGQHsUrkfh+kZApHA9CtcjR0BmZmZmZiZHQMP1KFyPQkdAXI/C9ShcR0CPwvUoXG9HQK5H4XoUDkdA16NwPQoXR0CuR+F6FA5HQD0K16Nw/UZApHA9CtfjRkAzMzMzM7NGQB+F61G4vkZAuB6F61HYRkApXI/C9chGQFK4HoXrUUZAFK5H4Xp0RkDhehSuR4FGQGZmZmZmZkZAuB6F61GYRkAAAAAAAMBGQMP1KFyPwkZAH4XrUbi+RkAUrkfherRGQI/C9Shc70ZAzczMzMwMR0CuR+F6FA5HQNejcD0KF0dAj8L1KFxPR0DD9Shcj0JHQDMzMzMzM0dA7FG4HoVLR0BxPQrXozBHQClcj8L1KEdA16NwPQoXR0DXo3A9CgdHQD0K16NwHUdAKVyPwvUIR0CuR+F6FO5GQD0K16Nw/UZAZmZmZmbmRkBxPQrXo/BGQFyPwvUo/EZAXI/C9Si8RkC4HoXrUfhGQD0K16NwHUdAhetRuB5FR0Bcj8L1KFxHQNejcD0Kt0dASOF6FK5nR0BmZmZmZkZHQHsUrkfh2kZAexSuR+G6RkCkcD0K1+NGQOxRuB6F60ZAcT0K16PwRkAzMzMzM/NGQArXo3A96kZAAAAAAADARkDD9Shcj+JGQFyPwvUo/EZAPQrXo3AdR0DhehSuRyFHQJqZmZmZOUdApHA9CtfjRkBI4XoUrqdGQArXo3A9qkZAhetRuB6lRkAzMzMzM/NGQKRwPQrXA0dAuB6F61EYR0DXo3A9CvdGQHE9CtejEEdACtejcD0KR0DNzMzMzMxGQOxRuB6Fy0ZASOF6FK7nRkDXo3A9CvdGQFyPwvUo3EZAcT0K16PwRkA=\",\"dtype\":\"float64\",\"shape\":[502]},\"Date\":{\"__ndarray__\":\"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\",\"dtype\":\"float64\",\"shape\":[502]},\"Ex-Dividend\":{\"__ndarray__\":\"AAAAAAAAAAAAAAAAAAAAAAAAAAAAAAAAAAAAAAAAAAAAAAAAAAAAAAAAAAAAAAAAAAAAAAAAAAAAAAAAAAAAAAAAAAAAAAAAAAAAAAAAAAAAAAAAAAAAAAAAAAAAAAAAAAAAAAAAAAAAAAAAAAAAAAAAAAAAAAAAAAAAAAAAAAAAAAAAAAAAAAAAAAAAAAAAAAAAAAAAAAAAAAAAAAAAAAAAAAAAAAAAAAAAAAAAAAAAAAAAAAAAAAAAAAAAAAAAAAAAAAAAAAAAAAAAAAAAAAAAAAAAAAAAAAAAAAAAAAAAAAAAAAAAAAAAAAAAAAAAAAAAAAAAAAAAAAAAAAAAAAAAAAAAAAAAAAAAAAAAAAAAAAAAAAAAAAAAAAAAAAAAAAAAAAAAAAAAAAAAAAAAAAAAAAAAAAAAAAAAAAAAAAAAAAAAAAAAAAAAAAAAAAAAAAAAAAAAAAAAAAAAAAAAAAAAAAAAAAAAAAAAAAAAAAAAAAAAAAAAAGZmZmZmZtY/AAAAAAAAAAAAAAAAAAAAAAAAAAAAAAAAAAAAAAAAAAAAAAAAAAAAAAAAAAAAAAAAAAAAAAAAAAAAAAAAAAAAAAAAAAAAAAAAAAAAAAAAAAAAAAAAAAAAAAAAAAAAAAAAAAAAAAAAAAAAAAAAAAAAAAAAAAAAAAAAAAAAAAAAAAAAAAAAAAAAAAAAAAAAAAAAAAAAAAAAAAAAAAAAAAAAAAAAAAAAAAAAAAAAAAAAAAAAAAAAAAAAAAAAAAAAAAAAAAAAAAAAAAAAAAAAAAAAAAAAAAAAAAAAAAAAAAAAAAAAAAAAAAAAAAAAAAAAAAAAAAAAAAAAAAAAAAAAAAAAAAAAAAAAAAAAAAAAAAAAAAAAAAAAAAAAAAAAAAAAAAAAAAAAAAAAAAAAAAAAAAAAAAAAAAAAAAAAAAAAAAAAAAAAAAAAAAAAAAAAAAAAAAAAAAAAAAAAAAAAAAAAAAAAAAAAAAAAAAAAAAAAAAAAAAAAAAAAAAAAAAAAAAAAAAAAAAAAAAAAAAAAAAAAAAAAAAAAAAAAAAAAAAAAAAAAAAAAAAAAAAAAAAAAAAAAAAAAAAAAAAAAAAAAAAAAAAAAAAAAAAAAAAAAAAAAAAAAAAAAAAAAAAAAAAAAAAAAAAAAAAAAAAAAAAAAAAAAAAAAAAAAAAAAAAAAZmZmZmZm1j8AAAAAAAAAAAAAAAAAAAAAAAAAAAAAAAAAAAAAAAAAAAAAAAAAAAAAAAAAAAAAAAAAAAAAAAAAAAAAAAAAAAAAAAAAAAAAAAAAAAAAAAAAAAAAAAAAAAAAAAAAAAAAAAAAAAAAAAAAAAAAAAAAAAAAAAAAAAAAAAAAAAAAAAAAAAAAAAAAAAAAAAAAAAAAAAAAAAAAAAAAAAAAAAAAAAAAAAAAAAAAAAAAAAAAAAAAAAAAAAAAAAAAAAAAAAAAAAAAAAAAAAAAAAAAAAAAAAAAAAAAAAAAAAAAAAAAAAAAAAAAAAAAAAAAAAAAAAAAAAAAAAAAAAAAAAAAAAAAAAAAAAAAAAAAAAAAAAAAAAAAAAAAAAAAAAAAAAAAAAAAAAAAAAAAAAAAAAAAAAAAAAAAAAAAAAAAAAAAAAAAAAAAAAAAAAAAAAAAAAAAAAAAAAAAAAAAAAAAAAAAAAAAAAAAAAAAAAAAAAAAAAAAAAAAAAAAAAAAAAAAAAAAAAAAAAAAAAAAAAAAAAAAAAAAAAAAAAAAAAAAAAAAAAAAAAAAAAAAAAAAAAAAAAAAAAAAAAAAAAAAAAAAAAAAAAAAAAAAAAAAAAAAAAAAAAAAAAAAAAAAAAAAAAAAAAAAAAAAAAAAAAAAAAAAAAAAAAAAAAAAAAAAAAAAAABmZmZmZmbWPwAAAAAAAAAAAAAAAAAAAAAAAAAAAAAAAAAAAAAAAAAAAAAAAAAAAAAAAAAAAAAAAAAAAAAAAAAAAAAAAAAAAAAAAAAAAAAAAAAAAAAAAAAAAAAAAAAAAAAAAAAAAAAAAAAAAAAAAAAAAAAAAAAAAAAAAAAAAAAAAAAAAAAAAAAAAAAAAAAAAAAAAAAAAAAAAAAAAAAAAAAAAAAAAAAAAAAAAAAAAAAAAAAAAAAAAAAAAAAAAAAAAAAAAAAAAAAAAAAAAAAAAAAAAAAAAAAAAAAAAAAAAAAAAAAAAAAAAAAAAAAAAAAAAAAAAAAAAAAAAAAAAAAAAAAAAAAAAAAAAAAAAAAAAAAAAAAAAAAAAAAAAAAAAAAAAAAAAAAAAAAAAAAAAAAAAAAAAAAAAAAAAAAAAAAAAAAAAAAAAAAAAAAAAAAAAAAAAAAAAAAAAAAAAAAAAAAAAAAAAAAAAAAAAAAAAAAAAAAAAAAAAAAAAAAAAAAAAAAAAAAAAAAAAAAAAAAAAAAAAAAAAAAAAAAAAAAAAAAAAAAAAAAAAAAAAAAAAAAAAAAAAABmZmZmZmbWPwAAAAAAAAAAAAAAAAAAAAAAAAAAAAAAAAAAAAAAAAAAAAAAAAAAAAAAAAAAAAAAAAAAAAAAAAAAAAAAAAAAAAAAAAAAAAAAAAAAAAAAAAAAAAAAAAAAAAAAAAAAAAAAAAAAAAAAAAAAAAAAAAAAAAAAAAAAAAAAAAAAAAAAAAAAAAAAAAAAAAAAAAAAAAAAAAAAAAAAAAAAAAAAAAAAAAAAAAAAAAAAAAAAAAAAAAAAAAAAAAAAAAAAAAAAAAAAAAAAAAAAAAAAAAAAAAAAAAAAAAAAAAAAAAAAAAAAAAAAAAAAAAAAAAAAAAAAAAAAAAAAAAAAAAAAAAAAAAAAAAAAAAAAAAAAAAAAAAAAAAAAAAAAAAAAAAAAAAAAAAAAAAAAAAAAAAAAAAAAAAAAAAAAAAAAAAAAAAAAAAAAAAAAAAAAAAAAAAAAAAAAAAAAAAAAAAAAAAAAAAAAAAAAAAAAAAAAAAAAAAAAAAAAAAAAAAAAAAAAAAAAAAAAAAAAAAAAAAAAAAAAAAAAAAAAAAAAAAAAAAAAAAAAAAAAAAAAAAAAAAAAAAAAAAAAAAAAAAAAAAAAAAAAAAAAAAAAAAAAAAAAAAAAAAAAAAAAAAAAAAAAAAAAAAAAAAAAAAAAAAAAAAAAAAAAAAAAAAAAAAAAAAAAAAAAAAAAAAAAAAAAAAAAAAAAAAAAAAAAAAAAAAAAAAAAAAAAAAAAAAAAAAAAAAAAAAAAAK5H4XoUrtc/AAAAAAAAAAAAAAAAAAAAAAAAAAAAAAAAAAAAAAAAAAAAAAAAAAAAAAAAAAAAAAAAAAAAAAAAAAAAAAAAAAAAAAAAAAAAAAAAAAAAAAAAAAAAAAAAAAAAAAAAAAAAAAAAAAAAAAAAAAAAAAAAAAAAAAAAAAAAAAAAAAAAAAAAAAAAAAAAAAAAAAAAAAAAAAAAAAAAAAAAAAAAAAAAAAAAAAAAAAAAAAAAAAAAAAAAAAAAAAAAAAAAAAAAAAAAAAAAAAAAAAAAAAAAAAAAAAAAAAAAAAAAAAAAAAAAAAAAAAAAAAAAAAAAAAAAAAAAAAAAAAAAAAAAAAAAAAAAAAAAAAAAAAAAAAAAAAAAAAAAAAAAAAAAAAAAAAAAAAAAAAAAAAAAAAAAAAAAAAAAAAAAAAAAAAAAAAAAAAAAAAAAAAAAAAAAAAAAAAAAAAAAAAAAAAAAAAAAAAAAAAAAAAAAAAAAAAAAAAAAAAAAAAAAAAAAAAAAAAAAAAAAAAAAAAAAAAAAAAAAAAAAAAAAAAAAAAAAAAAAAAAAAAAAAAAAAAAAAAAAAAAAAAAAAAAAAAAAAAAAAAAAAAAAAAAAAAAAAAAAAAAAAAAAAAAAAAAAAAAAAAAAAAAAAAAAAAAAAAAAAAAAAAAAAAAAAAAAAAAAAAAAAAAAAAAArkfhehSu1z8AAAAAAAAAAAAAAAAAAAAAAAAAAAAAAAAAAAAAAAAAAAAAAAAAAAAAAAAAAAAAAAAAAAAAAAAAAAAAAAAAAAAAAAAAAAAAAAAAAAAAAAAAAAAAAAAAAAAAAAAAAAAAAAAAAAAAAAAAAAAAAAAAAAAAAAAAAAAAAAAAAAAAAAAAAAAAAAAAAAAAAAAAAAAAAAAAAAAAAAAAAAAAAAAAAAAAAAAAAAAAAAAAAAAAAAAAAAAAAAAAAAAAAAAAAAAAAAAAAAAAAAAAAAAAAAAAAAAAAAAAAAAAAAAAAAAAAAAAAAAAAAAAAAAAAAAAAAAAAAAAAAAAAAAAAAAAAAAAAAAAAAAAAAAAAAAAAAAAAAAAAAAAAAAAAAAAAAAAAAAAAAAAAAAAAAAAAAAAAAAAAAAAAAAAAAAAAAAAAAAAAAAAAAAAAAAAAAAAAAAAAAAAAAAAAAAAAAAAAAAAAAAAAAAAAAAAAAAAAAAAAAAAAAAAAAAAAAAAAAAAAAAAAAAAAAAAAAAAAAAAAAAAAAAAAAAAAAAAAAAAAAAAAAAAAAAAAAAAAAAAAAAAAAAAAAAAAAAAAAAAAAAAAAAAAAAAAAAAAAAAAAAAAAAAAAAAAAAAAAAAAAAAAAAAAAAAAAAAAAAAAAAAAAAAAAAAAAAAAAAAAAAAAAAAAAAAAAAAAAAAAK5H4XoUrtc/AAAAAAAAAAAAAAAAAAAAAAAAAAAAAAAAAAAAAAAAAAAAAAAAAAAAAAAAAAAAAAAAAAAAAAAAAAAAAAAAAAAAAAAAAAAAAAAAAAAAAAAAAAAAAAAAAAAAAAAAAAAAAAAAAAAAAAAAAAAAAAAAAAAAAAAAAAAAAAAAAAAAAAAAAAAAAAAAAAAAAAAAAAAAAAAAAAAAAAAAAAAAAAAAAAAAAAAAAAAAAAAAAAAAAAAAAAAAAAAAAAAAAAAAAAAAAAAAAAAAAAAAAAAAAAAAAAAAAAAAAAAAAAAAAAAAAAAAAAAAAAAAAAAAAAAAAAAAAAAAAAAAAAAAAAAAAAAAAAAAAAAAAAAAAAAAAAAAAAAAAAAAAAAAAAAAAAAAAAAAAAAAAAAAAAAAAAAAAAAAAAAAAAAAAAAAAAAAAAAAAAAAAAAAAAAAAAAAAAAAAAAAAAAAAAAAAAAAAAAAAAAAAAAAAAAAAAAAAAAAAAAAAAAAAAAAAAAAAAAAAAAAAAAAAAAAAAAAAAAAAAAAAAAAAAAAAAAAAAAAAAAAAAAAAAAAAAAAAAAAAAAAAAAAAAAAAAAAAAAAAAAAAAAAAAAAAAAAAAAAAAAAAAAAAAAAAAAAAAAAAAAAAAAAAAAAAAAAAAAAAAAAAAAAAAAAAAAAAAAAAAAAAAAAAAAAAAAAAAAAAAAAAAAAAAAAAAAAAAAAAAAAAAAAAAAAAAAAAAAAAAAAAAAAAAAAAAAAAAAAAAAAAAAAAAAAAAAAAAAAAAAAAAAAAAAAAAAAAAA=\",\"dtype\":\"float64\",\"shape\":[502]},\"High\":{\"__ndarray__\":\"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\",\"dtype\":\"float64\",\"shape\":[502]},\"Low\":{\"__ndarray__\":\"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\",\"dtype\":\"float64\",\"shape\":[502]},\"Open\":{\"__ndarray__\":\"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\",\"dtype\":\"float64\",\"shape\":[502]},\"Split Ratio\":{\"__ndarray__\":\"AAAAAAAA8D8AAAAAAADwPwAAAAAAAPA/AAAAAAAA8D8AAAAAAADwPwAAAAAAAPA/AAAAAAAA8D8AAAAAAADwPwAAAAAAAPA/AAAAAAAA8D8AAAAAAADwPwAAAAAAAPA/AAAAAAAA8D8AAAAAAADwPwAAAAAAAPA/AAAAAAAA8D8AAAAAAADwPwAAAAAAAPA/AAAAAAAA8D8AAAAAAADwPwAAAAAAAPA/AAAAAAAA8D8AAAAAAADwPwAAAAAAAPA/AAAAAAAA8D8AAAAAAADwPwAAAAAAAPA/AAAAAAAA8D8AAAAAAADwPwAAAAAAAPA/AAAAAAAA8D8AAAAAAADwPwAAAAAAAPA/AAAAAAAA8D8AAAAAAADwPwAAAAAAAPA/AAAAAAAA8D8AAAAAAADwPwAAAAAAAPA/AAAAAAAA8D8AAAAAAADwPwAAAAAAAPA/AAAAAAAA8D8AAAAAAADwPwAAAAAAAPA/AAAAAAAA8D8AAAAAAADwPwAAAAAAAPA/AAAAAAAA8D8AAAAAAADwPwAAAAAAAPA/AAAAAAAA8D8AAAAAAADwPwAAAAAAAPA/AAAAAAAA8D8AAAAAAADwPwAAAAAAAPA/AAAAAAAA8D8AAAAAAADwPwAAAAAAAPA/AAAAAAAA8D8AAAAAAADwPwAAAAAAAPA/AAAAAAAA8D8AAAAAAADwPwAAAAAAAPA/AAAAAAAA8D8AAAAAAADwPwAAAAAAAPA/AAAAAAAA8D8AAAAAAADwPwAAAAAAAPA/AAAAAAAA8D8AAAAAAADwPwAAAAAAAPA/AAAAAAAA8D8AAAAAAADwPwAAAAAAAPA/AAAAAAAA8D8AAAAAAADwPwAAAAAAAPA/AAAAAAAA8D8AAAAAAADwPwAAAAAAAPA/AAAAAAAA8D8AAAAAAADwPwAAAAAAAPA/AAAAAAAA8D8AAAAAAADwPwAAAAAAAPA/AAAAAAAA8D8AAAAAAADwPwAAAAAAAPA/AAAAAAAA8D8AAAAAAADwPwAAAAAAAPA/AAAAAAAA8D8AAAAAAADwPwAAAAAAAPA/AAAAAAAA8D8AAAAAAADwPwAAAAAAAPA/AAAAAAAA8D8AAAAAAADwPwAAAAAAAPA/AAAAAAAA8D8AAAAAAADwPwAAAAAAAPA/AAAAAAAA8D8AAAAAAADwPwAAAAAAAPA/AAAAAAAA8D8AAAAAAADwPwAAAAAAAPA/AAAAAAAA8D8AAAAAAADwPwAAAAAAAPA/AAAAAAAA8D8AAAAAAADwPwAAAAAAAPA/AAAAAAAA8D8AAAAAAADwPwAAAAAAAPA/AAAAAAAA8D8AAAAAAADwPwAAAAAAAPA/AAAAAAAA8D8AAAAAAADwPwAAAAAAAPA/AAAAAAAA8D8AAAAAAADwPwAAAAAAAPA/AAAAAAAA8D8AAAAAAADwPwAAAAAAAPA/AAAAAAAA8D8AAAAAAADwPwAAAAAAAPA/AAAAAAAA8D8AAAAAAADwPwAAAAAAAPA/AAAAAAAA8D8AAAAAAADwPwAAAAAAAPA/AAAAAAAA8D8AAAAAAADwPwAAAAAAAPA/AAAAAAAA8D8AAAAAAADwPwAAAAAAAPA/AAAAAAAA8D8AAAAAAADwPwAAAAAAAPA/AAAAAAAA8D8AAAAAAADwPwAAAAAAAPA/AAAAAAAA8D8AAAAAAADwPwAAAAAAAPA/AAAAAAAA8D8AAAAAAADwPwAAAAAAAPA/AAAAAAAA8D8AAAAAAADwPwAAAAAAAPA/AAAAAAAA8D8AAAAAAADwPwAAAAAAAPA/AAAAAAAA8D8AAAAAAADwPwAAAAAAAPA/AAAAAAAA8D8AAAAAAADwPwAAAAAAAPA/AAAAAAAA8D8AAAAAAADwPwAAAAAAAPA/AAAAAAAA8D8AAAAAAADwPwAAAAAAAPA/AAAAAAAA8D8AAAAAAADwPwAAAAAAAPA/AAAAAAAA8D8AAAAAAADwPwAAAAAAAPA/AAAAAAAA8D8AAAAAAADwPwAAAAAAAPA/AAAAAAAA8D8AAAAAAADwPwAAAAAAAPA/AAAAAAAA8D8AAAAAAADwPwAAAAAAAPA/AAAAAAAA8D8AAAAAAADwPwAAAAAAAPA/AAAAAAAA8D8AAAAAAADwPwAAAAAAAPA/AAAAAAAA8D8AAAAAAADwPwAAAAAAAPA/AAAAAAAA8D8AAAAAAADwPwAAAAAAAPA/AAAAAAAA8D8AAAAAAADwPwAAAAAAAPA/AAAAAAAA8D8AAAAAAADwPwAAAAAAAPA/AAAAAAAA8D8AAAAAAADwPwAAAAAAAPA/AAAAAAAA8D8AAAAAAADwPwAAAAAAAPA/AAAAAAAA8D8AAAAAAADwPwAAAAAAAPA/AAAAAAAA8D8AAAAAAADwPwAAAAAAAPA/AAAAAAAA8D8AAAAAAADwPwAAAAAAAPA/AAAAAAAA8D8AAAAAAADwPwAAAAAAAPA/AAAAAAAA8D8AAAAAAADwPwAAAAAAAPA/AAAAAAAA8D8AAAAAAADwPwAAAAAAAPA/AAAAAAAA8D8AAAAAAADwPwAAAAAAAPA/AAAAAAAA8D8AAAAAAADwPwAAAAAAAPA/AAAAAAAA8D8AAAAAAADwPwAAAAAAAPA/AAAAAAAA8D8AAAAAAADwPwAAAAAAAPA/AAAAAAAA8D8AAAAAAADwPwAAAAAAAPA/AAAAAAAA8D8AAAAAAADwPwAAAAAAAPA/AAAAAAAA8D8AAAAAAADwPwAAAAAAAPA/AAAAAAAA8D8AAAAAAADwPwAAAAAAAPA/AAAAAAAA8D8AAAAAAADwPwAAAAAAAPA/AAAAAAAA8D8AAAAAAADwPwAAAAAAAPA/AAAAAAAA8D8AAAAAAADwPwAAAAAAAPA/AAAAAAAA8D8AAAAAAADwPwAAAAAAAPA/AAAAAAAA8D8AAAAAAADwPwAAAAAAAPA/AAAAAAAA8D8AAAAAAADwPwAAAAAAAPA/AAAAAAAA8D8AAAAAAADwPwAAAAAAAPA/AAAAAAAA8D8AAAAAAADwPwAAAAAAAPA/AAAAAAAA8D8AAAAAAADwPwAAAAAAAPA/AAAAAAAA8D8AAAAAAADwPwAAAAAAAPA/AAAAAAAA8D8AAAAAAADwPwAAAAAAAPA/AAAAAAAA8D8AAAAAAADwPwAAAAAAAPA/AAAAAAAA8D8AAAAAAADwPwAAAAAAAPA/AAAAAAAA8D8AAAAAAADwPwAAAAAAAPA/AAAAAAAA8D8AAAAAAADwPwAAAAAAAPA/AAAAAAAA8D8AAAAAAADwPwAAAAAAAPA/AAAAAAAA8D8AAAAAAADwPwAAAAAAAPA/AAAAAAAA8D8AAAAAAADwPwAAAAAAAPA/AAAAAAAA8D8AAAAAAADwPwAAAAAAAPA/AAAAAAAA8D8AAAAAAADwPwAAAAAAAPA/AAAAAAAA8D8AAAAAAADwPwAAAAAAAPA/AAAAAAAA8D8AAAAAAADwPwAAAAAAAPA/AAAAAAAA8D8AAAAAAADwPwAAAAAAAPA/AAAAAAAA8D8AAAAAAADwPwAAAAAAAPA/AAAAAAAA8D8AAAAAAADwPwAAAAAAAPA/AAAAAAAA8D8AAAAAAADwPwAAAAAAAPA/AAAAAAAA8D8AAAAAAADwPwAAAAAAAPA/AAAAAAAA8D8AAAAAAADwPwAAAAAAAPA/AAAAAAAA8D8AAAAAAADwPwAAAAAAAPA/AAAAAAAA8D8AAAAAAADwPwAAAAAAAPA/AAAAAAAA8D8AAAAAAADwPwAAAAAAAPA/AAAAAAAA8D8AAAAAAADwPwAAAAAAAPA/AAAAAAAA8D8AAAAAAADwPwAAAAAAAPA/AAAAAAAA8D8AAAAAAADwPwAAAAAAAPA/AAAAAAAA8D8AAAAAAADwPwAAAAAAAPA/AAAAAAAA8D8AAAAAAADwPwAAAAAAAPA/AAAAAAAA8D8AAAAAAADwPwAAAAAAAPA/AAAAAAAA8D8AAAAAAADwPwAAAAAAAPA/AAAAAAAA8D8AAAAAAADwPwAAAAAAAPA/AAAAAAAA8D8AAAAAAADwPwAAAAAAAPA/AAAAAAAA8D8AAAAAAADwPwAAAAAAAPA/AAAAAAAA8D8AAAAAAADwPwAAAAAAAPA/AAAAAAAA8D8AAAAAAADwPwAAAAAAAPA/AAAAAAAA8D8AAAAAAADwPwAAAAAAAPA/AAAAAAAA8D8AAAAAAADwPwAAAAAAAPA/AAAAAAAA8D8AAAAAAADwPwAAAAAAAPA/AAAAAAAA8D8AAAAAAADwPwAAAAAAAPA/AAAAAAAA8D8AAAAAAADwPwAAAAAAAPA/AAAAAAAA8D8AAAAAAADwPwAAAAAAAPA/AAAAAAAA8D8AAAAAAADwPwAAAAAAAPA/AAAAAAAA8D8AAAAAAADwPwAAAAAAAPA/AAAAAAAA8D8AAAAAAADwPwAAAAAAAPA/AAAAAAAA8D8AAAAAAADwPwAAAAAAAPA/AAAAAAAA8D8AAAAAAADwPwAAAAAAAPA/AAAAAAAA8D8AAAAAAADwPwAAAAAAAPA/AAAAAAAA8D8AAAAAAADwPwAAAAAAAPA/AAAAAAAA8D8AAAAAAADwPwAAAAAAAPA/AAAAAAAA8D8AAAAAAADwPwAAAAAAAPA/AAAAAAAA8D8AAAAAAADwPwAAAAAAAPA/AAAAAAAA8D8AAAAAAADwPwAAAAAAAPA/AAAAAAAA8D8AAAAAAADwPwAAAAAAAPA/AAAAAAAA8D8AAAAAAADwPwAAAAAAAPA/AAAAAAAA8D8AAAAAAADwPwAAAAAAAPA/AAAAAAAA8D8AAAAAAADwPwAAAAAAAPA/AAAAAAAA8D8AAAAAAADwPwAAAAAAAPA/AAAAAAAA8D8AAAAAAADwPwAAAAAAAPA/AAAAAAAA8D8AAAAAAADwPwAAAAAAAPA/AAAAAAAA8D8AAAAAAADwPwAAAAAAAPA/AAAAAAAA8D8AAAAAAADwPwAAAAAAAPA/AAAAAAAA8D8AAAAAAADwPwAAAAAAAPA/AAAAAAAA8D8AAAAAAADwPwAAAAAAAPA/AAAAAAAA8D8AAAAAAADwPwAAAAAAAPA/AAAAAAAA8D8AAAAAAADwPwAAAAAAAPA/AAAAAAAA8D8AAAAAAADwPwAAAAAAAPA/AAAAAAAA8D8AAAAAAADwPwAAAAAAAPA/AAAAAAAA8D8AAAAAAADwPwAAAAAAAPA/AAAAAAAA8D8AAAAAAADwPwAAAAAAAPA/AAAAAAAA8D8AAAAAAADwPwAAAAAAAPA/AAAAAAAA8D8AAAAAAADwPwAAAAAAAPA/AAAAAAAA8D8AAAAAAADwPwAAAAAAAPA/AAAAAAAA8D8=\",\"dtype\":\"float64\",\"shape\":[502]},\"Volume\":{\"__ndarray__\":\"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\",\"dtype\":\"float64\",\"shape\":[502]},\"index\":[0,1,2,3,4,5,6,7,8,9,10,11,12,13,14,15,16,17,18,19,20,21,22,23,24,25,26,27,28,29,30,31,32,33,34,35,36,37,38,39,40,41,42,43,44,45,46,47,48,49,50,51,52,53,54,55,56,57,58,59,60,61,62,63,64,65,66,67,68,69,70,71,72,73,74,75,76,77,78,79,80,81,82,83,84,85,86,87,88,89,90,91,92,93,94,95,96,97,98,99,100,101,102,103,104,105,106,107,108,109,110,111,112,113,114,115,116,117,118,119,120,121,122,123,124,125,126,127,128,129,130,131,132,133,134,135,136,137,138,139,140,141,142,143,144,145,146,147,148,149,150,151,152,153,154,155,156,157,158,159,160,161,162,163,164,165,166,167,168,169,170,171,172,173,174,175,176,177,178,179,180,181,182,183,184,185,186,187,188,189,190,191,192,193,194,195,196,197,198,199,200,201,202,203,204,205,206,207,208,209,210,211,212,213,214,215,216,217,218,219,220,221,222,223,224,225,226,227,228,229,230,231,232,233,234,235,236,237,238,239,240,241,242,243,244,245,246,247,248,249,250,251,252,253,254,255,256,257,258,259,260,261,262,263,264,265,266,267,268,269,270,271,272,273,274,275,276,277,278,279,280,281,282,283,284,285,286,287,288,289,290,291,292,293,294,295,296,297,298,299,300,301,302,303,304,305,306,307,308,309,310,311,312,313,314,315,316,317,318,319,320,321,322,323,324,325,326,327,328,329,330,331,332,333,334,335,336,337,338,339,340,341,342,343,344,345,346,347,348,349,350,351,352,353,354,355,356,357,358,359,360,361,362,363,364,365,366,367,368,369,370,371,372,373,374,375,376,377,378,379,380,381,382,383,384,385,386,387,388,389,390,391,392,393,394,395,396,397,398,399,400,401,402,403,404,405,406,407,408,409,410,411,412,413,414,415,416,417,418,419,420,421,422,423,424,425,426,427,428,429,430,431,432,433,434,435,436,437,438,439,440,441,442,443,444,445,446,447,448,449,450,451,452,453,454,455,456,457,458,459,460,461,462,463,464,465,466,467,468,469,470,471,472,473,474,475,476,477,478,479,480,481,482,483,484,485,486,487,488,489,490,491,492,493,494,495,496,497,498,499,500,501]},\"selected\":null,\"selection_policy\":null},\"id\":\"699c855f-05a9-4ad5-8d7d-fb4a322eea96\",\"type\":\"ColumnDataSource\"},{\"attributes\":{},\"id\":\"96468617-2778-4ecc-9593-2d9f40bdf516\",\"type\":\"PanTool\"},{\"attributes\":{\"plot\":{\"id\":\"ce7fcf7c-e237-4a45-8763-97c56608192d\",\"subtype\":\"Figure\",\"type\":\"Plot\"},\"ticker\":{\"id\":\"ff1109fa-4728-4c31-a567-30cdaaed1871\",\"type\":\"DatetimeTicker\"}},\"id\":\"c37189e4-b2ee-4b7e-b5de-5b4b1804dbea\",\"type\":\"Grid\"},{\"attributes\":{},\"id\":\"6166672a-3c10-41a7-8df1-d447e70421f8\",\"type\":\"DatetimeTickFormatter\"},{\"attributes\":{\"plot\":null,\"text\":\"\"},\"id\":\"5e09655c-2e2c-4521-8c0d-f84e4e8ee2b2\",\"type\":\"Title\"},{\"attributes\":{},\"id\":\"86188337-b34d-4542-a3d6-aa3b45bbe22e\",\"type\":\"WheelZoomTool\"},{\"attributes\":{},\"id\":\"60c0536e-c38e-4878-9a57-7864acc87a70\",\"type\":\"LinearScale\"},{\"attributes\":{\"days\":[1,8,15,22]},\"id\":\"e93f1ed5-f709-4bee-ace2-0deab29f7058\",\"type\":\"DaysTicker\"},{\"attributes\":{\"formatter\":{\"id\":\"6166672a-3c10-41a7-8df1-d447e70421f8\",\"type\":\"DatetimeTickFormatter\"},\"plot\":{\"id\":\"ce7fcf7c-e237-4a45-8763-97c56608192d\",\"subtype\":\"Figure\",\"type\":\"Plot\"},\"ticker\":{\"id\":\"ff1109fa-4728-4c31-a567-30cdaaed1871\",\"type\":\"DatetimeTicker\"}},\"id\":\"144fab7f-3129-4ea4-88e8-4c1811898d6c\",\"type\":\"DatetimeAxis\"},{\"attributes\":{},\"id\":\"db94d586-4048-4d26-8c60-ae7e8e39202f\",\"type\":\"SaveTool\"},{\"attributes\":{\"months\":[0,4,8]},\"id\":\"7a1d221c-6987-4def-bb45-623941930aec\",\"type\":\"MonthsTicker\"},{\"attributes\":{\"data_source\":{\"id\":\"699c855f-05a9-4ad5-8d7d-fb4a322eea96\",\"type\":\"ColumnDataSource\"},\"glyph\":{\"id\":\"5692f321-d134-426b-84e9-0b782a33a3c4\",\"type\":\"Line\"},\"hover_glyph\":null,\"muted_glyph\":null,\"nonselection_glyph\":{\"id\":\"87099479-6632-418e-a1cf-818e0fa61cf3\",\"type\":\"Line\"},\"selection_glyph\":null,\"view\":{\"id\":\"8b841d66-ec2f-4c2c-9c96-0d5cc16687d4\",\"type\":\"CDSView\"}},\"id\":\"09010e69-71da-441d-b713-50ee8acef25c\",\"type\":\"GlyphRenderer\"},{\"attributes\":{\"callback\":null},\"id\":\"26bb3b63-5db7-4038-a81c-93e5b82843ac\",\"type\":\"DataRange1d\"},{\"attributes\":{\"days\":[1,2,3,4,5,6,7,8,9,10,11,12,13,14,15,16,17,18,19,20,21,22,23,24,25,26,27,28,29,30,31]},\"id\":\"16ab9310-3e26-484f-a5b8-ac8f6bce1604\",\"type\":\"DaysTicker\"},{\"attributes\":{\"callback\":null},\"id\":\"a81b183c-2f92-4b13-9530-1fad38abc9c1\",\"type\":\"DataRange1d\"},{\"attributes\":{},\"id\":\"7e372a1c-9f10-4047-987d-098f4780fadc\",\"type\":\"BasicTickFormatter\"},{\"attributes\":{},\"id\":\"13859a43-d8b0-4e02-89d8-0eea9671677d\",\"type\":\"LinearScale\"},{\"attributes\":{},\"id\":\"d5d01d4b-38a8-4ffa-b79f-7b4411628465\",\"type\":\"ResetTool\"},{\"attributes\":{},\"id\":\"f69a5157-9fef-44a2-affb-cc087e5da958\",\"type\":\"HelpTool\"},{\"attributes\":{\"source\":{\"id\":\"699c855f-05a9-4ad5-8d7d-fb4a322eea96\",\"type\":\"ColumnDataSource\"}},\"id\":\"8b841d66-ec2f-4c2c-9c96-0d5cc16687d4\",\"type\":\"CDSView\"},{\"attributes\":{},\"id\":\"ba28b224-7905-47a5-be74-6b76c246d272\",\"type\":\"BasicTicker\"},{\"attributes\":{\"num_minor_ticks\":5,\"tickers\":[{\"id\":\"62fff58f-f8de-4a93-b95e-435b2289c019\",\"type\":\"AdaptiveTicker\"},{\"id\":\"faf85566-3b41-41a6-8c63-8e642e5776fa\",\"type\":\"AdaptiveTicker\"},{\"id\":\"b864f6dd-1817-481b-bb07-9c867c1be9f1\",\"type\":\"AdaptiveTicker\"},{\"id\":\"16ab9310-3e26-484f-a5b8-ac8f6bce1604\",\"type\":\"DaysTicker\"},{\"id\":\"b278f1f1-0dc2-4b4a-94f7-34c6b1846cc9\",\"type\":\"DaysTicker\"},{\"id\":\"e93f1ed5-f709-4bee-ace2-0deab29f7058\",\"type\":\"DaysTicker\"},{\"id\":\"5665cbbb-42cc-401f-a542-09c5f5557772\",\"type\":\"DaysTicker\"},{\"id\":\"426ea3ad-092f-430a-bc36-0789638e7424\",\"type\":\"MonthsTicker\"},{\"id\":\"d4775ee8-8045-4c45-a37d-73abd8c38e38\",\"type\":\"MonthsTicker\"},{\"id\":\"7a1d221c-6987-4def-bb45-623941930aec\",\"type\":\"MonthsTicker\"},{\"id\":\"b5964833-fada-40bd-bfc7-e6c92fc8361a\",\"type\":\"MonthsTicker\"},{\"id\":\"5cf95ba6-08f6-4b0f-91a9-63da4d385300\",\"type\":\"YearsTicker\"}]},\"id\":\"ff1109fa-4728-4c31-a567-30cdaaed1871\",\"type\":\"DatetimeTicker\"},{\"attributes\":{\"bottom_units\":\"screen\",\"fill_alpha\":{\"value\":0.5},\"fill_color\":{\"value\":\"lightgrey\"},\"left_units\":\"screen\",\"level\":\"overlay\",\"line_alpha\":{\"value\":1.0},\"line_color\":{\"value\":\"black\"},\"line_dash\":[4,4],\"line_width\":{\"value\":2},\"plot\":null,\"render_mode\":\"css\",\"right_units\":\"screen\",\"top_units\":\"screen\"},\"id\":\"cb3822f7-5610-410f-a889-55ef3d3bc30b\",\"type\":\"BoxAnnotation\"},{\"attributes\":{\"below\":[{\"id\":\"144fab7f-3129-4ea4-88e8-4c1811898d6c\",\"type\":\"DatetimeAxis\"}],\"left\":[{\"id\":\"52d223fe-942d-428d-9256-8bda723f77cf\",\"type\":\"LinearAxis\"}],\"plot_height\":300,\"plot_width\":300,\"renderers\":[{\"id\":\"144fab7f-3129-4ea4-88e8-4c1811898d6c\",\"type\":\"DatetimeAxis\"},{\"id\":\"c37189e4-b2ee-4b7e-b5de-5b4b1804dbea\",\"type\":\"Grid\"},{\"id\":\"52d223fe-942d-428d-9256-8bda723f77cf\",\"type\":\"LinearAxis\"},{\"id\":\"9d7063c1-187d-4e6c-a199-c7526805708e\",\"type\":\"Grid\"},{\"id\":\"cb3822f7-5610-410f-a889-55ef3d3bc30b\",\"type\":\"BoxAnnotation\"},{\"id\":\"09010e69-71da-441d-b713-50ee8acef25c\",\"type\":\"GlyphRenderer\"}],\"title\":{\"id\":\"5e09655c-2e2c-4521-8c0d-f84e4e8ee2b2\",\"type\":\"Title\"},\"toolbar\":{\"id\":\"64127704-320b-4ef8-97cd-5f3c51f3309d\",\"type\":\"Toolbar\"},\"x_range\":{\"id\":\"26bb3b63-5db7-4038-a81c-93e5b82843ac\",\"type\":\"DataRange1d\"},\"x_scale\":{\"id\":\"60c0536e-c38e-4878-9a57-7864acc87a70\",\"type\":\"LinearScale\"},\"y_range\":{\"id\":\"a81b183c-2f92-4b13-9530-1fad38abc9c1\",\"type\":\"DataRange1d\"},\"y_scale\":{\"id\":\"13859a43-d8b0-4e02-89d8-0eea9671677d\",\"type\":\"LinearScale\"}},\"id\":\"ce7fcf7c-e237-4a45-8763-97c56608192d\",\"subtype\":\"Figure\",\"type\":\"Plot\"},{\"attributes\":{\"overlay\":{\"id\":\"cb3822f7-5610-410f-a889-55ef3d3bc30b\",\"type\":\"BoxAnnotation\"}},\"id\":\"13fcbebe-7430-43eb-811d-f88811fd5f52\",\"type\":\"BoxZoomTool\"},{\"attributes\":{\"dimension\":1,\"plot\":{\"id\":\"ce7fcf7c-e237-4a45-8763-97c56608192d\",\"subtype\":\"Figure\",\"type\":\"Plot\"},\"ticker\":{\"id\":\"ba28b224-7905-47a5-be74-6b76c246d272\",\"type\":\"BasicTicker\"}},\"id\":\"9d7063c1-187d-4e6c-a199-c7526805708e\",\"type\":\"Grid\"},{\"attributes\":{\"mantissas\":[1,2,5],\"max_interval\":500.0,\"num_minor_ticks\":0},\"id\":\"62fff58f-f8de-4a93-b95e-435b2289c019\",\"type\":\"AdaptiveTicker\"},{\"attributes\":{\"months\":[0,1,2,3,4,5,6,7,8,9,10,11]},\"id\":\"426ea3ad-092f-430a-bc36-0789638e7424\",\"type\":\"MonthsTicker\"},{\"attributes\":{\"base\":24,\"mantissas\":[1,2,4,6,8,12],\"max_interval\":43200000.0,\"min_interval\":3600000.0,\"num_minor_ticks\":0},\"id\":\"b864f6dd-1817-481b-bb07-9c867c1be9f1\",\"type\":\"AdaptiveTicker\"}],\"root_ids\":[\"ce7fcf7c-e237-4a45-8763-97c56608192d\"]},\"title\":\"Bokeh Application\",\"version\":\"0.12.15\"}};\n",
       "  var render_items = [{\"docid\":\"0508e772-eb96-4a9b-b9fa-078e50da835e\",\"elementid\":\"0b3d9a45-9960-49b7-997c-56a0eb3b1f50\",\"modelid\":\"ce7fcf7c-e237-4a45-8763-97c56608192d\"}];\n",
       "  root.Bokeh.embed.embed_items_notebook(docs_json, render_items);\n",
       "\n",
       "  }\n",
       "  if (root.Bokeh !== undefined) {\n",
       "    embed_document(root);\n",
       "  } else {\n",
       "    var attempts = 0;\n",
       "    var timer = setInterval(function(root) {\n",
       "      if (root.Bokeh !== undefined) {\n",
       "        embed_document(root);\n",
       "        clearInterval(timer);\n",
       "      }\n",
       "      attempts++;\n",
       "      if (attempts > 100) {\n",
       "        console.log(\"Bokeh: ERROR: Unable to run BokehJS code because BokehJS library is missing\")\n",
       "        clearInterval(timer);\n",
       "      }\n",
       "    }, 10, root)\n",
       "  }\n",
       "})(window);"
      ],
      "application/vnd.bokehjs_exec.v0+json": ""
     },
     "metadata": {
      "application/vnd.bokehjs_exec.v0+json": {
       "id": "ce7fcf7c-e237-4a45-8763-97c56608192d"
      }
     },
     "output_type": "display_data"
    }
   ],
   "source": [
    "from statsmodels.tsa.stattools import adfuller\n",
    "from bokeh.models import ColumnDataSource\n",
    "\n",
    "adf_results = adfuller(df['Close'])\n",
    "print(adf_results)\n",
    "\n",
    "data = ColumnDataSource(df) # create object for bokeh plot\n",
    "p = figure(x_axis_type='datetime', plot_width=300, plot_height=300)\n",
    "p.line('Date', 'Close', line_width=2, source=data)\n",
    "show(p)"
   ]
  },
  {
   "cell_type": "markdown",
   "metadata": {},
   "source": [
    "The ADF test statistics is actually $\\lambda/\\text{SE}(\\lambda)$, which is always negative for mean reversion. Here, the ADF test statistics is -3.595, for 95% confidence, we can reject the null hypothesis, that is, the \"sh\" index is stationary, even though from the plot it does not seem to be stationary.\n",
    "\n",
    "$\\lambda$ indicates the half-life of mean reversion, as half-life$=-log(2)/\\lambda$. It can be determined by running a regression fit with $y(t)-y(t-1)$ as the dependent variable and $y(t-1)$ as the independent variable. "
   ]
  },
  {
   "cell_type": "markdown",
   "metadata": {},
   "source": [
    "### Hurst Exponent\n",
    "\n",
    "Hurst exponent $H$ indicates whether the time series is stationary ($H<0.5$), random ($H=0.5$), or trending ($H>0.5$). First, we need to construct a function to [calculate hurst exponent](https://stackoverflow.com/questions/39488806/hurst-exponent-in-python)."
   ]
  },
  {
   "cell_type": "code",
   "execution_count": 6,
   "metadata": {},
   "outputs": [
    {
     "name": "stdout",
     "output_type": "stream",
     "text": [
      "Hurst(sh): 0.3909245522396867\n"
     ]
    }
   ],
   "source": [
    "from numpy import log10, polyfit, var, subtract\n",
    "\n",
    "def hurst_ernie_chan(p, lag_range=None):\n",
    "\n",
    "    p_log = log10(p) # use log price\n",
    "\n",
    "    variancetau = []\n",
    "    tau = []\n",
    "    \n",
    "    # Create the range of lag values\n",
    "    if lag_range == None:\n",
    "        lags = [2]\n",
    "    else:\n",
    "        lags = range(2, lag_range) # lag_range < len(ts)\n",
    "\n",
    "    for lag in lags: \n",
    "\n",
    "        #  Write the different lags into a vector to compute a set of tau or lags\n",
    "        tau.append(lag)\n",
    "\n",
    "        # call this pp or the price difference\n",
    "        pp = subtract(p_log[lag:], p_log[:-lag])\n",
    "        variancetau.append(var(pp))\n",
    "\n",
    "    # we now have a set of tau or lags and a corresponding set of variances.\n",
    "    #print tau\n",
    "    #print variancetau\n",
    "\n",
    "    # plot the log of those variance against the log of tau and get the slope\n",
    "    m = polyfit(log10(tau),log10(variancetau),1)\n",
    "\n",
    "    hurst = m[0] / 2\n",
    "\n",
    "    return hurst\n",
    "\n",
    "print(\"Hurst(sh): {}\".format(hurst_ernie_chan(df['Close'], 5)))"
   ]
  },
  {
   "cell_type": "markdown",
   "metadata": {},
   "source": [
    "### Variance Ratio\n",
    "\n",
    "Variance ratio can be used to test whether a financial return series is a pure random walk or having some predictability."
   ]
  },
  {
   "cell_type": "code",
   "execution_count": 7,
   "metadata": {},
   "outputs": [
    {
     "name": "stdout",
     "output_type": "stream",
     "text": [
      "     Variance-Ratio Test Results     \n",
      "=====================================\n",
      "Test Statistic                 -3.225\n",
      "P-value                         0.001\n",
      "Lags                                5\n",
      "-------------------------------------\n",
      "\n",
      "Computed with overlapping blocks (de-biased)\n"
     ]
    }
   ],
   "source": [
    "from arch.unitroot import VarianceRatio\n",
    "\n",
    "vr = VarianceRatio(df['Close'], 5)\n",
    "print(vr.summary().as_text())"
   ]
  },
  {
   "cell_type": "markdown",
   "metadata": {},
   "source": [
    "The possible explanation of above test is as following (from E.P. Chan's book): test statistics equals to 1 means rejection of the random walk and test statistics equals to 0 means it may be a random walk. The p-value gives the smallest probability that you can reject the null hypothesis, which is a random walk. So in this case, with 95% confidence, we can reject the null hypothesis."
   ]
  },
  {
   "cell_type": "markdown",
   "metadata": {},
   "source": [
    "### Cointegration\n",
    "\n",
    "For a pair of assets, we can run a CADF test to determine the cointegration. Let's see how to determine cointegration of two stocks: AAPL and IBM.\n",
    "\n",
    "Here, we show how to get global market information via *pandas_datareader*."
   ]
  },
  {
   "cell_type": "code",
   "execution_count": 8,
   "metadata": {},
   "outputs": [
    {
     "name": "stdout",
     "output_type": "stream",
     "text": [
      "5y\n",
      "5y\n"
     ]
    }
   ],
   "source": [
    "pd.core.common.is_list_like = pd.api.types.is_list_like # https://stackoverflow.com/questions/50394873/import-pandas-datareader-gives-importerror-cannot-import-name-is-list-like\n",
    "import pandas_datareader as web\n",
    "from datetime import datetime\n",
    "\n",
    "start = datetime(2014, 4, 30)\n",
    "end = datetime(2018, 4, 30)\n",
    "\n",
    "apple = web.DataReader('AAPL','iex', start, end) # IEX has stock prices up to 5 years\n",
    "ibm = web.DataReader('IBM', 'iex', start, end)"
   ]
  },
  {
   "cell_type": "markdown",
   "metadata": {},
   "source": [
    "Now, let's store the historical price information into database so that we don't need to request from the server every time."
   ]
  },
  {
   "cell_type": "code",
   "execution_count": 9,
   "metadata": {},
   "outputs": [],
   "source": [
    "from sqlalchemy import create_engine, MetaData, TEXT, Integer, Float, DateTime, Table, Column\n",
    "\n",
    "# apple_table.drop(engine)\n",
    "# ibm_table.drop(engine)\n",
    "\n",
    "engine = create_engine(\"postgresql://postgres:@localhost/stocks\") # stocks is the name of db\n",
    "meta = MetaData(bind=engine)\n",
    "\n",
    "apple_reset = apple.reset_index() # in order to create ID in mysql, we need to reset current index, \n",
    "apple_reset.index.name = 'ID'     # and then rename the index\n",
    "apple_table = Table('apple', meta,\n",
    "                 Column('ID', Integer, autoincrement=False),\n",
    "                 Column('date', DateTime, nullable=False),\n",
    "                 Column('open', Float, nullable=True),\n",
    "                 Column('high', Float, nullable=True),\n",
    "                 Column('close', Float, nullable=True),\n",
    "                 Column('low', Float, nullable=True),\n",
    "                 Column('volume', Float, nullable=True),\n",
    "                 extend_existing=True\n",
    "                )\n",
    "\n",
    "ibm_reset = ibm.reset_index()\n",
    "ibm_reset.index.name = 'ID'\n",
    "ibm_table = Table('ibm', meta,\n",
    "                 Column('ID', Integer, autoincrement=False),\n",
    "                 Column('date', DateTime, nullable=False),\n",
    "                 Column('open', Float, nullable=True),\n",
    "                 Column('high', Float, nullable=True),\n",
    "                 Column('close', Float, nullable=True),\n",
    "                 Column('low', Float, nullable=True),\n",
    "                 Column('volume', Float, nullable=True),\n",
    "                 extend_existing=True\n",
    "                )\n",
    "\n",
    "meta.create_all(engine)\n",
    "\n",
    "apple_reset.to_sql('apple', engine, if_exists='append', index=True)\n",
    "ibm_reset.to_sql('ibm', engine, if_exists='append', index=True)"
   ]
  },
  {
   "cell_type": "markdown",
   "metadata": {},
   "source": [
    "Now we can load data directly from database."
   ]
  },
  {
   "cell_type": "code",
   "execution_count": 10,
   "metadata": {},
   "outputs": [],
   "source": [
    "from sqlalchemy import create_engine\n",
    "\n",
    "engine = create_engine(\"postgresql://postgres:@localhost/stocks\") # stocks is the name of db\n",
    "apple = pd.read_sql_table('apple', engine)\n",
    "ibm = pd.read_sql_table('ibm', engine)"
   ]
  },
  {
   "cell_type": "markdown",
   "metadata": {},
   "source": [
    "Once we have the stock prices, we can run a cointegration test (CADF test)."
   ]
  },
  {
   "cell_type": "code",
   "execution_count": 11,
   "metadata": {},
   "outputs": [
    {
     "name": "stdout",
     "output_type": "stream",
     "text": [
      "(-1.1233407772843005, 0.8768488720575568, array([-3.89915898, -3.3376462 , -3.04550231]))\n"
     ]
    }
   ],
   "source": [
    "import statsmodels.tsa.stattools as ts\n",
    "\n",
    "merged = pd.merge(apple, ibm, on = 'date')\n",
    "x1 = merged['close_x']\n",
    "y1 = merged['close_y']\n",
    "\n",
    "cointegration = ts.coint(x1, y1)\n",
    "print(cointegration)"
   ]
  },
  {
   "cell_type": "markdown",
   "metadata": {},
   "source": [
    "We found the test statistics is -1.124, greater than the 90% threshold -3.05, therefore, cannot reject the null hypothesis. That is, AAPL and IBM are not cointegration, as expected."
   ]
  },
  {
   "cell_type": "markdown",
   "metadata": {},
   "source": [
    "## Mean Reversion Strategies\n",
    "\n",
    "### Bollinger bands\n",
    "\n",
    "Bollinger bands is a practical mean reversion trading strategy. We enter the trade when price deviates *entryZscore* standard deviations from the mean. And we exit the position when price mean-reverts to *exitZscore* standard deviations from the mean, where *exitZscore* $<$ *entryZscore*.\n",
    "\n",
    "In this example, we set *entryZscore*=1 and *exitZscore*=0, which means we will exit when the price mean-reverts to the current mean. Mean and standard deviation is calcualted within the lookback period.\n",
    "\n",
    "Note, rolling OLS is removed from *Pandas*, we can use [another implementation](https://stackoverflow.com/questions/37317727/deprecated-rolling-window-option-in-ols-from-pandas-to-statsmodels) by Brad Solomon. This package works for *Python3*, so we need to make some local modifications in order to work with *Python27*.\n",
    "\n",
    "**In order to compare results the E.P. Chan's book, from this point onwards, we will use datasets provided by E.P. Chan, and develop the same strategy as described on his book.**"
   ]
  },
  {
   "cell_type": "markdown",
   "metadata": {},
   "source": [
    "First step is to load .mat data given by E.P. Chan. The .mat data in this case is three dimensional, containing 1500 dates, 67 symbols, and 4 attributes. Therefore, loading it as dataframe requires some extra work."
   ]
  },
  {
   "cell_type": "code",
   "execution_count": 12,
   "metadata": {},
   "outputs": [
    {
     "name": "stdout",
     "output_type": "stream",
     "text": [
      "             tday  BGU  BGZ  BNO  DRN  DRV  EDC  EDZ       EEM  EEV  ...  VXZ  \\\n",
      "vol 0  20060426.0  NaN  NaN  NaN  NaN  NaN  NaN  NaN  101502.0  NaN  ...  NaN   \n",
      "    1  20060427.0  NaN  NaN  NaN  NaN  NaN  NaN  NaN  121329.0  NaN  ...  NaN   \n",
      "    2  20060428.0  NaN  NaN  NaN  NaN  NaN  NaN  NaN   82875.0  NaN  ...  NaN   \n",
      "    3  20060501.0  NaN  NaN  NaN  NaN  NaN  NaN  NaN   72075.0  NaN  ...  NaN   \n",
      "    4  20060502.0  NaN  NaN  NaN  NaN  NaN  NaN  NaN   83598.0  NaN  ...  NaN   \n",
      "\n",
      "           XLB       XLE       XLF      XLI      XLK      XLP      XLV  \\\n",
      "vol 0  22136.0  294271.0   54232.0   8592.0  24503.0   4504.0  21923.0   \n",
      "    1  83830.0  448795.0  176893.0  14073.0  26474.0   6010.0  44698.0   \n",
      "    2  65802.0  190539.0  133976.0  28273.0  29100.0  12658.0  24957.0   \n",
      "    3  21191.0  195958.0  136147.0   7080.0  38514.0   7386.0  10186.0   \n",
      "    4  33522.0  190415.0   39776.0   3700.0   8762.0  10278.0   7913.0   \n",
      "\n",
      "           XLY  XME  \n",
      "vol 0   8179.0  NaN  \n",
      "    1  21670.0  NaN  \n",
      "    2   7418.0  NaN  \n",
      "    3   6165.0  NaN  \n",
      "    4  18300.0  NaN  \n",
      "\n",
      "[5 rows x 68 columns]\n"
     ]
    }
   ],
   "source": [
    "import scipy.io\n",
    "import numpy as np\n",
    "mat = scipy.io.loadmat('../data/inputData_ETF.mat') # load .mat file\n",
    "\n",
    "\"\"\" this part is an attempt to load .mat to dataframe, but failed\n",
    "however, the operations are useful as a reference\n",
    "data = pd.DataFrame(data.items()) # convert dict to dataframe\n",
    "data.columns = ['a', 'b'] # rename columns\n",
    "data['b'].update(data['b'].apply(lambda l: [item for sublist in l for item in sublist])) # flatten list of lists\n",
    "data.set_index('a',inplace=True) # use column a as index\n",
    "data.loc['syms', 'b'] = [item for sublist in data.loc['syms', 'b'] for item in sublist] # flatten row syms and col b\n",
    "data = data.drop(['__header__', '__globals__', '__version__']) # drop unecessary rows\n",
    "print data\n",
    "\"\"\"\n",
    "vol = pd.DataFrame(np.hstack((mat['tday'], mat['vol']))) # use `np.hstack` to make mini dataframe\n",
    "cl = pd.DataFrame(np.hstack((mat['tday'], mat['cl'])))\n",
    "lo = pd.DataFrame(np.hstack((mat['tday'], mat['lo'])))\n",
    "hi = pd.DataFrame(np.hstack((mat['tday'], mat['hi'])))\n",
    "data = pd.concat([vol, cl, lo, hi], keys=['vol', 'cl', 'lo', 'hi']) # use `pd.concat` to combine mini dataframes\n",
    "syms = [item for sublist in np.array(mat['syms']) for items in sublist for item in items] # flatten list of lists of lists for symbol names\n",
    "col_names = ['tday']+syms # prepare the col names for the final dataframe\n",
    "data.columns = col_names # reset the column names\n",
    "print(data.head())"
   ]
  },
  {
   "cell_type": "code",
   "execution_count": 13,
   "metadata": {},
   "outputs": [
    {
     "name": "stdout",
     "output_type": "stream",
     "text": [
      "            tday  BGU  BGZ  BNO  DRN  DRV  EDC  EDZ       EEM  EEV  ...  VXZ  \\\n",
      "vol 0 2006-04-26  NaN  NaN  NaN  NaN  NaN  NaN  NaN  101502.0  NaN  ...  NaN   \n",
      "    1 2006-04-27  NaN  NaN  NaN  NaN  NaN  NaN  NaN  121329.0  NaN  ...  NaN   \n",
      "    2 2006-04-28  NaN  NaN  NaN  NaN  NaN  NaN  NaN   82875.0  NaN  ...  NaN   \n",
      "    3 2006-05-01  NaN  NaN  NaN  NaN  NaN  NaN  NaN   72075.0  NaN  ...  NaN   \n",
      "    4 2006-05-02  NaN  NaN  NaN  NaN  NaN  NaN  NaN   83598.0  NaN  ...  NaN   \n",
      "\n",
      "           XLB       XLE       XLF      XLI      XLK      XLP      XLV  \\\n",
      "vol 0  22136.0  294271.0   54232.0   8592.0  24503.0   4504.0  21923.0   \n",
      "    1  83830.0  448795.0  176893.0  14073.0  26474.0   6010.0  44698.0   \n",
      "    2  65802.0  190539.0  133976.0  28273.0  29100.0  12658.0  24957.0   \n",
      "    3  21191.0  195958.0  136147.0   7080.0  38514.0   7386.0  10186.0   \n",
      "    4  33522.0  190415.0   39776.0   3700.0   8762.0  10278.0   7913.0   \n",
      "\n",
      "           XLY  XME  \n",
      "vol 0   8179.0  NaN  \n",
      "    1  21670.0  NaN  \n",
      "    2   7418.0  NaN  \n",
      "    3   6165.0  NaN  \n",
      "    4  18300.0  NaN  \n",
      "\n",
      "[5 rows x 68 columns]\n"
     ]
    }
   ],
   "source": [
    "# massage the data\n",
    "temp = data['tday'].apply(lambda x: str(int(x))) # convert float to str\n",
    "data['tday'].update(temp) # update dataset, now 'tday' is stored as str\n",
    "temp2 = data['tday'].apply(lambda x: datetime.strptime(x, '%Y%m%d')) # convert str to datetime object\n",
    "data['tday'] = temp2 # update dataset, now 'tday' is datetime object\n",
    "print(data.head())"
   ]
  },
  {
   "cell_type": "markdown",
   "metadata": {},
   "source": [
    "Before doing any strategy, let's plot the close prices of USO and GLD."
   ]
  },
  {
   "cell_type": "code",
   "execution_count": 14,
   "metadata": {},
   "outputs": [
    {
     "name": "stdout",
     "output_type": "stream",
     "text": [
      "        tday    USO    GLD\n",
      "0 2006-04-26  69.54  63.65\n",
      "1 2006-04-27  68.70  62.96\n",
      "2 2006-04-28  69.62  65.09\n",
      "3 2006-05-01  71.50  65.16\n",
      "4 2006-05-02  72.34  66.55\n"
     ]
    },
    {
     "data": {
      "text/html": [
       "\n",
       "<div class=\"bk-root\">\n",
       "    <div class=\"bk-plotdiv\" id=\"13801294-275c-4c55-b22e-6598e0b2d047\"></div>\n",
       "</div>"
      ]
     },
     "metadata": {},
     "output_type": "display_data"
    },
    {
     "data": {
      "application/javascript": [
       "(function(root) {\n",
       "  function embed_document(root) {\n",
       "    \n",
       "  var docs_json = {\"d4b531bb-0151-406c-9755-4f713624c879\":{\"roots\":{\"references\":[{\"attributes\":{},\"id\":\"02f6e4db-eaad-4153-9c82-e04684467ff1\",\"type\":\"SaveTool\"},{\"attributes\":{},\"id\":\"bcc95166-4e5d-4ff7-956b-c86457880557\",\"type\":\"PanTool\"},{\"attributes\":{\"overlay\":{\"id\":\"0974750f-596e-4e8d-bc64-9530345435ed\",\"type\":\"BoxAnnotation\"}},\"id\":\"a0a12120-bedc-42ba-a23f-ff825b59f1dc\",\"type\":\"BoxZoomTool\"},{\"attributes\":{\"months\":[0,2,4,6,8,10]},\"id\":\"2d77ae14-68fe-44a4-8cc9-97603198853a\",\"type\":\"MonthsTicker\"},{\"attributes\":{},\"id\":\"27cea3ea-3ec1-49b3-9006-c4c60ca62fc3\",\"type\":\"HelpTool\"},{\"attributes\":{},\"id\":\"ed6c9339-3f28-4911-b02f-2e0136b0b6f9\",\"type\":\"WheelZoomTool\"},{\"attributes\":{\"source\":{\"id\":\"72b5919e-dbf2-4047-b3bf-3891b975e4fd\",\"type\":\"ColumnDataSource\"}},\"id\":\"a2ffb8d6-66a7-45d0-9adb-339655841b8a\",\"type\":\"CDSView\"},{\"attributes\":{\"mantissas\":[1,2,5],\"max_interval\":500.0,\"num_minor_ticks\":0},\"id\":\"434938d8-8724-4202-ba53-162fc86839f8\",\"type\":\"AdaptiveTicker\"},{\"attributes\":{\"line_color\":\"#FB9A99\",\"x\":{\"field\":\"tday\"},\"y\":{\"field\":\"GLD\"}},\"id\":\"4f617b23-80d9-4f4c-9295-191bd38de98e\",\"type\":\"Line\"},{\"attributes\":{},\"id\":\"c34184fa-e5c5-46fd-8ba4-d94d2c8c2718\",\"type\":\"LinearScale\"},{\"attributes\":{\"items\":[{\"id\":\"340e9bdb-4030-47ed-a1de-ef0373560e5f\",\"type\":\"LegendItem\"},{\"id\":\"5d874ae2-ea22-45d2-9746-9736679b85cc\",\"type\":\"LegendItem\"}],\"location\":\"top_left\",\"plot\":{\"id\":\"082f52ca-c3c8-4f0f-9d08-2a74baefa7ac\",\"subtype\":\"Figure\",\"type\":\"Plot\"}},\"id\":\"0eb792f6-afce-4641-9236-1fbca0e305ea\",\"type\":\"Legend\"},{\"attributes\":{\"dimension\":1,\"grid_line_alpha\":{\"value\":0.3},\"plot\":{\"id\":\"082f52ca-c3c8-4f0f-9d08-2a74baefa7ac\",\"subtype\":\"Figure\",\"type\":\"Plot\"},\"ticker\":{\"id\":\"efd78f29-80d7-4f2c-b728-0bd6e74b1a89\",\"type\":\"BasicTicker\"}},\"id\":\"fcc36554-5102-453b-abeb-36abf40c42e0\",\"type\":\"Grid\"},{\"attributes\":{\"base\":24,\"mantissas\":[1,2,4,6,8,12],\"max_interval\":43200000.0,\"min_interval\":3600000.0,\"num_minor_ticks\":0},\"id\":\"49687f69-c9a7-4cbd-9279-1abebc5d22fa\",\"type\":\"AdaptiveTicker\"},{\"attributes\":{},\"id\":\"521566d0-4273-4bea-a085-325dd487919f\",\"type\":\"LinearScale\"},{\"attributes\":{\"callback\":null},\"id\":\"93be8006-3aef-4818-b61f-0725edc19542\",\"type\":\"DataRange1d\"},{\"attributes\":{\"line_color\":\"#A6CEE3\",\"x\":{\"field\":\"tday\"},\"y\":{\"field\":\"USO\"}},\"id\":\"6b92ac60-ac58-456c-896d-cad0c7c48583\",\"type\":\"Line\"},{\"attributes\":{\"days\":[1,2,3,4,5,6,7,8,9,10,11,12,13,14,15,16,17,18,19,20,21,22,23,24,25,26,27,28,29,30,31]},\"id\":\"61b5f7b2-8f3b-40a7-a2eb-537505b6ab38\",\"type\":\"DaysTicker\"},{\"attributes\":{\"label\":{\"value\":\"GLD price\"},\"renderers\":[{\"id\":\"cfff5651-8eac-4b39-be58-83fe8ececae0\",\"type\":\"GlyphRenderer\"}]},\"id\":\"5d874ae2-ea22-45d2-9746-9736679b85cc\",\"type\":\"LegendItem\"},{\"attributes\":{\"days\":[1,8,15,22]},\"id\":\"f3321ce6-b288-45e4-8933-cd3311de22b1\",\"type\":\"DaysTicker\"},{\"attributes\":{},\"id\":\"1c9253db-6609-4e21-a428-f03623644985\",\"type\":\"YearsTicker\"},{\"attributes\":{\"active_drag\":\"auto\",\"active_inspect\":\"auto\",\"active_scroll\":\"auto\",\"active_tap\":\"auto\",\"tools\":[{\"id\":\"bcc95166-4e5d-4ff7-956b-c86457880557\",\"type\":\"PanTool\"},{\"id\":\"ed6c9339-3f28-4911-b02f-2e0136b0b6f9\",\"type\":\"WheelZoomTool\"},{\"id\":\"a0a12120-bedc-42ba-a23f-ff825b59f1dc\",\"type\":\"BoxZoomTool\"},{\"id\":\"02f6e4db-eaad-4153-9c82-e04684467ff1\",\"type\":\"SaveTool\"},{\"id\":\"9ec21bc7-24c1-47ed-9a88-48cd976cf7bd\",\"type\":\"ResetTool\"},{\"id\":\"27cea3ea-3ec1-49b3-9006-c4c60ca62fc3\",\"type\":\"HelpTool\"}]},\"id\":\"c6a9fcd2-cf02-4ca9-a5b2-5551716d1c3a\",\"type\":\"Toolbar\"},{\"attributes\":{\"callback\":null,\"column_names\":[\"GLD\",\"tday\",\"index\",\"USO\"],\"data\":{\"GLD\":{\"__ndarray__\":\"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\",\"dtype\":\"float64\",\"shape\":[1500]},\"USO\":{\"__ndarray__\":\"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\",\"dtype\":\"float64\",\"shape\":[1500]},\"index\":[0,1,2,3,4,5,6,7,8,9,10,11,12,13,14,15,16,17,18,19,20,21,22,23,24,25,26,27,28,29,30,31,32,33,34,35,36,37,38,39,40,41,42,43,44,45,46,47,48,49,50,51,52,53,54,55,56,57,58,59,60,61,62,63,64,65,66,67,68,69,70,71,72,73,74,75,76,77,78,79,80,81,82,83,84,85,86,87,88,89,90,91,92,93,94,95,96,97,98,99,100,101,102,103,104,105,106,107,108,109,110,111,112,113,114,115,116,117,118,119,120,121,122,123,124,125,126,127,128,129,130,131,132,133,134,135,136,137,138,139,140,141,142,143,144,145,146,147,148,149,150,151,152,153,154,155,156,157,158,159,160,161,162,163,164,165,166,167,168,169,170,171,172,173,174,175,176,177,178,179,180,181,182,183,184,185,186,187,188,189,190,191,192,193,194,195,196,197,198,199,200,201,202,203,204,205,206,207,208,209,210,211,212,213,214,215,216,217,218,219,220,221,222,223,224,225,226,227,228,229,230,231,232,233,234,235,236,237,238,239,240,241,242,243,244,245,246,247,248,249,250,251,252,253,254,255,256,257,258,259,260,261,262,263,264,265,266,267,268,269,270,271,272,273,274,275,276,277,278,279,280,281,282,283,284,285,286,287,288,289,290,291,292,293,294,295,296,297,298,299,300,301,302,303,304,305,306,307,308,309,310,311,312,313,314,315,316,317,318,319,320,321,322,323,324,325,326,327,328,329,330,331,332,333,334,335,336,337,338,339,340,341,342,343,344,345,346,347,348,349,350,351,352,353,354,355,356,357,358,359,360,361,362,363,364,365,366,367,368,369,370,371,372,373,374,375,376,377,378,379,380,381,382,383,384,385,386,387,388,389,390,391,392,393,394,395,396,397,398,399,400,401,402,403,404,405,406,407,408,409,410,411,412,413,414,415,416,417,418,419,420,421,422,423,424,425,426,427,428,429,430,431,432,433,434,435,436,437,438,439,440,441,442,443,444,445,446,447,448,449,450,451,452,453,454,455,456,457,458,459,460,461,462,463,464,465,466,467,468,469,470,471,472,473,474,475,476,477,478,479,480,481,482,483,484,485,486,487,488,489,490,491,492,493,494,495,496,497,498,499,500,501,502,503,504,505,506,507,508,509,510,511,512,513,514,515,516,517,518,519,520,521,522,523,524,525,526,527,528,529,530,531,532,533,534,535,536,537,538,539,540,541,542,543,544,545,546,547,548,549,550,551,552,553,554,555,556,557,558,559,560,561,562,563,564,565,566,567,568,569,570,571,572,573,574,575,576,577,578,579,580,581,582,583,584,585,586,587,588,589,590,591,592,593,594,595,596,597,598,599,600,601,602,603,604,605,606,607,608,609,610,611,612,613,614,615,616,617,618,619,620,621,622,623,624,625,626,627,628,629,630,631,632,633,634,635,636,637,638,639,640,641,642,643,644,645,646,647,648,649,650,651,652,653,654,655,656,657,658,659,660,661,662,663,664,665,666,667,668,669,670,671,672,673,674,675,676,677,678,679,680,681,682,683,684,685,686,687,688,689,690,691,692,693,694,695,696,697,698,699,700,701,702,703,704,705,706,707,708,709,710,711,712,713,714,715,716,717,718,719,720,721,722,723,724,725,726,727,728,729,730,731,732,733,734,735,736,737,738,739,740,741,742,743,744,745,746,747,748,749,750,751,752,753,754,755,756,757,758,759,760,761,762,763,764,765,766,767,768,769,770,771,772,773,774,775,776,777,778,779,780,781,782,783,784,785,786,787,788,789,790,791,792,793,794,795,796,797,798,799,800,801,802,803,804,805,806,807,808,809,810,811,812,813,814,815,816,817,818,819,820,821,822,823,824,825,826,827,828,829,830,831,832,833,834,835,836,837,838,839,840,841,842,843,844,845,846,847,848,849,850,851,852,853,854,855,856,857,858,859,860,861,862,863,864,865,866,867,868,869,870,871,872,873,874,875,876,877,878,879,880,881,882,883,884,885,886,887,888,889,890,891,892,893,894,895,896,897,898,899,900,901,902,903,904,905,906,907,908,909,910,911,912,913,914,915,916,917,918,919,920,921,922,923,924,925,926,927,928,929,930,931,932,933,934,935,936,937,938,939,940,941,942,943,944,945,946,947,948,949,950,951,952,953,954,955,956,957,958,959,960,961,962,963,964,965,966,967,968,969,970,971,972,973,974,975,976,977,978,979,980,981,982,983,984,985,986,987,988,989,990,991,992,993,994,995,996,997,998,999,1000,1001,1002,1003,1004,1005,1006,1007,1008,1009,1010,1011,1012,1013,1014,1015,1016,1017,1018,1019,1020,1021,1022,1023,1024,1025,1026,1027,1028,1029,1030,1031,1032,1033,1034,1035,1036,1037,1038,1039,1040,1041,1042,1043,1044,1045,1046,1047,1048,1049,1050,1051,1052,1053,1054,1055,1056,1057,1058,1059,1060,1061,1062,1063,1064,1065,1066,1067,1068,1069,1070,1071,1072,1073,1074,1075,1076,1077,1078,1079,1080,1081,1082,1083,1084,1085,1086,1087,1088,1089,1090,1091,1092,1093,1094,1095,1096,1097,1098,1099,1100,1101,1102,1103,1104,1105,1106,1107,1108,1109,1110,1111,1112,1113,1114,1115,1116,1117,1118,1119,1120,1121,1122,1123,1124,1125,1126,1127,1128,1129,1130,1131,1132,1133,1134,1135,1136,1137,1138,1139,1140,1141,1142,1143,1144,1145,1146,1147,1148,1149,1150,1151,1152,1153,1154,1155,1156,1157,1158,1159,1160,1161,1162,1163,1164,1165,1166,1167,1168,1169,1170,1171,1172,1173,1174,1175,1176,1177,1178,1179,1180,1181,1182,1183,1184,1185,1186,1187,1188,1189,1190,1191,1192,1193,1194,1195,1196,1197,1198,1199,1200,1201,1202,1203,1204,1205,1206,1207,1208,1209,1210,1211,1212,1213,1214,1215,1216,1217,1218,1219,1220,1221,1222,1223,1224,1225,1226,1227,1228,1229,1230,1231,1232,1233,1234,1235,1236,1237,1238,1239,1240,1241,1242,1243,1244,1245,1246,1247,1248,1249,1250,1251,1252,1253,1254,1255,1256,1257,1258,1259,1260,1261,1262,1263,1264,1265,1266,1267,1268,1269,1270,1271,1272,1273,1274,1275,1276,1277,1278,1279,1280,1281,1282,1283,1284,1285,1286,1287,1288,1289,1290,1291,1292,1293,1294,1295,1296,1297,1298,1299,1300,1301,1302,1303,1304,1305,1306,1307,1308,1309,1310,1311,1312,1313,1314,1315,1316,1317,1318,1319,1320,1321,1322,1323,1324,1325,1326,1327,1328,1329,1330,1331,1332,1333,1334,1335,1336,1337,1338,1339,1340,1341,1342,1343,1344,1345,1346,1347,1348,1349,1350,1351,1352,1353,1354,1355,1356,1357,1358,1359,1360,1361,1362,1363,1364,1365,1366,1367,1368,1369,1370,1371,1372,1373,1374,1375,1376,1377,1378,1379,1380,1381,1382,1383,1384,1385,1386,1387,1388,1389,1390,1391,1392,1393,1394,1395,1396,1397,1398,1399,1400,1401,1402,1403,1404,1405,1406,1407,1408,1409,1410,1411,1412,1413,1414,1415,1416,1417,1418,1419,1420,1421,1422,1423,1424,1425,1426,1427,1428,1429,1430,1431,1432,1433,1434,1435,1436,1437,1438,1439,1440,1441,1442,1443,1444,1445,1446,1447,1448,1449,1450,1451,1452,1453,1454,1455,1456,1457,1458,1459,1460,1461,1462,1463,1464,1465,1466,1467,1468,1469,1470,1471,1472,1473,1474,1475,1476,1477,1478,1479,1480,1481,1482,1483,1484,1485,1486,1487,1488,1489,1490,1491,1492,1493,1494,1495,1496,1497,1498,1499],\"tday\":{\"__ndarray__\":\"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\",\"dtype\":\"float64\",\"shape\":[1500]}},\"selected\":null,\"selection_policy\":null},\"id\":\"72b5919e-dbf2-4047-b3bf-3891b975e4fd\",\"type\":\"ColumnDataSource\"},{\"attributes\":{\"line_alpha\":0.1,\"line_color\":\"#1f77b4\",\"x\":{\"field\":\"tday\"},\"y\":{\"field\":\"GLD\"}},\"id\":\"27d80167-3ec1-4924-b68d-6cf05fefbb5b\",\"type\":\"Line\"},{\"attributes\":{\"data_source\":{\"id\":\"72b5919e-dbf2-4047-b3bf-3891b975e4fd\",\"type\":\"ColumnDataSource\"},\"glyph\":{\"id\":\"4f617b23-80d9-4f4c-9295-191bd38de98e\",\"type\":\"Line\"},\"hover_glyph\":null,\"muted_glyph\":null,\"nonselection_glyph\":{\"id\":\"27d80167-3ec1-4924-b68d-6cf05fefbb5b\",\"type\":\"Line\"},\"selection_glyph\":null,\"view\":{\"id\":\"6e45f2c2-1658-4ac2-af20-a44f6c33124e\",\"type\":\"CDSView\"}},\"id\":\"cfff5651-8eac-4b39-be58-83fe8ececae0\",\"type\":\"GlyphRenderer\"},{\"attributes\":{\"below\":[{\"id\":\"d29baa9f-72e4-496e-96e0-bf624d5dd500\",\"type\":\"DatetimeAxis\"}],\"left\":[{\"id\":\"553114ec-a2bc-4495-9110-36ff1391ef28\",\"type\":\"LinearAxis\"}],\"renderers\":[{\"id\":\"d29baa9f-72e4-496e-96e0-bf624d5dd500\",\"type\":\"DatetimeAxis\"},{\"id\":\"f1778b12-19aa-481a-853c-be41e1cf5840\",\"type\":\"Grid\"},{\"id\":\"553114ec-a2bc-4495-9110-36ff1391ef28\",\"type\":\"LinearAxis\"},{\"id\":\"fcc36554-5102-453b-abeb-36abf40c42e0\",\"type\":\"Grid\"},{\"id\":\"0974750f-596e-4e8d-bc64-9530345435ed\",\"type\":\"BoxAnnotation\"},{\"id\":\"0eb792f6-afce-4641-9236-1fbca0e305ea\",\"type\":\"Legend\"},{\"id\":\"e2856fa3-796b-4d7b-8fb7-5858740a6b9d\",\"type\":\"GlyphRenderer\"},{\"id\":\"cfff5651-8eac-4b39-be58-83fe8ececae0\",\"type\":\"GlyphRenderer\"}],\"title\":{\"id\":\"c015f51e-db93-4943-a4d2-ea49f0a15c19\",\"type\":\"Title\"},\"toolbar\":{\"id\":\"c6a9fcd2-cf02-4ca9-a5b2-5551716d1c3a\",\"type\":\"Toolbar\"},\"x_range\":{\"id\":\"93be8006-3aef-4818-b61f-0725edc19542\",\"type\":\"DataRange1d\"},\"x_scale\":{\"id\":\"521566d0-4273-4bea-a085-325dd487919f\",\"type\":\"LinearScale\"},\"y_range\":{\"id\":\"75f56cde-dc85-430c-9615-1f6676f49675\",\"type\":\"DataRange1d\"},\"y_scale\":{\"id\":\"c34184fa-e5c5-46fd-8ba4-d94d2c8c2718\",\"type\":\"LinearScale\"}},\"id\":\"082f52ca-c3c8-4f0f-9d08-2a74baefa7ac\",\"subtype\":\"Figure\",\"type\":\"Plot\"},{\"attributes\":{\"line_alpha\":0.1,\"line_color\":\"#1f77b4\",\"x\":{\"field\":\"tday\"},\"y\":{\"field\":\"USO\"}},\"id\":\"5b5ad165-fa50-4d36-9339-7e54124432b7\",\"type\":\"Line\"},{\"attributes\":{},\"id\":\"d568cc86-a89f-4a34-90df-7173df833f15\",\"type\":\"BasicTickFormatter\"},{\"attributes\":{},\"id\":\"f78a97e4-71c1-4dc8-9a95-b44de12d4f37\",\"type\":\"DatetimeTickFormatter\"},{\"attributes\":{\"days\":[1,15]},\"id\":\"0b653a8f-4e98-40b2-a830-c6acb08e1711\",\"type\":\"DaysTicker\"},{\"attributes\":{\"months\":[0,1,2,3,4,5,6,7,8,9,10,11]},\"id\":\"bbd5ee83-3199-493e-8016-03536b490af7\",\"type\":\"MonthsTicker\"},{\"attributes\":{\"num_minor_ticks\":5,\"tickers\":[{\"id\":\"434938d8-8724-4202-ba53-162fc86839f8\",\"type\":\"AdaptiveTicker\"},{\"id\":\"1da87687-40be-4bd9-b860-4a5e49f8a124\",\"type\":\"AdaptiveTicker\"},{\"id\":\"49687f69-c9a7-4cbd-9279-1abebc5d22fa\",\"type\":\"AdaptiveTicker\"},{\"id\":\"61b5f7b2-8f3b-40a7-a2eb-537505b6ab38\",\"type\":\"DaysTicker\"},{\"id\":\"df6c0235-cc27-4e1e-92ef-4609e2b779e7\",\"type\":\"DaysTicker\"},{\"id\":\"f3321ce6-b288-45e4-8933-cd3311de22b1\",\"type\":\"DaysTicker\"},{\"id\":\"0b653a8f-4e98-40b2-a830-c6acb08e1711\",\"type\":\"DaysTicker\"},{\"id\":\"bbd5ee83-3199-493e-8016-03536b490af7\",\"type\":\"MonthsTicker\"},{\"id\":\"2d77ae14-68fe-44a4-8cc9-97603198853a\",\"type\":\"MonthsTicker\"},{\"id\":\"bc49f808-cf7c-44cc-915b-8a8ed5bf33b8\",\"type\":\"MonthsTicker\"},{\"id\":\"8cde8aa5-84d6-48af-b573-0b8e85bc0a6f\",\"type\":\"MonthsTicker\"},{\"id\":\"1c9253db-6609-4e21-a428-f03623644985\",\"type\":\"YearsTicker\"}]},\"id\":\"a1084cb3-f1aa-40ce-86a3-cd93521f8582\",\"type\":\"DatetimeTicker\"},{\"attributes\":{\"days\":[1,4,7,10,13,16,19,22,25,28]},\"id\":\"df6c0235-cc27-4e1e-92ef-4609e2b779e7\",\"type\":\"DaysTicker\"},{\"attributes\":{\"callback\":null},\"id\":\"75f56cde-dc85-430c-9615-1f6676f49675\",\"type\":\"DataRange1d\"},{\"attributes\":{\"axis_label\":\"Close Price\",\"formatter\":{\"id\":\"d568cc86-a89f-4a34-90df-7173df833f15\",\"type\":\"BasicTickFormatter\"},\"plot\":{\"id\":\"082f52ca-c3c8-4f0f-9d08-2a74baefa7ac\",\"subtype\":\"Figure\",\"type\":\"Plot\"},\"ticker\":{\"id\":\"efd78f29-80d7-4f2c-b728-0bd6e74b1a89\",\"type\":\"BasicTicker\"}},\"id\":\"553114ec-a2bc-4495-9110-36ff1391ef28\",\"type\":\"LinearAxis\"},{\"attributes\":{\"base\":60,\"mantissas\":[1,2,5,10,15,20,30],\"max_interval\":1800000.0,\"min_interval\":1000.0,\"num_minor_ticks\":0},\"id\":\"1da87687-40be-4bd9-b860-4a5e49f8a124\",\"type\":\"AdaptiveTicker\"},{\"attributes\":{\"bottom_units\":\"screen\",\"fill_alpha\":{\"value\":0.5},\"fill_color\":{\"value\":\"lightgrey\"},\"left_units\":\"screen\",\"level\":\"overlay\",\"line_alpha\":{\"value\":1.0},\"line_color\":{\"value\":\"black\"},\"line_dash\":[4,4],\"line_width\":{\"value\":2},\"plot\":null,\"render_mode\":\"css\",\"right_units\":\"screen\",\"top_units\":\"screen\"},\"id\":\"0974750f-596e-4e8d-bc64-9530345435ed\",\"type\":\"BoxAnnotation\"},{\"attributes\":{\"months\":[0,4,8]},\"id\":\"bc49f808-cf7c-44cc-915b-8a8ed5bf33b8\",\"type\":\"MonthsTicker\"},{\"attributes\":{\"data_source\":{\"id\":\"72b5919e-dbf2-4047-b3bf-3891b975e4fd\",\"type\":\"ColumnDataSource\"},\"glyph\":{\"id\":\"6b92ac60-ac58-456c-896d-cad0c7c48583\",\"type\":\"Line\"},\"hover_glyph\":null,\"muted_glyph\":null,\"nonselection_glyph\":{\"id\":\"5b5ad165-fa50-4d36-9339-7e54124432b7\",\"type\":\"Line\"},\"selection_glyph\":null,\"view\":{\"id\":\"a2ffb8d6-66a7-45d0-9adb-339655841b8a\",\"type\":\"CDSView\"}},\"id\":\"e2856fa3-796b-4d7b-8fb7-5858740a6b9d\",\"type\":\"GlyphRenderer\"},{\"attributes\":{\"label\":{\"value\":\"USO price\"},\"renderers\":[{\"id\":\"e2856fa3-796b-4d7b-8fb7-5858740a6b9d\",\"type\":\"GlyphRenderer\"}]},\"id\":\"340e9bdb-4030-47ed-a1de-ef0373560e5f\",\"type\":\"LegendItem\"},{\"attributes\":{\"source\":{\"id\":\"72b5919e-dbf2-4047-b3bf-3891b975e4fd\",\"type\":\"ColumnDataSource\"}},\"id\":\"6e45f2c2-1658-4ac2-af20-a44f6c33124e\",\"type\":\"CDSView\"},{\"attributes\":{\"months\":[0,6]},\"id\":\"8cde8aa5-84d6-48af-b573-0b8e85bc0a6f\",\"type\":\"MonthsTicker\"},{\"attributes\":{\"grid_line_alpha\":{\"value\":0.3},\"plot\":{\"id\":\"082f52ca-c3c8-4f0f-9d08-2a74baefa7ac\",\"subtype\":\"Figure\",\"type\":\"Plot\"},\"ticker\":{\"id\":\"a1084cb3-f1aa-40ce-86a3-cd93521f8582\",\"type\":\"DatetimeTicker\"}},\"id\":\"f1778b12-19aa-481a-853c-be41e1cf5840\",\"type\":\"Grid\"},{\"attributes\":{},\"id\":\"9ec21bc7-24c1-47ed-9a88-48cd976cf7bd\",\"type\":\"ResetTool\"},{\"attributes\":{},\"id\":\"efd78f29-80d7-4f2c-b728-0bd6e74b1a89\",\"type\":\"BasicTicker\"},{\"attributes\":{\"axis_label\":\"Date\",\"formatter\":{\"id\":\"f78a97e4-71c1-4dc8-9a95-b44de12d4f37\",\"type\":\"DatetimeTickFormatter\"},\"plot\":{\"id\":\"082f52ca-c3c8-4f0f-9d08-2a74baefa7ac\",\"subtype\":\"Figure\",\"type\":\"Plot\"},\"ticker\":{\"id\":\"a1084cb3-f1aa-40ce-86a3-cd93521f8582\",\"type\":\"DatetimeTicker\"}},\"id\":\"d29baa9f-72e4-496e-96e0-bf624d5dd500\",\"type\":\"DatetimeAxis\"},{\"attributes\":{\"plot\":null,\"text\":\"Closing Prices\"},\"id\":\"c015f51e-db93-4943-a4d2-ea49f0a15c19\",\"type\":\"Title\"}],\"root_ids\":[\"082f52ca-c3c8-4f0f-9d08-2a74baefa7ac\"]},\"title\":\"Bokeh Application\",\"version\":\"0.12.15\"}};\n",
       "  var render_items = [{\"docid\":\"d4b531bb-0151-406c-9755-4f713624c879\",\"elementid\":\"13801294-275c-4c55-b22e-6598e0b2d047\",\"modelid\":\"082f52ca-c3c8-4f0f-9d08-2a74baefa7ac\"}];\n",
       "  root.Bokeh.embed.embed_items_notebook(docs_json, render_items);\n",
       "\n",
       "  }\n",
       "  if (root.Bokeh !== undefined) {\n",
       "    embed_document(root);\n",
       "  } else {\n",
       "    var attempts = 0;\n",
       "    var timer = setInterval(function(root) {\n",
       "      if (root.Bokeh !== undefined) {\n",
       "        embed_document(root);\n",
       "        clearInterval(timer);\n",
       "      }\n",
       "      attempts++;\n",
       "      if (attempts > 100) {\n",
       "        console.log(\"Bokeh: ERROR: Unable to run BokehJS code because BokehJS library is missing\")\n",
       "        clearInterval(timer);\n",
       "      }\n",
       "    }, 10, root)\n",
       "  }\n",
       "})(window);"
      ],
      "application/vnd.bokehjs_exec.v0+json": ""
     },
     "metadata": {
      "application/vnd.bokehjs_exec.v0+json": {
       "id": "082f52ca-c3c8-4f0f-9d08-2a74baefa7ac"
      }
     },
     "output_type": "display_data"
    }
   ],
   "source": [
    "data_close_2 = data.xs('cl')[['tday', 'USO', 'GLD']] # create a new df just for the 2 etfs\n",
    "print(data_close_2.head())\n",
    "\n",
    "# create bokeh data object\n",
    "close_for_plot = ColumnDataSource(data_close_2) # convert pd.DataFrame to bokeh.models.ColumnDataSource\n",
    "\n",
    "# create a figure object\n",
    "p = figure(x_axis_type=\"datetime\", title=\"Closing Prices\")\n",
    "p.grid.grid_line_alpha=0.3\n",
    "p.xaxis.axis_label = 'Date'\n",
    "p.yaxis.axis_label = 'Close Price'\n",
    "\n",
    "# add elements to the figure\n",
    "p.line('tday', 'USO', color='#A6CEE3', source=close_for_plot, legend='USO price')\n",
    "p.line('tday', 'GLD', color='#FB9A99', source=close_for_plot, legend='GLD price')\n",
    "p.legend.location = \"top_left\"\n",
    "\n",
    "show(p)"
   ]
  },
  {
   "cell_type": "markdown",
   "metadata": {},
   "source": [
    "Once we get the dataset straight, we can go ahead develop the strategy. We first need to run a rolling OLS to determine the hedge ratio between the two assets. Then, according to bollinger band definition, we find the trading signal and update the dollar position of each asset class."
   ]
  },
  {
   "cell_type": "code",
   "execution_count": 17,
   "metadata": {},
   "outputs": [
    {
     "name": "stderr",
     "output_type": "stream",
     "text": [
      "/home/adam/.pyenv/ep-chan/lib/python3.5/site-packages/numpy/core/fromnumeric.py:2389: FutureWarning: Method .ptp is deprecated and will be removed in a future version. Use numpy.ptp instead.\n",
      "  return ptp(axis=axis, out=out, **kwargs)\n"
     ]
    },
    {
     "name": "stdout",
     "output_type": "stream",
     "text": [
      "(1500, 4)\n",
      "         tday    USO    GLD  hedge_ratio\n",
      "0  2006-04-26  69.54  63.65          NaN\n",
      "1  2006-04-27  68.70  62.96          NaN\n",
      "2  2006-04-28  69.62  65.09          NaN\n",
      "3  2006-05-01  71.50  65.16          NaN\n",
      "4  2006-05-02  72.34  66.55          NaN\n",
      "5  2006-05-03  70.22  66.46          NaN\n",
      "6  2006-05-04  68.32  67.48          NaN\n",
      "7  2006-05-05  68.00  67.99          NaN\n",
      "8  2006-05-08  67.88  67.56          NaN\n",
      "9  2006-05-09  68.40  69.68          NaN\n",
      "10 2006-05-10  69.77  70.38          NaN\n",
      "11 2006-05-11  70.30  71.03          NaN\n",
      "12 2006-05-12  69.11  71.12          NaN\n",
      "13 2006-05-15  66.63  67.41          NaN\n",
      "14 2006-05-16  66.70  68.61          NaN\n",
      "15 2006-05-17  65.70  68.15          NaN\n",
      "16 2006-05-18  66.74  67.46          NaN\n",
      "17 2006-05-19  65.57  65.58          NaN\n",
      "18 2006-05-22  66.28  65.30          NaN\n",
      "19 2006-05-23  67.77  66.38          NaN\n",
      "20 2006-05-24  66.10  64.06    -0.008949\n",
      "21 2006-05-25  67.80  64.70     0.110609\n",
      "22 2006-05-26  67.75  65.10     0.163881\n",
      "23 2006-05-30  68.32  65.11     0.214211\n",
      "24 2006-05-31  67.73  64.23     0.296067\n",
      "25 2006-06-01  66.82  62.56     0.306888\n",
      "26 2006-06-02  68.90  63.50     0.300438\n",
      "27 2006-06-05  68.74  63.29     0.233574\n",
      "28 2006-06-06  68.76  62.55     0.184351\n",
      "29 2006-06-07  67.28  62.28     0.136417\n"
     ]
    }
   ],
   "source": [
    "import statsmodels.api as sm\n",
    "\n",
    "y_ticker = 'USO'\n",
    "x_ticker = 'GLD'\n",
    "\n",
    "temp_y = data_close_2[y_ticker]\n",
    "temp_x = data_close_2[x_ticker]\n",
    "\n",
    "lookback = 20\n",
    "entryZscore = 1.0\n",
    "exitZscore = 0.0\n",
    "\n",
    "data_close_2_copy = data_close_2 # copy the original data, to be safe\n",
    "data_close_2_copy['hedge_ratio'] = np.nan # create a nan column for future hedge_ratio storage\n",
    "\n",
    "for t in range(lookback, len(temp_x)): # loop through dates, for every date, calculate hedge ratio using lookback period\n",
    "    y = temp_y[t-lookback:t] \n",
    "    x = temp_x[t-lookback:t]\n",
    "    x = sm.add_constant(x) # add constant for `statsmodels.api.OLS` to work\n",
    "    beta = sm.OLS(y,x).fit().params[1] # return slope from `OLS`\n",
    "    data_close_2_copy.loc[t, 'hedge_ratio'] = beta # store beta as hedge ratio\n",
    "\n",
    "print(data_close_2_copy.shape)\n",
    "print(data_close_2_copy.head(30))"
   ]
  },
  {
   "cell_type": "code",
   "execution_count": 20,
   "metadata": {},
   "outputs": [
    {
     "name": "stdout",
     "output_type": "stream",
     "text": [
      "            GLD    USO\n",
      "1490  -0.000000   0.00\n",
      "1491  -0.000000   0.00\n",
      "1492  -0.000000   0.00\n",
      "1493  -0.000000   0.00\n",
      "1494  -0.000000   0.00\n",
      "1495  -0.000000   0.00\n",
      "1496  -0.000000   0.00\n",
      "1497 -17.044724  38.84\n",
      "1498 -25.320990  39.26\n",
      "1499 -28.921578  38.97\n"
     ]
    }
   ],
   "source": [
    "from numpy import matlib as mb\n",
    "\n",
    "# book page 71, use price spread `USO - hedgeRatio * GLD` as signal\n",
    "cols = [x_ticker, y_ticker]\n",
    "yport = np.ones(data_close_2_copy[cols].shape)\n",
    "yport[:,0] = -data_close_2_copy['hedge_ratio']\n",
    "yport = yport * data_close_2_copy[cols]\n",
    "yport = yport['GLD'] + yport['USO'] \n",
    "\n",
    "moving_avg = yport.rolling(window=lookback).mean()\n",
    "moving_std = yport.rolling(window=lookback).std()\n",
    "Zscore = (yport - moving_avg) / moving_std\n",
    "\n",
    "# trade signals, boolean\n",
    "long_entry = Zscore < -entryZscore # buy when price is lower than -entryZscore\n",
    "long_exit = Zscore >= -exitZscore # sell when price is higher than or equal to -exitZscore\n",
    "short_entry = Zscore > entryZscore # short buy when price is higher than entryZscore\n",
    "short_exit = Zscore <= exitZscore # short sell when price is lower than or equal to exitZscore\n",
    "\n",
    "num_units_long = np.empty((len(yport), 1))\n",
    "num_units_long = pd.DataFrame(np.where(long_entry, 1, 0))\n",
    "# num_units_long = pd.DataFrame(np.where(long_exit, 0, np.nan))\n",
    "num_units_short = np.empty((len(yport), 1))\n",
    "num_units_short = pd.DataFrame(np.where(short_entry, -1, 0))\n",
    "# num_units_short = pd.DataFrame(np.where(short_exit, 0, np.nan))\n",
    "num_units = num_units_long + num_units_short\n",
    "\n",
    "# create dollar position for each asset\n",
    "temp1 = pd.DataFrame(mb.repmat(num_units, 1, 2))\n",
    "temp2 = np.ones(data_close_2_copy[cols].shape)\n",
    "temp2[:, 0] = -data_close_2_copy['hedge_ratio']\n",
    "\n",
    "position = np.multiply(np.multiply(temp1, temp2), data_close_2_copy[cols])\n",
    "position.columns = [x_ticker, y_ticker]\n",
    "print(position.tail(10))"
   ]
  },
  {
   "cell_type": "markdown",
   "metadata": {},
   "source": [
    "Next, let's compute the P&L and other performance measures for this strategy."
   ]
  },
  {
   "cell_type": "code",
   "execution_count": 1,
   "metadata": {},
   "outputs": [
    {
     "ename": "NameError",
     "evalue": "name 'np' is not defined",
     "output_type": "error",
     "traceback": [
      "\u001b[0;31m---------------------------------------------------------------------------\u001b[0m",
      "\u001b[0;31mNameError\u001b[0m                                 Traceback (most recent call last)",
      "\u001b[0;32m<ipython-input-1-7ec05f6dd977>\u001b[0m in \u001b[0;36m<module>\u001b[0;34m\u001b[0m\n\u001b[1;32m      1\u001b[0m \u001b[0;31m# daily pnl in dollar\u001b[0m\u001b[0;34m\u001b[0m\u001b[0;34m\u001b[0m\u001b[0m\n\u001b[0;32m----> 2\u001b[0;31m \u001b[0mpnl\u001b[0m \u001b[0;34m=\u001b[0m \u001b[0mnp\u001b[0m\u001b[0;34m.\u001b[0m\u001b[0msum\u001b[0m\u001b[0;34m(\u001b[0m\u001b[0mnp\u001b[0m\u001b[0;34m.\u001b[0m\u001b[0mmultiply\u001b[0m\u001b[0;34m(\u001b[0m\u001b[0mposition\u001b[0m\u001b[0;34m[\u001b[0m\u001b[0;34m:\u001b[0m\u001b[0;34m-\u001b[0m\u001b[0;36m1\u001b[0m\u001b[0;34m]\u001b[0m\u001b[0;34m,\u001b[0m \u001b[0mnp\u001b[0m\u001b[0;34m.\u001b[0m\u001b[0mdivide\u001b[0m\u001b[0;34m(\u001b[0m\u001b[0mnp\u001b[0m\u001b[0;34m.\u001b[0m\u001b[0mdiff\u001b[0m\u001b[0;34m(\u001b[0m\u001b[0mdata_close_2_copy\u001b[0m\u001b[0;34m[\u001b[0m\u001b[0mcols\u001b[0m\u001b[0;34m]\u001b[0m\u001b[0;34m,\u001b[0m \u001b[0maxis\u001b[0m\u001b[0;34m=\u001b[0m\u001b[0;36m0\u001b[0m\u001b[0;34m)\u001b[0m\u001b[0;34m,\u001b[0m \u001b[0mdata_close_2_copy\u001b[0m\u001b[0;34m[\u001b[0m\u001b[0mcols\u001b[0m\u001b[0;34m]\u001b[0m\u001b[0;34m[\u001b[0m\u001b[0;34m:\u001b[0m\u001b[0;34m-\u001b[0m\u001b[0;36m1\u001b[0m\u001b[0;34m]\u001b[0m\u001b[0;34m)\u001b[0m\u001b[0;34m)\u001b[0m\u001b[0;34m,\u001b[0m \u001b[0maxis\u001b[0m\u001b[0;34m=\u001b[0m\u001b[0;36m1\u001b[0m\u001b[0;34m)\u001b[0m\u001b[0;34m\u001b[0m\u001b[0m\n\u001b[0m\u001b[1;32m      3\u001b[0m \u001b[0;34m\u001b[0m\u001b[0m\n\u001b[1;32m      4\u001b[0m \u001b[0;31m# gross market value\u001b[0m\u001b[0;34m\u001b[0m\u001b[0;34m\u001b[0m\u001b[0m\n\u001b[1;32m      5\u001b[0m \u001b[0mmkt_value\u001b[0m \u001b[0;34m=\u001b[0m \u001b[0mpd\u001b[0m\u001b[0;34m.\u001b[0m\u001b[0mDataFrame\u001b[0m\u001b[0;34m.\u001b[0m\u001b[0msum\u001b[0m\u001b[0;34m(\u001b[0m\u001b[0mabs\u001b[0m\u001b[0;34m(\u001b[0m\u001b[0mposition\u001b[0m\u001b[0;34m[\u001b[0m\u001b[0;34m:\u001b[0m\u001b[0;34m-\u001b[0m\u001b[0;36m1\u001b[0m\u001b[0;34m]\u001b[0m\u001b[0;34m)\u001b[0m\u001b[0;34m,\u001b[0m \u001b[0maxis\u001b[0m\u001b[0;34m=\u001b[0m\u001b[0;36m1\u001b[0m\u001b[0;34m)\u001b[0m\u001b[0;34m\u001b[0m\u001b[0m\n",
      "\u001b[0;31mNameError\u001b[0m: name 'np' is not defined"
     ]
    }
   ],
   "source": [
    "# daily pnl in dollar\n",
    "pnl = np.sum(np.multiply(position[:-1], np.divide(np.diff(data_close_2_copy[cols], axis=0), data_close_2_copy[cols][:-1])), axis=1)\n",
    "\n",
    "# gross market value\n",
    "mkt_value = pd.DataFrame.sum(abs(position[:-1]), axis=1)\n",
    "print(mkt_value)\n",
    "\n",
    "# return is pnl divided by gross market value\n",
    "ret = pnl / mkt_value\n",
    "ret = ret.fillna(method='pad')\n",
    "\n",
    "# compute Sharpe\n",
    "sharpe = (np.sqrt(252) * np.mean(ret)) / np.std(ret) \n",
    "APR = np.prod(1+ret) ** (252.0 / len(ret)) - 1\n",
    "print('Price spread Sharpe: {:.4}'.format(sharpe))\n",
    "print('Price spread APR: {:.4%}'.format(APR))"
   ]
  },
  {
   "cell_type": "markdown",
   "metadata": {},
   "source": [
    "Now, let's plot the cumulative returns."
   ]
  },
  {
   "cell_type": "code",
   "execution_count": 22,
   "metadata": {},
   "outputs": [
    {
     "data": {
      "text/html": [
       "\n",
       "<div class=\"bk-root\">\n",
       "    <div class=\"bk-plotdiv\" id=\"7a1af188-d9d3-4c28-8c1a-3c822449809f\"></div>\n",
       "</div>"
      ]
     },
     "metadata": {},
     "output_type": "display_data"
    },
    {
     "data": {
      "application/javascript": [
       "(function(root) {\n",
       "  function embed_document(root) {\n",
       "    \n",
       "  var docs_json = {\"e7eb24c2-1588-4035-9a5b-bbf5b38e8a01\":{\"roots\":{\"references\":[{\"attributes\":{\"base\":60,\"mantissas\":[1,2,5,10,15,20,30],\"max_interval\":1800000.0,\"min_interval\":1000.0,\"num_minor_ticks\":0},\"id\":\"1e95a6d6-42b9-4475-a651-5176b7655495\",\"type\":\"AdaptiveTicker\"},{\"attributes\":{\"bottom_units\":\"screen\",\"fill_alpha\":{\"value\":0.5},\"fill_color\":{\"value\":\"lightgrey\"},\"left_units\":\"screen\",\"level\":\"overlay\",\"line_alpha\":{\"value\":1.0},\"line_color\":{\"value\":\"black\"},\"line_dash\":[4,4],\"line_width\":{\"value\":2},\"plot\":null,\"render_mode\":\"css\",\"right_units\":\"screen\",\"top_units\":\"screen\"},\"id\":\"d6919ada-8da0-4250-8709-42eb8d64b930\",\"type\":\"BoxAnnotation\"},{\"attributes\":{\"months\":[0,6]},\"id\":\"8b84270f-539e-4f9c-8a5e-1c91623769c4\",\"type\":\"MonthsTicker\"},{\"attributes\":{\"months\":[0,2,4,6,8,10]},\"id\":\"3c71d87f-1bb7-4e48-8477-9829a36c13d7\",\"type\":\"MonthsTicker\"},{\"attributes\":{},\"id\":\"51a17999-e888-4439-ae29-53d38493712b\",\"type\":\"YearsTicker\"},{\"attributes\":{},\"id\":\"efbced52-809e-43f8-a315-896a8af0e015\",\"type\":\"LinearScale\"},{\"attributes\":{\"base\":24,\"mantissas\":[1,2,4,6,8,12],\"max_interval\":43200000.0,\"min_interval\":3600000.0,\"num_minor_ticks\":0},\"id\":\"0e753afa-5be1-46ac-ab7d-33b7f010a832\",\"type\":\"AdaptiveTicker\"},{\"attributes\":{\"days\":[1,2,3,4,5,6,7,8,9,10,11,12,13,14,15,16,17,18,19,20,21,22,23,24,25,26,27,28,29,30,31]},\"id\":\"0966e374-9566-482d-9a31-0e3cd60aeaa0\",\"type\":\"DaysTicker\"},{\"attributes\":{\"days\":[1,4,7,10,13,16,19,22,25,28]},\"id\":\"2e521559-88f6-4af5-adee-5e8a28eabe96\",\"type\":\"DaysTicker\"},{\"attributes\":{\"callback\":null},\"id\":\"d5d5dd50-4695-4879-8cc2-41b5d450a49a\",\"type\":\"DataRange1d\"},{\"attributes\":{\"days\":[1,15]},\"id\":\"4a910f3e-3489-4824-a540-6fce37747dc4\",\"type\":\"DaysTicker\"},{\"attributes\":{},\"id\":\"f57a1bc6-79f6-421d-84cd-7bc11995e966\",\"type\":\"BasicTickFormatter\"},{\"attributes\":{},\"id\":\"24a9da42-d3ea-49d1-8b58-82eeff74e77f\",\"type\":\"PanTool\"},{\"attributes\":{},\"id\":\"115e9216-7e78-4e73-88cb-9a92aceaf176\",\"type\":\"WheelZoomTool\"},{\"attributes\":{\"mantissas\":[1,2,5],\"max_interval\":500.0,\"num_minor_ticks\":0},\"id\":\"da127651-d695-48a0-9216-5279f4cc6ed6\",\"type\":\"AdaptiveTicker\"},{\"attributes\":{\"months\":[0,4,8]},\"id\":\"fbd4202b-c1be-41be-9826-73c5670f042e\",\"type\":\"MonthsTicker\"},{\"attributes\":{\"line_color\":\"#A6CEE3\",\"x\":{\"field\":\"tday\"},\"y\":{\"field\":\"acum_ret\"}},\"id\":\"3f364ce7-f8d5-4289-89fb-61272e1de85b\",\"type\":\"Line\"},{\"attributes\":{\"grid_line_alpha\":{\"value\":0.3},\"plot\":{\"id\":\"59ad7fa8-1d0b-478b-907c-2b3eb63f3900\",\"subtype\":\"Figure\",\"type\":\"Plot\"},\"ticker\":{\"id\":\"a6ffa8a7-be29-4c23-b9bc-93721a4671d4\",\"type\":\"DatetimeTicker\"}},\"id\":\"d11f7ba2-2be5-4e5c-af5b-0fcf11f4591b\",\"type\":\"Grid\"},{\"attributes\":{},\"id\":\"d5b10a05-b486-409d-b14c-1754dde69f27\",\"type\":\"SaveTool\"},{\"attributes\":{\"data_source\":{\"id\":\"3e977c37-a9ae-49b0-9e1f-f7a3f6d245a9\",\"type\":\"ColumnDataSource\"},\"glyph\":{\"id\":\"3f364ce7-f8d5-4289-89fb-61272e1de85b\",\"type\":\"Line\"},\"hover_glyph\":null,\"muted_glyph\":null,\"nonselection_glyph\":{\"id\":\"9594e2ac-44a1-462d-8f43-0178515d1b70\",\"type\":\"Line\"},\"selection_glyph\":null,\"view\":{\"id\":\"cc4368c2-4461-40a8-acd0-c255f8a3d1ad\",\"type\":\"CDSView\"}},\"id\":\"3b0d5743-182c-4a4f-85b0-b14fa213d660\",\"type\":\"GlyphRenderer\"},{\"attributes\":{\"line_alpha\":0.1,\"line_color\":\"#1f77b4\",\"x\":{\"field\":\"tday\"},\"y\":{\"field\":\"acum_ret\"}},\"id\":\"9594e2ac-44a1-462d-8f43-0178515d1b70\",\"type\":\"Line\"},{\"attributes\":{\"callback\":null},\"id\":\"3c39c2ee-aa91-415a-8e1f-226bbc2c97d7\",\"type\":\"DataRange1d\"},{\"attributes\":{\"label\":{\"value\":\"acum return\"},\"renderers\":[{\"id\":\"3b0d5743-182c-4a4f-85b0-b14fa213d660\",\"type\":\"GlyphRenderer\"}]},\"id\":\"dbdaa79a-0b39-4068-b08e-270ef56a1a29\",\"type\":\"LegendItem\"},{\"attributes\":{\"months\":[0,1,2,3,4,5,6,7,8,9,10,11]},\"id\":\"bcd2928b-ba5e-411b-bfa9-f390e18cf46d\",\"type\":\"MonthsTicker\"},{\"attributes\":{\"callback\":null,\"column_names\":[\"acum_ret\",\"tday\",\"index\"],\"data\":{\"acum_ret\":{\"__ndarray__\":\"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\",\"dtype\":\"float64\",\"shape\":[1499]},\"index\":[0,1,2,3,4,5,6,7,8,9,10,11,12,13,14,15,16,17,18,19,20,21,22,23,24,25,26,27,28,29,30,31,32,33,34,35,36,37,38,39,40,41,42,43,44,45,46,47,48,49,50,51,52,53,54,55,56,57,58,59,60,61,62,63,64,65,66,67,68,69,70,71,72,73,74,75,76,77,78,79,80,81,82,83,84,85,86,87,88,89,90,91,92,93,94,95,96,97,98,99,100,101,102,103,104,105,106,107,108,109,110,111,112,113,114,115,116,117,118,119,120,121,122,123,124,125,126,127,128,129,130,131,132,133,134,135,136,137,138,139,140,141,142,143,144,145,146,147,148,149,150,151,152,153,154,155,156,157,158,159,160,161,162,163,164,165,166,167,168,169,170,171,172,173,174,175,176,177,178,179,180,181,182,183,184,185,186,187,188,189,190,191,192,193,194,195,196,197,198,199,200,201,202,203,204,205,206,207,208,209,210,211,212,213,214,215,216,217,218,219,220,221,222,223,224,225,226,227,228,229,230,231,232,233,234,235,236,237,238,239,240,241,242,243,244,245,246,247,248,249,250,251,252,253,254,255,256,257,258,259,260,261,262,263,264,265,266,267,268,269,270,271,272,273,274,275,276,277,278,279,280,281,282,283,284,285,286,287,288,289,290,291,292,293,294,295,296,297,298,299,300,301,302,303,304,305,306,307,308,309,310,311,312,313,314,315,316,317,318,319,320,321,322,323,324,325,326,327,328,329,330,331,332,333,334,335,336,337,338,339,340,341,342,343,344,345,346,347,348,349,350,351,352,353,354,355,356,357,358,359,360,361,362,363,364,365,366,367,368,369,370,371,372,373,374,375,376,377,378,379,380,381,382,383,384,385,386,387,388,389,390,391,392,393,394,395,396,397,398,399,400,401,402,403,404,405,406,407,408,409,410,411,412,413,414,415,416,417,418,419,420,421,422,423,424,425,426,427,428,429,430,431,432,433,434,435,436,437,438,439,440,441,442,443,444,445,446,447,448,449,450,451,452,453,454,455,456,457,458,459,460,461,462,463,464,465,466,467,468,469,470,471,472,473,474,475,476,477,478,479,480,481,482,483,484,485,486,487,488,489,490,491,492,493,494,495,496,497,498,499,500,501,502,503,504,505,506,507,508,509,510,511,512,513,514,515,516,517,518,519,520,521,522,523,524,525,526,527,528,529,530,531,532,533,534,535,536,537,538,539,540,541,542,543,544,545,546,547,548,549,550,551,552,553,554,555,556,557,558,559,560,561,562,563,564,565,566,567,568,569,570,571,572,573,574,575,576,577,578,579,580,581,582,583,584,585,586,587,588,589,590,591,592,593,594,595,596,597,598,599,600,601,602,603,604,605,606,607,608,609,610,611,612,613,614,615,616,617,618,619,620,621,622,623,624,625,626,627,628,629,630,631,632,633,634,635,636,637,638,639,640,641,642,643,644,645,646,647,648,649,650,651,652,653,654,655,656,657,658,659,660,661,662,663,664,665,666,667,668,669,670,671,672,673,674,675,676,677,678,679,680,681,682,683,684,685,686,687,688,689,690,691,692,693,694,695,696,697,698,699,700,701,702,703,704,705,706,707,708,709,710,711,712,713,714,715,716,717,718,719,720,721,722,723,724,725,726,727,728,729,730,731,732,733,734,735,736,737,738,739,740,741,742,743,744,745,746,747,748,749,750,751,752,753,754,755,756,757,758,759,760,761,762,763,764,765,766,767,768,769,770,771,772,773,774,775,776,777,778,779,780,781,782,783,784,785,786,787,788,789,790,791,792,793,794,795,796,797,798,799,800,801,802,803,804,805,806,807,808,809,810,811,812,813,814,815,816,817,818,819,820,821,822,823,824,825,826,827,828,829,830,831,832,833,834,835,836,837,838,839,840,841,842,843,844,845,846,847,848,849,850,851,852,853,854,855,856,857,858,859,860,861,862,863,864,865,866,867,868,869,870,871,872,873,874,875,876,877,878,879,880,881,882,883,884,885,886,887,888,889,890,891,892,893,894,895,896,897,898,899,900,901,902,903,904,905,906,907,908,909,910,911,912,913,914,915,916,917,918,919,920,921,922,923,924,925,926,927,928,929,930,931,932,933,934,935,936,937,938,939,940,941,942,943,944,945,946,947,948,949,950,951,952,953,954,955,956,957,958,959,960,961,962,963,964,965,966,967,968,969,970,971,972,973,974,975,976,977,978,979,980,981,982,983,984,985,986,987,988,989,990,991,992,993,994,995,996,997,998,999,1000,1001,1002,1003,1004,1005,1006,1007,1008,1009,1010,1011,1012,1013,1014,1015,1016,1017,1018,1019,1020,1021,1022,1023,1024,1025,1026,1027,1028,1029,1030,1031,1032,1033,1034,1035,1036,1037,1038,1039,1040,1041,1042,1043,1044,1045,1046,1047,1048,1049,1050,1051,1052,1053,1054,1055,1056,1057,1058,1059,1060,1061,1062,1063,1064,1065,1066,1067,1068,1069,1070,1071,1072,1073,1074,1075,1076,1077,1078,1079,1080,1081,1082,1083,1084,1085,1086,1087,1088,1089,1090,1091,1092,1093,1094,1095,1096,1097,1098,1099,1100,1101,1102,1103,1104,1105,1106,1107,1108,1109,1110,1111,1112,1113,1114,1115,1116,1117,1118,1119,1120,1121,1122,1123,1124,1125,1126,1127,1128,1129,1130,1131,1132,1133,1134,1135,1136,1137,1138,1139,1140,1141,1142,1143,1144,1145,1146,1147,1148,1149,1150,1151,1152,1153,1154,1155,1156,1157,1158,1159,1160,1161,1162,1163,1164,1165,1166,1167,1168,1169,1170,1171,1172,1173,1174,1175,1176,1177,1178,1179,1180,1181,1182,1183,1184,1185,1186,1187,1188,1189,1190,1191,1192,1193,1194,1195,1196,1197,1198,1199,1200,1201,1202,1203,1204,1205,1206,1207,1208,1209,1210,1211,1212,1213,1214,1215,1216,1217,1218,1219,1220,1221,1222,1223,1224,1225,1226,1227,1228,1229,1230,1231,1232,1233,1234,1235,1236,1237,1238,1239,1240,1241,1242,1243,1244,1245,1246,1247,1248,1249,1250,1251,1252,1253,1254,1255,1256,1257,1258,1259,1260,1261,1262,1263,1264,1265,1266,1267,1268,1269,1270,1271,1272,1273,1274,1275,1276,1277,1278,1279,1280,1281,1282,1283,1284,1285,1286,1287,1288,1289,1290,1291,1292,1293,1294,1295,1296,1297,1298,1299,1300,1301,1302,1303,1304,1305,1306,1307,1308,1309,1310,1311,1312,1313,1314,1315,1316,1317,1318,1319,1320,1321,1322,1323,1324,1325,1326,1327,1328,1329,1330,1331,1332,1333,1334,1335,1336,1337,1338,1339,1340,1341,1342,1343,1344,1345,1346,1347,1348,1349,1350,1351,1352,1353,1354,1355,1356,1357,1358,1359,1360,1361,1362,1363,1364,1365,1366,1367,1368,1369,1370,1371,1372,1373,1374,1375,1376,1377,1378,1379,1380,1381,1382,1383,1384,1385,1386,1387,1388,1389,1390,1391,1392,1393,1394,1395,1396,1397,1398,1399,1400,1401,1402,1403,1404,1405,1406,1407,1408,1409,1410,1411,1412,1413,1414,1415,1416,1417,1418,1419,1420,1421,1422,1423,1424,1425,1426,1427,1428,1429,1430,1431,1432,1433,1434,1435,1436,1437,1438,1439,1440,1441,1442,1443,1444,1445,1446,1447,1448,1449,1450,1451,1452,1453,1454,1455,1456,1457,1458,1459,1460,1461,1462,1463,1464,1465,1466,1467,1468,1469,1470,1471,1472,1473,1474,1475,1476,1477,1478,1479,1480,1481,1482,1483,1484,1485,1486,1487,1488,1489,1490,1491,1492,1493,1494,1495,1496,1497,1498],\"tday\":{\"__ndarray__\":\"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\",\"dtype\":\"float64\",\"shape\":[1499]}},\"selected\":null,\"selection_policy\":null},\"id\":\"3e977c37-a9ae-49b0-9e1f-f7a3f6d245a9\",\"type\":\"ColumnDataSource\"},{\"attributes\":{\"dimension\":1,\"grid_line_alpha\":{\"value\":0.3},\"plot\":{\"id\":\"59ad7fa8-1d0b-478b-907c-2b3eb63f3900\",\"subtype\":\"Figure\",\"type\":\"Plot\"},\"ticker\":{\"id\":\"e4abb2f6-5d18-425a-a41c-735c8f89b976\",\"type\":\"BasicTicker\"}},\"id\":\"1a31398a-8a83-4d8f-8436-3f260b2679b7\",\"type\":\"Grid\"},{\"attributes\":{\"below\":[{\"id\":\"1a6f1eba-dfb4-426d-88d6-5181175b6c6f\",\"type\":\"DatetimeAxis\"}],\"left\":[{\"id\":\"12677aa6-dc9c-46a7-8e28-be974a4f1ab4\",\"type\":\"LinearAxis\"}],\"renderers\":[{\"id\":\"1a6f1eba-dfb4-426d-88d6-5181175b6c6f\",\"type\":\"DatetimeAxis\"},{\"id\":\"d11f7ba2-2be5-4e5c-af5b-0fcf11f4591b\",\"type\":\"Grid\"},{\"id\":\"12677aa6-dc9c-46a7-8e28-be974a4f1ab4\",\"type\":\"LinearAxis\"},{\"id\":\"1a31398a-8a83-4d8f-8436-3f260b2679b7\",\"type\":\"Grid\"},{\"id\":\"d6919ada-8da0-4250-8709-42eb8d64b930\",\"type\":\"BoxAnnotation\"},{\"id\":\"d83bf1b5-bf6a-46fd-ab22-6795386a7ad8\",\"type\":\"Legend\"},{\"id\":\"3b0d5743-182c-4a4f-85b0-b14fa213d660\",\"type\":\"GlyphRenderer\"}],\"title\":{\"id\":\"fbecf3a7-1567-490f-8917-4c2c61ba1808\",\"type\":\"Title\"},\"toolbar\":{\"id\":\"aa56717e-9683-415b-8bdd-7bdbba449308\",\"type\":\"Toolbar\"},\"x_range\":{\"id\":\"3c39c2ee-aa91-415a-8e1f-226bbc2c97d7\",\"type\":\"DataRange1d\"},\"x_scale\":{\"id\":\"efbced52-809e-43f8-a315-896a8af0e015\",\"type\":\"LinearScale\"},\"y_range\":{\"id\":\"d5d5dd50-4695-4879-8cc2-41b5d450a49a\",\"type\":\"DataRange1d\"},\"y_scale\":{\"id\":\"db9c8447-7384-46b5-bdbf-4ba20bc849bc\",\"type\":\"LinearScale\"}},\"id\":\"59ad7fa8-1d0b-478b-907c-2b3eb63f3900\",\"subtype\":\"Figure\",\"type\":\"Plot\"},{\"attributes\":{},\"id\":\"e4abb2f6-5d18-425a-a41c-735c8f89b976\",\"type\":\"BasicTicker\"},{\"attributes\":{},\"id\":\"81a264c6-f0d4-4ecd-b014-79104e19c26f\",\"type\":\"DatetimeTickFormatter\"},{\"attributes\":{},\"id\":\"0a38f16a-bb5e-4d34-810a-cfa8e0853e8b\",\"type\":\"HelpTool\"},{\"attributes\":{\"items\":[{\"id\":\"dbdaa79a-0b39-4068-b08e-270ef56a1a29\",\"type\":\"LegendItem\"}],\"location\":\"top_left\",\"plot\":{\"id\":\"59ad7fa8-1d0b-478b-907c-2b3eb63f3900\",\"subtype\":\"Figure\",\"type\":\"Plot\"}},\"id\":\"d83bf1b5-bf6a-46fd-ab22-6795386a7ad8\",\"type\":\"Legend\"},{\"attributes\":{\"axis_label\":\"Cumulative Returns\",\"formatter\":{\"id\":\"f57a1bc6-79f6-421d-84cd-7bc11995e966\",\"type\":\"BasicTickFormatter\"},\"plot\":{\"id\":\"59ad7fa8-1d0b-478b-907c-2b3eb63f3900\",\"subtype\":\"Figure\",\"type\":\"Plot\"},\"ticker\":{\"id\":\"e4abb2f6-5d18-425a-a41c-735c8f89b976\",\"type\":\"BasicTicker\"}},\"id\":\"12677aa6-dc9c-46a7-8e28-be974a4f1ab4\",\"type\":\"LinearAxis\"},{\"attributes\":{\"num_minor_ticks\":5,\"tickers\":[{\"id\":\"da127651-d695-48a0-9216-5279f4cc6ed6\",\"type\":\"AdaptiveTicker\"},{\"id\":\"1e95a6d6-42b9-4475-a651-5176b7655495\",\"type\":\"AdaptiveTicker\"},{\"id\":\"0e753afa-5be1-46ac-ab7d-33b7f010a832\",\"type\":\"AdaptiveTicker\"},{\"id\":\"0966e374-9566-482d-9a31-0e3cd60aeaa0\",\"type\":\"DaysTicker\"},{\"id\":\"2e521559-88f6-4af5-adee-5e8a28eabe96\",\"type\":\"DaysTicker\"},{\"id\":\"66093251-af47-4c87-bd8b-c8ffdec1cdde\",\"type\":\"DaysTicker\"},{\"id\":\"4a910f3e-3489-4824-a540-6fce37747dc4\",\"type\":\"DaysTicker\"},{\"id\":\"bcd2928b-ba5e-411b-bfa9-f390e18cf46d\",\"type\":\"MonthsTicker\"},{\"id\":\"3c71d87f-1bb7-4e48-8477-9829a36c13d7\",\"type\":\"MonthsTicker\"},{\"id\":\"fbd4202b-c1be-41be-9826-73c5670f042e\",\"type\":\"MonthsTicker\"},{\"id\":\"8b84270f-539e-4f9c-8a5e-1c91623769c4\",\"type\":\"MonthsTicker\"},{\"id\":\"51a17999-e888-4439-ae29-53d38493712b\",\"type\":\"YearsTicker\"}]},\"id\":\"a6ffa8a7-be29-4c23-b9bc-93721a4671d4\",\"type\":\"DatetimeTicker\"},{\"attributes\":{\"plot\":null,\"text\":\"Cumulative Returns\"},\"id\":\"fbecf3a7-1567-490f-8917-4c2c61ba1808\",\"type\":\"Title\"},{\"attributes\":{\"overlay\":{\"id\":\"d6919ada-8da0-4250-8709-42eb8d64b930\",\"type\":\"BoxAnnotation\"}},\"id\":\"1952f42e-efa0-475d-b102-5389255380a6\",\"type\":\"BoxZoomTool\"},{\"attributes\":{\"active_drag\":\"auto\",\"active_inspect\":\"auto\",\"active_scroll\":\"auto\",\"active_tap\":\"auto\",\"tools\":[{\"id\":\"24a9da42-d3ea-49d1-8b58-82eeff74e77f\",\"type\":\"PanTool\"},{\"id\":\"115e9216-7e78-4e73-88cb-9a92aceaf176\",\"type\":\"WheelZoomTool\"},{\"id\":\"1952f42e-efa0-475d-b102-5389255380a6\",\"type\":\"BoxZoomTool\"},{\"id\":\"d5b10a05-b486-409d-b14c-1754dde69f27\",\"type\":\"SaveTool\"},{\"id\":\"60dc5ed8-87ee-4f32-a960-a9f7e06b0c0e\",\"type\":\"ResetTool\"},{\"id\":\"0a38f16a-bb5e-4d34-810a-cfa8e0853e8b\",\"type\":\"HelpTool\"}]},\"id\":\"aa56717e-9683-415b-8bdd-7bdbba449308\",\"type\":\"Toolbar\"},{\"attributes\":{\"axis_label\":\"Date\",\"formatter\":{\"id\":\"81a264c6-f0d4-4ecd-b014-79104e19c26f\",\"type\":\"DatetimeTickFormatter\"},\"plot\":{\"id\":\"59ad7fa8-1d0b-478b-907c-2b3eb63f3900\",\"subtype\":\"Figure\",\"type\":\"Plot\"},\"ticker\":{\"id\":\"a6ffa8a7-be29-4c23-b9bc-93721a4671d4\",\"type\":\"DatetimeTicker\"}},\"id\":\"1a6f1eba-dfb4-426d-88d6-5181175b6c6f\",\"type\":\"DatetimeAxis\"},{\"attributes\":{\"days\":[1,8,15,22]},\"id\":\"66093251-af47-4c87-bd8b-c8ffdec1cdde\",\"type\":\"DaysTicker\"},{\"attributes\":{\"source\":{\"id\":\"3e977c37-a9ae-49b0-9e1f-f7a3f6d245a9\",\"type\":\"ColumnDataSource\"}},\"id\":\"cc4368c2-4461-40a8-acd0-c255f8a3d1ad\",\"type\":\"CDSView\"},{\"attributes\":{},\"id\":\"db9c8447-7384-46b5-bdbf-4ba20bc849bc\",\"type\":\"LinearScale\"},{\"attributes\":{},\"id\":\"60dc5ed8-87ee-4f32-a960-a9f7e06b0c0e\",\"type\":\"ResetTool\"}],\"root_ids\":[\"59ad7fa8-1d0b-478b-907c-2b3eb63f3900\"]},\"title\":\"Bokeh Application\",\"version\":\"0.12.15\"}};\n",
       "  var render_items = [{\"docid\":\"e7eb24c2-1588-4035-9a5b-bbf5b38e8a01\",\"elementid\":\"7a1af188-d9d3-4c28-8c1a-3c822449809f\",\"modelid\":\"59ad7fa8-1d0b-478b-907c-2b3eb63f3900\"}];\n",
       "  root.Bokeh.embed.embed_items_notebook(docs_json, render_items);\n",
       "\n",
       "  }\n",
       "  if (root.Bokeh !== undefined) {\n",
       "    embed_document(root);\n",
       "  } else {\n",
       "    var attempts = 0;\n",
       "    var timer = setInterval(function(root) {\n",
       "      if (root.Bokeh !== undefined) {\n",
       "        embed_document(root);\n",
       "        clearInterval(timer);\n",
       "      }\n",
       "      attempts++;\n",
       "      if (attempts > 100) {\n",
       "        console.log(\"Bokeh: ERROR: Unable to run BokehJS code because BokehJS library is missing\")\n",
       "        clearInterval(timer);\n",
       "      }\n",
       "    }, 10, root)\n",
       "  }\n",
       "})(window);"
      ],
      "application/vnd.bokehjs_exec.v0+json": ""
     },
     "metadata": {
      "application/vnd.bokehjs_exec.v0+json": {
       "id": "59ad7fa8-1d0b-478b-907c-2b3eb63f3900"
      }
     },
     "output_type": "display_data"
    }
   ],
   "source": [
    "acum_ret = ret.cumsum() # get cumulative return\n",
    "acum_ret = acum_ret.fillna(method='pad') # fill with pad\n",
    "acum_ret = acum_ret.fillna(0) # fill the rest NAN with 0\n",
    "\n",
    "acum_ret_date = pd.concat([data_close_2_copy['tday'][1:].reset_index(drop=True), acum_ret], axis=1) # concat date and acum_ret\n",
    "acum_ret_date.columns = ['tday', 'acum_ret'] # reset column names\n",
    "\n",
    "acum_ret_for_plot = ColumnDataSource(acum_ret_date) # convert pd.DataFrame to bokeh.models.ColumnDataSource\n",
    "\n",
    "p1 = figure(x_axis_type=\"datetime\", title=\"Cumulative Returns\")\n",
    "p1.grid.grid_line_alpha=0.3\n",
    "p1.xaxis.axis_label = 'Date'\n",
    "p1.yaxis.axis_label = 'Cumulative Returns'\n",
    "\n",
    "p1.line('tday', 'acum_ret', color='#A6CEE3', legend='acum return', source=acum_ret_for_plot)\n",
    "p1.legend.location = \"top_left\"\n",
    "\n",
    "show(p1)"
   ]
  },
  {
   "cell_type": "markdown",
   "metadata": {},
   "source": [
    "### Kalman filter\n",
    "\n",
    "Intead of OLS, we can use Kalman filter to find the optimal hedge ratio and moving average. Kalman filter is a linear algorithm to update the expected value of hidden variable based on the latest value of an observable variable. In our case, \n",
    "\n",
    "$y(t) = x(t)\\beta(t)+\\epsilon(t)$,\n",
    "\n",
    "the asset prices $y$ is the observable variable, whereas $\\beta$ is the hidden variable. Note, $\\beta$ contains two parts, the slope and intercept, where slope represents the hedge ratio and intercept represents the moving average of the spread.\n",
    "\n",
    "Kalman filter has been implemented in *pykalman* package.\n",
    "\n",
    "Read more about Kalman filter in trading: [QuantStart Dynamic Hedge Ratio](https://www.quantstart.com/articles/Dynamic-Hedge-Ratio-Between-ETF-Pairs-Using-the-Kalman-Filter) and [Quantopian Kalman filter lecture](https://www.youtube.com/watch?v=RxIdLu18SsE).\n",
    "\n",
    "Since data has been loaded and massaged in the last section, we can directly use the dataset."
   ]
  },
  {
   "cell_type": "code",
   "execution_count": 24,
   "metadata": {},
   "outputs": [
    {
     "name": "stdout",
     "output_type": "stream",
     "text": [
      "[[1.3375311  1.3375311 ]\n",
      " [1.33953995 1.33953476]\n",
      " [1.34020571 1.34019542]\n",
      " ...\n",
      " [1.15051616 1.59479389]\n",
      " [1.14905394 1.59467038]\n",
      " [1.14760939 1.59449835]]\n"
     ]
    }
   ],
   "source": [
    "from pykalman import KalmanFilter\n",
    "\n",
    "data_kf = data[['tday', 'EWA', 'EWC']]\n",
    "data_kf_cl = data_kf.xs('cl')\n",
    "etfs = ['EWA', 'EWC']\n",
    "\n",
    "def calc_slope_intercept_kalman(etfs, prices):\n",
    "    \"\"\"\n",
    "    Taken directly from QuantStart Dynamic Hedge Ratio website\n",
    "    Utilise the Kalman Filter from the pyKalman package\n",
    "    to calculate the slope and intercept of the regressed\n",
    "    ETF prices.\n",
    "    \"\"\"\n",
    "    delta = 1e-5 # delta is a param to control the transition covariance matrix; delta=0 means linear reg\n",
    "    trans_cov = delta / (1 - delta) * np.eye(2)\n",
    "    obs_mat = np.vstack(\n",
    "        [prices[etfs[0]], np.ones(prices[etfs[0]].shape)]\n",
    "    ).T[:, np.newaxis]\n",
    "\n",
    "    kf = KalmanFilter(\n",
    "        n_dim_obs=1,\n",
    "        n_dim_state=2,\n",
    "        initial_state_mean=np.zeros(2),\n",
    "        initial_state_covariance=np.ones((2, 2)),\n",
    "        transition_matrices=np.eye(2),\n",
    "        observation_matrices=obs_mat,\n",
    "        observation_covariance=1.0,\n",
    "        transition_covariance=trans_cov\n",
    "    )\n",
    "\n",
    "    state_means, state_covs = kf.filter(prices[etfs[1]].values)\n",
    "    return state_means, state_covs\n",
    "\n",
    "state_means, state_covs = calc_slope_intercept_kalman(etfs, data_kf_cl)\n",
    "print(state_means)"
   ]
  },
  {
   "cell_type": "markdown",
   "metadata": {},
   "source": [
    "Once we have state means ($\\beta$), we can go ahead plot the optimal hedge ratio and moving average of the spread."
   ]
  },
  {
   "cell_type": "code",
   "execution_count": 26,
   "metadata": {},
   "outputs": [
    {
     "data": {
      "text/html": [
       "\n",
       "<div class=\"bk-root\">\n",
       "    <div class=\"bk-plotdiv\" id=\"c994ea82-82ec-48aa-95ac-754a6fcd0fd2\"></div>\n",
       "</div>"
      ]
     },
     "metadata": {},
     "output_type": "display_data"
    },
    {
     "data": {
      "application/javascript": [
       "(function(root) {\n",
       "  function embed_document(root) {\n",
       "    \n",
       "  var docs_json = {\"30df3450-f5ee-4ba0-afb6-5b4fbd8133d8\":{\"roots\":{\"references\":[{\"attributes\":{},\"id\":\"ec6f83a3-5045-40ae-aedd-a15e13f1b558\",\"type\":\"BasicTicker\"},{\"attributes\":{\"data_source\":{\"id\":\"837efb5b-1b0b-449f-946b-70fbf9bc42b2\",\"type\":\"ColumnDataSource\"},\"glyph\":{\"id\":\"8deda45c-1135-4fbf-8d6f-9e036a5fe48a\",\"type\":\"Line\"},\"hover_glyph\":null,\"muted_glyph\":null,\"nonselection_glyph\":{\"id\":\"60464c1a-a3c1-46d4-8603-032629a3ee2f\",\"type\":\"Line\"},\"selection_glyph\":null,\"view\":{\"id\":\"2aa61655-5286-4459-8e8b-1ed82f76ff77\",\"type\":\"CDSView\"}},\"id\":\"ae9731b2-9118-42a8-89ee-4224e35a500a\",\"type\":\"GlyphRenderer\"},{\"attributes\":{\"months\":[0,1,2,3,4,5,6,7,8,9,10,11]},\"id\":\"353ead4a-fb91-40b4-b833-6009d3eeb3ad\",\"type\":\"MonthsTicker\"},{\"attributes\":{\"source\":{\"id\":\"837efb5b-1b0b-449f-946b-70fbf9bc42b2\",\"type\":\"ColumnDataSource\"}},\"id\":\"d69b90d1-31da-451a-8b43-f2b57cd7f1e9\",\"type\":\"CDSView\"},{\"attributes\":{\"axis_label\":\"Date\",\"formatter\":{\"id\":\"731abcc5-eb78-47bc-ac8e-f6ebac99c841\",\"type\":\"DatetimeTickFormatter\"},\"plot\":{\"id\":\"4a8b16f1-1c11-4b6e-a20c-df39739d4817\",\"subtype\":\"Figure\",\"type\":\"Plot\"},\"ticker\":{\"id\":\"068391aa-58be-4e90-a21f-2c2f8495bdc3\",\"type\":\"DatetimeTicker\"}},\"id\":\"5ad63438-ad98-4d75-92f7-b4ba21af4411\",\"type\":\"DatetimeAxis\"},{\"attributes\":{\"grid_line_alpha\":{\"value\":0.3},\"plot\":{\"id\":\"4a8b16f1-1c11-4b6e-a20c-df39739d4817\",\"subtype\":\"Figure\",\"type\":\"Plot\"},\"ticker\":{\"id\":\"068391aa-58be-4e90-a21f-2c2f8495bdc3\",\"type\":\"DatetimeTicker\"}},\"id\":\"65877c80-6f04-490a-805c-a47635ad2a89\",\"type\":\"Grid\"},{\"attributes\":{},\"id\":\"7c03030d-0b37-480d-9864-fe37b0dcf127\",\"type\":\"WheelZoomTool\"},{\"attributes\":{\"base\":60,\"mantissas\":[1,2,5,10,15,20,30],\"max_interval\":1800000.0,\"min_interval\":1000.0,\"num_minor_ticks\":0},\"id\":\"ef79828a-0271-44d9-82a3-0bcdf207a80e\",\"type\":\"AdaptiveTicker\"},{\"attributes\":{\"plot\":null,\"text\":\"Slope/Hedge Ratio\"},\"id\":\"3f1deffb-ba3d-4c9f-9d3d-a56cde458e12\",\"type\":\"Title\"},{\"attributes\":{\"source\":{\"id\":\"837efb5b-1b0b-449f-946b-70fbf9bc42b2\",\"type\":\"ColumnDataSource\"}},\"id\":\"2aa61655-5286-4459-8e8b-1ed82f76ff77\",\"type\":\"CDSView\"},{\"attributes\":{\"months\":[0,6]},\"id\":\"6fd02a98-e75d-49da-b8dc-74acf716b02b\",\"type\":\"MonthsTicker\"},{\"attributes\":{},\"id\":\"24b91757-bb14-4b02-9597-4da1bb0a47b3\",\"type\":\"SaveTool\"},{\"attributes\":{\"line_color\":\"#FB9A99\",\"x\":{\"field\":\"tday\"},\"y\":{\"field\":\"moving avg\"}},\"id\":\"8deda45c-1135-4fbf-8d6f-9e036a5fe48a\",\"type\":\"Line\"},{\"attributes\":{\"line_alpha\":0.1,\"line_color\":\"#1f77b4\",\"x\":{\"field\":\"tday\"},\"y\":{\"field\":\"hedge ratio\"}},\"id\":\"eb082209-92c9-42d3-88a7-fcaf40928025\",\"type\":\"Line\"},{\"attributes\":{\"base\":24,\"mantissas\":[1,2,4,6,8,12],\"max_interval\":43200000.0,\"min_interval\":3600000.0,\"num_minor_ticks\":0},\"id\":\"234cbbaa-4ed1-403f-b6be-81550cbe31be\",\"type\":\"AdaptiveTicker\"},{\"attributes\":{\"days\":[1,8,15,22]},\"id\":\"f2b835d2-4f25-4764-b085-71a207556bd4\",\"type\":\"DaysTicker\"},{\"attributes\":{},\"id\":\"8b1cfff8-c986-41db-add3-5334035f9950\",\"type\":\"LinearScale\"},{\"attributes\":{},\"id\":\"64d4fb34-0bf4-4ec1-840c-b9eda7cc9a97\",\"type\":\"HelpTool\"},{\"attributes\":{},\"id\":\"179bcd0b-1225-4cb0-a3a7-ff7189eb683e\",\"type\":\"BasicTickFormatter\"},{\"attributes\":{\"days\":[1,2,3,4,5,6,7,8,9,10,11,12,13,14,15,16,17,18,19,20,21,22,23,24,25,26,27,28,29,30,31]},\"id\":\"018fe6ef-d181-4801-b93e-cbba68ae78df\",\"type\":\"DaysTicker\"},{\"attributes\":{\"days\":[1,4,7,10,13,16,19,22,25,28]},\"id\":\"251a431f-0304-42a8-b9e9-b0c8a01c5723\",\"type\":\"DaysTicker\"},{\"attributes\":{},\"id\":\"8509446f-5383-4e54-ad8e-9e154c654a4e\",\"type\":\"LinearScale\"},{\"attributes\":{\"active_drag\":\"auto\",\"active_inspect\":\"auto\",\"active_scroll\":\"auto\",\"active_tap\":\"auto\",\"tools\":[{\"id\":\"1b06a8c1-4b14-449e-99e2-e2968ebef4aa\",\"type\":\"PanTool\"},{\"id\":\"7c03030d-0b37-480d-9864-fe37b0dcf127\",\"type\":\"WheelZoomTool\"},{\"id\":\"83603446-3ca3-4499-b115-8f366d81f40b\",\"type\":\"BoxZoomTool\"},{\"id\":\"24b91757-bb14-4b02-9597-4da1bb0a47b3\",\"type\":\"SaveTool\"},{\"id\":\"e65c6d07-2806-4d65-a051-0afdb8abea83\",\"type\":\"ResetTool\"},{\"id\":\"64d4fb34-0bf4-4ec1-840c-b9eda7cc9a97\",\"type\":\"HelpTool\"}]},\"id\":\"fc3e323b-6579-45be-821e-be5284690182\",\"type\":\"Toolbar\"},{\"attributes\":{\"months\":[0,2,4,6,8,10]},\"id\":\"d96e352b-6195-4a1f-b8e1-15153e676d69\",\"type\":\"MonthsTicker\"},{\"attributes\":{\"months\":[0,4,8]},\"id\":\"4f81b1c9-95d6-4c3f-b992-6ddff18bc11c\",\"type\":\"MonthsTicker\"},{\"attributes\":{},\"id\":\"77d7cb39-ebe1-4ae4-be14-3ad3371a963d\",\"type\":\"YearsTicker\"},{\"attributes\":{\"num_minor_ticks\":5,\"tickers\":[{\"id\":\"147c0c87-2f18-4944-9306-e8328c17d298\",\"type\":\"AdaptiveTicker\"},{\"id\":\"ef79828a-0271-44d9-82a3-0bcdf207a80e\",\"type\":\"AdaptiveTicker\"},{\"id\":\"234cbbaa-4ed1-403f-b6be-81550cbe31be\",\"type\":\"AdaptiveTicker\"},{\"id\":\"018fe6ef-d181-4801-b93e-cbba68ae78df\",\"type\":\"DaysTicker\"},{\"id\":\"251a431f-0304-42a8-b9e9-b0c8a01c5723\",\"type\":\"DaysTicker\"},{\"id\":\"f2b835d2-4f25-4764-b085-71a207556bd4\",\"type\":\"DaysTicker\"},{\"id\":\"153b45c9-444a-4e78-a37d-5e2f52272142\",\"type\":\"DaysTicker\"},{\"id\":\"353ead4a-fb91-40b4-b833-6009d3eeb3ad\",\"type\":\"MonthsTicker\"},{\"id\":\"d96e352b-6195-4a1f-b8e1-15153e676d69\",\"type\":\"MonthsTicker\"},{\"id\":\"4f81b1c9-95d6-4c3f-b992-6ddff18bc11c\",\"type\":\"MonthsTicker\"},{\"id\":\"6fd02a98-e75d-49da-b8dc-74acf716b02b\",\"type\":\"MonthsTicker\"},{\"id\":\"77d7cb39-ebe1-4ae4-be14-3ad3371a963d\",\"type\":\"YearsTicker\"}]},\"id\":\"068391aa-58be-4e90-a21f-2c2f8495bdc3\",\"type\":\"DatetimeTicker\"},{\"attributes\":{\"mantissas\":[1,2,5],\"max_interval\":500.0,\"num_minor_ticks\":0},\"id\":\"147c0c87-2f18-4944-9306-e8328c17d298\",\"type\":\"AdaptiveTicker\"},{\"attributes\":{\"callback\":null},\"id\":\"3ade1ff1-9efd-4e6b-a9a2-dc4e45b270b4\",\"type\":\"DataRange1d\"},{\"attributes\":{\"label\":{\"value\":\"intercept/moving avg\"},\"renderers\":[{\"id\":\"ae9731b2-9118-42a8-89ee-4224e35a500a\",\"type\":\"GlyphRenderer\"}]},\"id\":\"490648f1-650a-4f9f-8da1-2a8b752bb67d\",\"type\":\"LegendItem\"},{\"attributes\":{\"label\":{\"value\":\"slope/hedge ratio\"},\"renderers\":[{\"id\":\"1be0b753-6d0c-4f23-ac8a-f7ef41637049\",\"type\":\"GlyphRenderer\"}]},\"id\":\"87440434-d3cc-48b7-87c3-048b98bade22\",\"type\":\"LegendItem\"},{\"attributes\":{\"bottom_units\":\"screen\",\"fill_alpha\":{\"value\":0.5},\"fill_color\":{\"value\":\"lightgrey\"},\"left_units\":\"screen\",\"level\":\"overlay\",\"line_alpha\":{\"value\":1.0},\"line_color\":{\"value\":\"black\"},\"line_dash\":[4,4],\"line_width\":{\"value\":2},\"plot\":null,\"render_mode\":\"css\",\"right_units\":\"screen\",\"top_units\":\"screen\"},\"id\":\"5013890a-c75a-4c8e-ba20-151de3115c08\",\"type\":\"BoxAnnotation\"},{\"attributes\":{\"below\":[{\"id\":\"5ad63438-ad98-4d75-92f7-b4ba21af4411\",\"type\":\"DatetimeAxis\"}],\"left\":[{\"id\":\"67f38108-c717-4590-84d4-c6b352b4c700\",\"type\":\"LinearAxis\"}],\"renderers\":[{\"id\":\"5ad63438-ad98-4d75-92f7-b4ba21af4411\",\"type\":\"DatetimeAxis\"},{\"id\":\"65877c80-6f04-490a-805c-a47635ad2a89\",\"type\":\"Grid\"},{\"id\":\"67f38108-c717-4590-84d4-c6b352b4c700\",\"type\":\"LinearAxis\"},{\"id\":\"5fdfee62-5099-4565-807f-ca8b09ba3ea1\",\"type\":\"Grid\"},{\"id\":\"5013890a-c75a-4c8e-ba20-151de3115c08\",\"type\":\"BoxAnnotation\"},{\"id\":\"c2638525-d0cb-4e3b-b5e1-6e2d2cdafcce\",\"type\":\"Legend\"},{\"id\":\"1be0b753-6d0c-4f23-ac8a-f7ef41637049\",\"type\":\"GlyphRenderer\"},{\"id\":\"ae9731b2-9118-42a8-89ee-4224e35a500a\",\"type\":\"GlyphRenderer\"}],\"title\":{\"id\":\"3f1deffb-ba3d-4c9f-9d3d-a56cde458e12\",\"type\":\"Title\"},\"toolbar\":{\"id\":\"fc3e323b-6579-45be-821e-be5284690182\",\"type\":\"Toolbar\"},\"x_range\":{\"id\":\"3ade1ff1-9efd-4e6b-a9a2-dc4e45b270b4\",\"type\":\"DataRange1d\"},\"x_scale\":{\"id\":\"8b1cfff8-c986-41db-add3-5334035f9950\",\"type\":\"LinearScale\"},\"y_range\":{\"id\":\"9d4d6963-f00e-4114-955c-bf104739bc0a\",\"type\":\"DataRange1d\"},\"y_scale\":{\"id\":\"8509446f-5383-4e54-ad8e-9e154c654a4e\",\"type\":\"LinearScale\"}},\"id\":\"4a8b16f1-1c11-4b6e-a20c-df39739d4817\",\"subtype\":\"Figure\",\"type\":\"Plot\"},{\"attributes\":{\"items\":[{\"id\":\"87440434-d3cc-48b7-87c3-048b98bade22\",\"type\":\"LegendItem\"},{\"id\":\"490648f1-650a-4f9f-8da1-2a8b752bb67d\",\"type\":\"LegendItem\"}],\"location\":\"top_left\",\"plot\":{\"id\":\"4a8b16f1-1c11-4b6e-a20c-df39739d4817\",\"subtype\":\"Figure\",\"type\":\"Plot\"}},\"id\":\"c2638525-d0cb-4e3b-b5e1-6e2d2cdafcce\",\"type\":\"Legend\"},{\"attributes\":{\"callback\":null,\"column_names\":[\"tday\",\"index\",\"hedge ratio\",\"moving avg\"],\"data\":{\"hedge ratio\":{\"__ndarray__\":\"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\",\"dtype\":\"float64\",\"shape\":[1500]},\"index\":[0,1,2,3,4,5,6,7,8,9,10,11,12,13,14,15,16,17,18,19,20,21,22,23,24,25,26,27,28,29,30,31,32,33,34,35,36,37,38,39,40,41,42,43,44,45,46,47,48,49,50,51,52,53,54,55,56,57,58,59,60,61,62,63,64,65,66,67,68,69,70,71,72,73,74,75,76,77,78,79,80,81,82,83,84,85,86,87,88,89,90,91,92,93,94,95,96,97,98,99,100,101,102,103,104,105,106,107,108,109,110,111,112,113,114,115,116,117,118,119,120,121,122,123,124,125,126,127,128,129,130,131,132,133,134,135,136,137,138,139,140,141,142,143,144,145,146,147,148,149,150,151,152,153,154,155,156,157,158,159,160,161,162,163,164,165,166,167,168,169,170,171,172,173,174,175,176,177,178,179,180,181,182,183,184,185,186,187,188,189,190,191,192,193,194,195,196,197,198,199,200,201,202,203,204,205,206,207,208,209,210,211,212,213,214,215,216,217,218,219,220,221,222,223,224,225,226,227,228,229,230,231,232,233,234,235,236,237,238,239,240,241,242,243,244,245,246,247,248,249,250,251,252,253,254,255,256,257,258,259,260,261,262,263,264,265,266,267,268,269,270,271,272,273,274,275,276,277,278,279,280,281,282,283,284,285,286,287,288,289,290,291,292,293,294,295,296,297,298,299,300,301,302,303,304,305,306,307,308,309,310,311,312,313,314,315,316,317,318,319,320,321,322,323,324,325,326,327,328,329,330,331,332,333,334,335,336,337,338,339,340,341,342,343,344,345,346,347,348,349,350,351,352,353,354,355,356,357,358,359,360,361,362,363,364,365,366,367,368,369,370,371,372,373,374,375,376,377,378,379,380,381,382,383,384,385,386,387,388,389,390,391,392,393,394,395,396,397,398,399,400,401,402,403,404,405,406,407,408,409,410,411,412,413,414,415,416,417,418,419,420,421,422,423,424,425,426,427,428,429,430,431,432,433,434,435,436,437,438,439,440,441,442,443,444,445,446,447,448,449,450,451,452,453,454,455,456,457,458,459,460,461,462,463,464,465,466,467,468,469,470,471,472,473,474,475,476,477,478,479,480,481,482,483,484,485,486,487,488,489,490,491,492,493,494,495,496,497,498,499,500,501,502,503,504,505,506,507,508,509,510,511,512,513,514,515,516,517,518,519,520,521,522,523,524,525,526,527,528,529,530,531,532,533,534,535,536,537,538,539,540,541,542,543,544,545,546,547,548,549,550,551,552,553,554,555,556,557,558,559,560,561,562,563,564,565,566,567,568,569,570,571,572,573,574,575,576,577,578,579,580,581,582,583,584,585,586,587,588,589,590,591,592,593,594,595,596,597,598,599,600,601,602,603,604,605,606,607,608,609,610,611,612,613,614,615,616,617,618,619,620,621,622,623,624,625,626,627,628,629,630,631,632,633,634,635,636,637,638,639,640,641,642,643,644,645,646,647,648,649,650,651,652,653,654,655,656,657,658,659,660,661,662,663,664,665,666,667,668,669,670,671,672,673,674,675,676,677,678,679,680,681,682,683,684,685,686,687,688,689,690,691,692,693,694,695,696,697,698,699,700,701,702,703,704,705,706,707,708,709,710,711,712,713,714,715,716,717,718,719,720,721,722,723,724,725,726,727,728,729,730,731,732,733,734,735,736,737,738,739,740,741,742,743,744,745,746,747,748,749,750,751,752,753,754,755,756,757,758,759,760,761,762,763,764,765,766,767,768,769,770,771,772,773,774,775,776,777,778,779,780,781,782,783,784,785,786,787,788,789,790,791,792,793,794,795,796,797,798,799,800,801,802,803,804,805,806,807,808,809,810,811,812,813,814,815,816,817,818,819,820,821,822,823,824,825,826,827,828,829,830,831,832,833,834,835,836,837,838,839,840,841,842,843,844,845,846,847,848,849,850,851,852,853,854,855,856,857,858,859,860,861,862,863,864,865,866,867,868,869,870,871,872,873,874,875,876,877,878,879,880,881,882,883,884,885,886,887,888,889,890,891,892,893,894,895,896,897,898,899,900,901,902,903,904,905,906,907,908,909,910,911,912,913,914,915,916,917,918,919,920,921,922,923,924,925,926,927,928,929,930,931,932,933,934,935,936,937,938,939,940,941,942,943,944,945,946,947,948,949,950,951,952,953,954,955,956,957,958,959,960,961,962,963,964,965,966,967,968,969,970,971,972,973,974,975,976,977,978,979,980,981,982,983,984,985,986,987,988,989,990,991,992,993,994,995,996,997,998,999,1000,1001,1002,1003,1004,1005,1006,1007,1008,1009,1010,1011,1012,1013,1014,1015,1016,1017,1018,1019,1020,1021,1022,1023,1024,1025,1026,1027,1028,1029,1030,1031,1032,1033,1034,1035,1036,1037,1038,1039,1040,1041,1042,1043,1044,1045,1046,1047,1048,1049,1050,1051,1052,1053,1054,1055,1056,1057,1058,1059,1060,1061,1062,1063,1064,1065,1066,1067,1068,1069,1070,1071,1072,1073,1074,1075,1076,1077,1078,1079,1080,1081,1082,1083,1084,1085,1086,1087,1088,1089,1090,1091,1092,1093,1094,1095,1096,1097,1098,1099,1100,1101,1102,1103,1104,1105,1106,1107,1108,1109,1110,1111,1112,1113,1114,1115,1116,1117,1118,1119,1120,1121,1122,1123,1124,1125,1126,1127,1128,1129,1130,1131,1132,1133,1134,1135,1136,1137,1138,1139,1140,1141,1142,1143,1144,1145,1146,1147,1148,1149,1150,1151,1152,1153,1154,1155,1156,1157,1158,1159,1160,1161,1162,1163,1164,1165,1166,1167,1168,1169,1170,1171,1172,1173,1174,1175,1176,1177,1178,1179,1180,1181,1182,1183,1184,1185,1186,1187,1188,1189,1190,1191,1192,1193,1194,1195,1196,1197,1198,1199,1200,1201,1202,1203,1204,1205,1206,1207,1208,1209,1210,1211,1212,1213,1214,1215,1216,1217,1218,1219,1220,1221,1222,1223,1224,1225,1226,1227,1228,1229,1230,1231,1232,1233,1234,1235,1236,1237,1238,1239,1240,1241,1242,1243,1244,1245,1246,1247,1248,1249,1250,1251,1252,1253,1254,1255,1256,1257,1258,1259,1260,1261,1262,1263,1264,1265,1266,1267,1268,1269,1270,1271,1272,1273,1274,1275,1276,1277,1278,1279,1280,1281,1282,1283,1284,1285,1286,1287,1288,1289,1290,1291,1292,1293,1294,1295,1296,1297,1298,1299,1300,1301,1302,1303,1304,1305,1306,1307,1308,1309,1310,1311,1312,1313,1314,1315,1316,1317,1318,1319,1320,1321,1322,1323,1324,1325,1326,1327,1328,1329,1330,1331,1332,1333,1334,1335,1336,1337,1338,1339,1340,1341,1342,1343,1344,1345,1346,1347,1348,1349,1350,1351,1352,1353,1354,1355,1356,1357,1358,1359,1360,1361,1362,1363,1364,1365,1366,1367,1368,1369,1370,1371,1372,1373,1374,1375,1376,1377,1378,1379,1380,1381,1382,1383,1384,1385,1386,1387,1388,1389,1390,1391,1392,1393,1394,1395,1396,1397,1398,1399,1400,1401,1402,1403,1404,1405,1406,1407,1408,1409,1410,1411,1412,1413,1414,1415,1416,1417,1418,1419,1420,1421,1422,1423,1424,1425,1426,1427,1428,1429,1430,1431,1432,1433,1434,1435,1436,1437,1438,1439,1440,1441,1442,1443,1444,1445,1446,1447,1448,1449,1450,1451,1452,1453,1454,1455,1456,1457,1458,1459,1460,1461,1462,1463,1464,1465,1466,1467,1468,1469,1470,1471,1472,1473,1474,1475,1476,1477,1478,1479,1480,1481,1482,1483,1484,1485,1486,1487,1488,1489,1490,1491,1492,1493,1494,1495,1496,1497,1498,1499],\"moving avg\":{\"__ndarray__\":\"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\",\"dtype\":\"float64\",\"shape\":[1500]},\"tday\":{\"__ndarray__\":\"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\",\"dtype\":\"float64\",\"shape\":[1500]}},\"selected\":null,\"selection_policy\":null},\"id\":\"837efb5b-1b0b-449f-946b-70fbf9bc42b2\",\"type\":\"ColumnDataSource\"},{\"attributes\":{},\"id\":\"1b06a8c1-4b14-449e-99e2-e2968ebef4aa\",\"type\":\"PanTool\"},{\"attributes\":{\"line_color\":\"#A6CEE3\",\"x\":{\"field\":\"tday\"},\"y\":{\"field\":\"hedge ratio\"}},\"id\":\"3fed3742-f468-4d06-8f14-1403cf23f9ed\",\"type\":\"Line\"},{\"attributes\":{\"axis_label\":\"Hedge Ratio\",\"formatter\":{\"id\":\"179bcd0b-1225-4cb0-a3a7-ff7189eb683e\",\"type\":\"BasicTickFormatter\"},\"plot\":{\"id\":\"4a8b16f1-1c11-4b6e-a20c-df39739d4817\",\"subtype\":\"Figure\",\"type\":\"Plot\"},\"ticker\":{\"id\":\"ec6f83a3-5045-40ae-aedd-a15e13f1b558\",\"type\":\"BasicTicker\"}},\"id\":\"67f38108-c717-4590-84d4-c6b352b4c700\",\"type\":\"LinearAxis\"},{\"attributes\":{\"callback\":null},\"id\":\"9d4d6963-f00e-4114-955c-bf104739bc0a\",\"type\":\"DataRange1d\"},{\"attributes\":{\"days\":[1,15]},\"id\":\"153b45c9-444a-4e78-a37d-5e2f52272142\",\"type\":\"DaysTicker\"},{\"attributes\":{\"data_source\":{\"id\":\"837efb5b-1b0b-449f-946b-70fbf9bc42b2\",\"type\":\"ColumnDataSource\"},\"glyph\":{\"id\":\"3fed3742-f468-4d06-8f14-1403cf23f9ed\",\"type\":\"Line\"},\"hover_glyph\":null,\"muted_glyph\":null,\"nonselection_glyph\":{\"id\":\"eb082209-92c9-42d3-88a7-fcaf40928025\",\"type\":\"Line\"},\"selection_glyph\":null,\"view\":{\"id\":\"d69b90d1-31da-451a-8b43-f2b57cd7f1e9\",\"type\":\"CDSView\"}},\"id\":\"1be0b753-6d0c-4f23-ac8a-f7ef41637049\",\"type\":\"GlyphRenderer\"},{\"attributes\":{\"line_alpha\":0.1,\"line_color\":\"#1f77b4\",\"x\":{\"field\":\"tday\"},\"y\":{\"field\":\"moving avg\"}},\"id\":\"60464c1a-a3c1-46d4-8603-032629a3ee2f\",\"type\":\"Line\"},{\"attributes\":{\"overlay\":{\"id\":\"5013890a-c75a-4c8e-ba20-151de3115c08\",\"type\":\"BoxAnnotation\"}},\"id\":\"83603446-3ca3-4499-b115-8f366d81f40b\",\"type\":\"BoxZoomTool\"},{\"attributes\":{},\"id\":\"731abcc5-eb78-47bc-ac8e-f6ebac99c841\",\"type\":\"DatetimeTickFormatter\"},{\"attributes\":{\"dimension\":1,\"grid_line_alpha\":{\"value\":0.3},\"plot\":{\"id\":\"4a8b16f1-1c11-4b6e-a20c-df39739d4817\",\"subtype\":\"Figure\",\"type\":\"Plot\"},\"ticker\":{\"id\":\"ec6f83a3-5045-40ae-aedd-a15e13f1b558\",\"type\":\"BasicTicker\"}},\"id\":\"5fdfee62-5099-4565-807f-ca8b09ba3ea1\",\"type\":\"Grid\"},{\"attributes\":{},\"id\":\"e65c6d07-2806-4d65-a051-0afdb8abea83\",\"type\":\"ResetTool\"}],\"root_ids\":[\"4a8b16f1-1c11-4b6e-a20c-df39739d4817\"]},\"title\":\"Bokeh Application\",\"version\":\"0.12.15\"}};\n",
       "  var render_items = [{\"docid\":\"30df3450-f5ee-4ba0-afb6-5b4fbd8133d8\",\"elementid\":\"c994ea82-82ec-48aa-95ac-754a6fcd0fd2\",\"modelid\":\"4a8b16f1-1c11-4b6e-a20c-df39739d4817\"}];\n",
       "  root.Bokeh.embed.embed_items_notebook(docs_json, render_items);\n",
       "\n",
       "  }\n",
       "  if (root.Bokeh !== undefined) {\n",
       "    embed_document(root);\n",
       "  } else {\n",
       "    var attempts = 0;\n",
       "    var timer = setInterval(function(root) {\n",
       "      if (root.Bokeh !== undefined) {\n",
       "        embed_document(root);\n",
       "        clearInterval(timer);\n",
       "      }\n",
       "      attempts++;\n",
       "      if (attempts > 100) {\n",
       "        console.log(\"Bokeh: ERROR: Unable to run BokehJS code because BokehJS library is missing\")\n",
       "        clearInterval(timer);\n",
       "      }\n",
       "    }, 10, root)\n",
       "  }\n",
       "})(window);"
      ],
      "application/vnd.bokehjs_exec.v0+json": ""
     },
     "metadata": {
      "application/vnd.bokehjs_exec.v0+json": {
       "id": "4a8b16f1-1c11-4b6e-a20c-df39739d4817"
      }
     },
     "output_type": "display_data"
    }
   ],
   "source": [
    "state_means_temp = pd.DataFrame(np.array(state_means))\n",
    "state_means_df = pd.concat([data_kf_cl['tday'], state_means_temp], axis=1)\n",
    "state_means_df.columns = ['tday', 'hedge ratio', 'moving avg']\n",
    "\n",
    "kf_for_plot = ColumnDataSource(state_means_df) # convert pd.DataFrame to bokeh.models.ColumnDataSource\n",
    "\n",
    "p1 = figure(x_axis_type=\"datetime\", title=\"Slope/Hedge Ratio\")\n",
    "p1.grid.grid_line_alpha=0.3\n",
    "p1.xaxis.axis_label = 'Date'\n",
    "p1.yaxis.axis_label = 'Hedge Ratio'\n",
    "\n",
    "p1.line('tday', 'hedge ratio', color='#A6CEE3', legend='slope/hedge ratio', source=kf_for_plot)\n",
    "p1.line('tday', 'moving avg', color='#FB9A99', legend='intercept/moving avg', source=kf_for_plot)\n",
    "p1.legend.location = \"top_left\"\n",
    "\n",
    "show(p1)"
   ]
  },
  {
   "cell_type": "markdown",
   "metadata": {},
   "source": [
    "### Cross-sectional mean reversion\n",
    "\n",
    "Cross-sectional mean reversion relies on the reversion of short-term relative returns of a basket of assets (usually stocks, not futures or currencies). The serial anti-correlation of the relative returns can generate profits. The relative return is the return of individual stock minus the average return of the stocks in a particular universe. \n",
    "\n",
    "We determine the weights of every stock using\n",
    "\n",
    "$w_i = -\\frac{r_i -<r_j>}{\\sum_{k}|r_k-<r_j>|}$\n",
    "\n",
    "where $r_i$ is the daily return of $i$th stock, and $<r_j>$ is the average daily return of all stocks in the index. If a stock has very positive return, we will short lots of it, and if it has a very negative return, we may buy it.\n",
    "\n",
    "For this section, we need a new set of data."
   ]
  },
  {
   "cell_type": "code",
   "execution_count": 28,
   "metadata": {},
   "outputs": [
    {
     "name": "stdout",
     "output_type": "stream",
     "text": [
      "      AUD     AXJ     BO     BRE      BZ     CAD      CJ      CL       C  \\\n",
      "0  0.8097  5606.0  68.50  0.6149  149.00  0.9968  2918.0  175.48  674.25   \n",
      "1  0.8035  5708.0  69.33  0.6140  151.78  0.9959  2910.0  177.74  677.25   \n",
      "2  0.8091  5723.0  71.55  0.6144  156.64  0.9933  2887.0  181.93  694.75   \n",
      "3  0.8064  5734.0  70.13  0.6114  155.46  0.9870  2881.0  179.57  683.25   \n",
      "4  0.8101  5671.0  71.86  0.6174  155.51  0.9915  2884.0  180.95  687.25   \n",
      "\n",
      "     EMD  ...     TF      TT        TU        US     VX       W      YO  \\\n",
      "0  888.6  ...  731.9  0.4732  100.6016  101.4844  43.29  1204.5  0.0700   \n",
      "1  874.7  ...  707.5  0.4628  100.3516  100.3281  44.35  1197.5  0.0677   \n",
      "2  874.7  ...  703.9  0.4649  100.6328  101.3750  45.67  1191.5  0.0674   \n",
      "3  863.6  ...  697.8  0.4550  100.5078  100.1563  45.25  1158.5  0.0657   \n",
      "4  871.2  ...  687.8  0.4472  100.3125   99.2813  45.76  1166.0  0.0615   \n",
      "\n",
      "         ZB        ZF      ZN  \n",
      "0  106.6094  102.3359  96.266  \n",
      "1  105.3594  101.7109  95.375  \n",
      "2  106.1094  102.2031  96.031  \n",
      "3  105.1406  101.7891  95.391  \n",
      "4  104.2969  101.2656  94.656  \n",
      "\n",
      "[5 rows x 51 columns]\n"
     ]
    }
   ],
   "source": [
    "import scipy.io\n",
    "import numpy as np\n",
    "from datetime import datetime\n",
    "\n",
    "mat = scipy.io.loadmat('../data/inputDataOHLCDaily_20120504.mat') # load .mat file\n",
    "\n",
    "syms = [item for sublist in np.array(mat['syms']) for items in sublist for item in items] # flatten list of lists of lists for symbol names\n",
    "tday = pd.DataFrame(mat['tday'])\n",
    "tday.columns = syms\n",
    "cl = pd.DataFrame(mat['cl'])\n",
    "cl.columns = syms\n",
    "# op = pd.DataFrame(mat['op'])\n",
    "# op.columns = syms\n",
    "print(cl.head())"
   ]
  },
  {
   "cell_type": "markdown",
   "metadata": {},
   "source": [
    "But *tday* dataframe is in the type of double, rather than datetime. In order to convert the entire dataframe to datetime, let's write a function."
   ]
  },
  {
   "cell_type": "code",
   "execution_count": 32,
   "metadata": {},
   "outputs": [],
   "source": [
    "def convert_df_to_datetime(df, datetime_format_str='%Y%m%d'):\n",
    "    \"\"\"Convert `double` to `datetime`.\n",
    "    \n",
    "    @param df: pd.DataFrame\n",
    "    @param datetime_format_str: str, represents the format of datetime\n",
    "    @return: pd.DataFrame\n",
    "    \"\"\"\n",
    "\n",
    "    ncol = len(df.columns)\n",
    "    for i in range(ncol):\n",
    "        col_name = df.columns[i]\n",
    "#         index_nan = df[col_name].index[df[col_name].apply(np.isnan)]\n",
    "#         print index_nan\n",
    "        df[col_name] = df[col_name].fillna(10000101.0) # for nan, use 1000-01-01 as a place holder\n",
    "        temp = df[col_name].apply(lambda x: str(int(x))) # convert float to str\n",
    "        df[col_name].update(temp) # update dataset, now `df` is stored as str\n",
    "        temp2 = df[col_name].apply(lambda x: datetime.strptime(x, datetime_format_str)) # convert str to datetime object\n",
    "        df[col_name] = temp2 # update dataset, now `df` is datetime object\n",
    "    \n",
    "    return df"
   ]
  },
  {
   "cell_type": "code",
   "execution_count": 30,
   "metadata": {},
   "outputs": [],
   "source": [
    "def convert_series_to_datetime(series, datetime_format_str='%Y%m%d'):\n",
    "    \"\"\"Convert `double` to `datetime`.\n",
    "    \n",
    "    @param series: pd.Series\n",
    "    @param datetime_format_str: str, represents the format of datetime\n",
    "    @return: pd.Series\n",
    "    \"\"\"\n",
    "\n",
    "    series = series.fillna(10000101.0) # for nan, use 1000-01-01 as a place holder\n",
    "    temp = series.apply(lambda x: str(int(x))) # convert float to str\n",
    "    series.update(temp) # update dataset, now `df` is stored as str\n",
    "    temp2 = series.apply(lambda x: datetime.strptime(x, datetime_format_str)) # convert str to datetime object\n",
    "    series = temp2 # update dataset, now `df` is datetime object\n",
    "    \n",
    "    return series"
   ]
  },
  {
   "cell_type": "markdown",
   "metadata": {},
   "source": [
    "The dataset can be converted to several dataframes. One of them is \"tday\" dataframe, which includes different trading dates for every single symbol. However, in order to build this strategy, we need the entire basket of symbols. So we need to set a start and end date that all stock symobls have, and get the \"cl\" data between these dates."
   ]
  },
  {
   "cell_type": "code",
   "execution_count": 33,
   "metadata": {},
   "outputs": [
    {
     "name": "stdout",
     "output_type": "stream",
     "text": [
      "      AUD     AXJ     BO     BRE      BZ     CAD      CJ      CL       C  \\\n",
      "1  0.8035  5708.0  69.33  0.6140  151.78  0.9959  2910.0  177.74  677.25   \n",
      "2  0.8091  5723.0  71.55  0.6144  156.64  0.9933  2887.0  181.93  694.75   \n",
      "3  0.8064  5734.0  70.13  0.6114  155.46  0.9870  2881.0  179.57  683.25   \n",
      "4  0.8101  5671.0  71.86  0.6174  155.51  0.9915  2884.0  180.95  687.25   \n",
      "5  0.8037  5594.0  70.50  0.6214  152.25  0.9928  2907.0  177.61  685.50   \n",
      "\n",
      "     EMD  ...     TF      TT        TU        US     VX       W      YO  \\\n",
      "1  874.7  ...  707.5  0.4628  100.3516  100.3281  44.35  1197.5  0.0677   \n",
      "2  874.7  ...  703.9  0.4649  100.6328  101.3750  45.67  1191.5  0.0674   \n",
      "3  863.6  ...  697.8  0.4550  100.5078  100.1563  45.25  1158.5  0.0657   \n",
      "4  871.2  ...  687.8  0.4472  100.3125   99.2813  45.76  1166.0  0.0615   \n",
      "5  880.0  ...  690.4  0.4176  100.2656   98.4531  45.02  1172.5  0.0621   \n",
      "\n",
      "         ZB        ZF      ZN  \n",
      "1  105.3594  101.7109  95.375  \n",
      "2  106.1094  102.2031  96.031  \n",
      "3  105.1406  101.7891  95.391  \n",
      "4  104.2969  101.2656  94.656  \n",
      "5  103.5000  101.0156  94.297  \n",
      "\n",
      "[5 rows x 51 columns]\n",
      "        AUD     AXJ     BO     BRE      BZ     CAD      CJ      CL       C  \\\n",
      "991  1.0227  4357.0  55.71  0.7287  118.16  1.0102  2284.0  103.55  584.25   \n",
      "992  1.0295  4352.0  56.07  0.7276  119.12  1.0161  2251.0  104.12  577.00   \n",
      "993  1.0343  4380.0  55.79  0.7269  119.92  1.0157  2272.0  104.55  590.00   \n",
      "994  1.0416  4368.0  55.60  0.7271  119.81  1.0184  2309.0  104.93  619.00   \n",
      "995  1.0368  4397.0  55.08  0.7219  119.47  1.0117  2219.0  104.87  626.25   \n",
      "\n",
      "       EMD  ...     TF      TT        TU        US     VX       W      YO  \\\n",
      "991  966.9  ...  796.8  0.9146  110.2500  145.2813  21.55  634.25  0.2170   \n",
      "992  983.2  ...  809.6  0.9080  110.2500  144.9375  20.35  626.25  0.2180   \n",
      "993  992.6  ...  815.8  0.9211  110.2734  145.2813  19.80  635.75  0.2125   \n",
      "994  997.4  ...  823.8  0.9109  110.2656  145.7188  19.85  652.00  0.2121   \n",
      "995  989.6  ...  814.9  0.8940  110.2734  145.8750  20.25  657.50  0.2115   \n",
      "\n",
      "           ZB        ZF       ZN  \n",
      "991  150.0313  128.5156  131.703  \n",
      "992  149.9063  128.5781  131.688  \n",
      "993  150.5625  128.7734  132.063  \n",
      "994  150.5938  128.7500  132.109  \n",
      "995  150.8125  128.8047  132.281  \n",
      "\n",
      "[5 rows x 51 columns]\n"
     ]
    }
   ],
   "source": [
    "tday_datetime = convert_df_to_datetime(tday)\n",
    "\n",
    "start_day = '20080522'\n",
    "end_day = '20120430'\n",
    "start_mask = tday_datetime['AUD'] == start_day # use boolean mask to find index of a value within dataframe\n",
    "end_mask = tday_datetime['AUD'] == end_day\n",
    "idx_start = tday_datetime['AUD'][start_mask].index[0]\n",
    "idx_end =  tday_datetime['AUD'][end_mask].index[0]\n",
    "\n",
    "cl = cl.loc[idx_start:idx_end] # select range of index from \"cl\" dataframe\n",
    "print(cl.head())\n",
    "print(cl.tail())"
   ]
  },
  {
   "cell_type": "markdown",
   "metadata": {},
   "source": [
    "Now, we have massaged data, we can go ahead calculate return and weights."
   ]
  },
  {
   "cell_type": "code",
   "execution_count": 34,
   "metadata": {},
   "outputs": [],
   "source": [
    "cl_lag = cl.shift(-1)\n",
    "daily_return = np.divide(np.subtract(cl, cl_lag), cl_lag)\n",
    "mkt_return = np.mean(daily_return, axis=1) # market return \n",
    "\n",
    "mkt_return_list = np.tile(mkt_return, (daily_return.shape[1], 1)) # like repmat in *Matlab*, creates copies of an item\n",
    "mkt_return_df = pd.DataFrame(mkt_return_list)\n",
    "mkt_return_df = mkt_return_df.T\n",
    "mkt_return_df.columns = syms\n",
    "numerator = -(np.subtract(daily_return, mkt_return_df))\n",
    "\n",
    "denominator_temp = np.sum(np.abs(numerator), axis=1)\n",
    "denominator_list = np.tile(denominator_temp, (daily_return.shape[1], 1))\n",
    "denominator = pd.DataFrame(denominator_list)\n",
    "denominator = denominator.T\n",
    "denominator.columns = syms\n",
    "\n",
    "weights = np.divide(numerator, denominator)\n",
    "\n",
    "final_return = np.sum(np.multiply(weights.shift(1), daily_return), axis=1) # shift weights downwards so that final return is calculated as yesterday's weights times today's return\n",
    "acum_return = np.cumprod(1 + final_return) - 1"
   ]
  },
  {
   "cell_type": "markdown",
   "metadata": {},
   "source": [
    "Once we have the cumulative return calculated, we can evaluate the performance."
   ]
  },
  {
   "cell_type": "code",
   "execution_count": 35,
   "metadata": {},
   "outputs": [
    {
     "name": "stdout",
     "output_type": "stream",
     "text": [
      "Price spread Sharpe: 0.9214\n",
      "Price spread APR: 12.7533%\n"
     ]
    },
    {
     "data": {
      "text/html": [
       "\n",
       "<div class=\"bk-root\">\n",
       "    <div class=\"bk-plotdiv\" id=\"b9ab4b1b-4e28-4c8f-affd-d3b1d5b9c1bb\"></div>\n",
       "</div>"
      ]
     },
     "metadata": {},
     "output_type": "display_data"
    },
    {
     "data": {
      "application/javascript": [
       "(function(root) {\n",
       "  function embed_document(root) {\n",
       "    \n",
       "  var docs_json = {\"812b21e0-6913-4cdf-a1da-cf674770bc2b\":{\"roots\":{\"references\":[{\"attributes\":{\"label\":{\"value\":\"acum ret\"},\"renderers\":[{\"id\":\"c6157b69-a8ec-44fe-9d09-347e87abe67a\",\"type\":\"GlyphRenderer\"}]},\"id\":\"be8b0f93-10c1-42fc-8d61-7e93e0946b34\",\"type\":\"LegendItem\"},{\"attributes\":{\"months\":[0,4,8]},\"id\":\"fbdaffdd-a87c-4048-93a3-e9e3204019a0\",\"type\":\"MonthsTicker\"},{\"attributes\":{\"callback\":null},\"id\":\"6e678866-a5df-4ed6-8a15-c603e9045fcb\",\"type\":\"DataRange1d\"},{\"attributes\":{\"callback\":null,\"column_names\":[\"tday\",\"index\",\"acum_return\"],\"data\":{\"acum_return\":{\"__ndarray__\":\"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\",\"dtype\":\"float64\",\"shape\":[994]},\"index\":[0,1,2,3,4,5,6,7,8,9,10,11,12,13,14,15,16,17,18,19,20,21,22,23,24,25,26,27,28,29,30,31,32,33,34,35,36,37,38,39,40,41,42,43,44,45,46,47,48,49,50,51,52,53,54,55,56,57,58,59,60,61,62,63,64,65,66,67,68,69,70,71,72,73,74,75,76,77,78,79,80,81,82,83,84,85,86,87,88,89,90,91,92,93,94,95,96,97,98,99,100,101,102,103,104,105,106,107,108,109,110,111,112,113,114,115,116,117,118,119,120,121,122,123,124,125,126,127,128,129,130,131,132,133,134,135,136,137,138,139,140,141,142,143,144,145,146,147,148,149,150,151,152,153,154,155,156,157,158,159,160,161,162,163,164,165,166,167,168,169,170,171,172,173,174,175,176,177,178,179,180,181,182,183,184,185,186,187,188,189,190,191,192,193,194,195,196,197,198,199,200,201,202,203,204,205,206,207,208,209,210,211,212,213,214,215,216,217,218,219,220,221,222,223,224,225,226,227,228,229,230,231,232,233,234,235,236,237,238,239,240,241,242,243,244,245,246,247,248,249,250,251,252,253,254,255,256,257,258,259,260,261,262,263,264,265,266,267,268,269,270,271,272,273,274,275,276,277,278,279,280,281,282,283,284,285,286,287,288,289,290,291,292,293,294,295,296,297,298,299,300,301,302,303,304,305,306,307,308,309,310,311,312,313,314,315,316,317,318,319,320,321,322,323,324,325,326,327,328,329,330,331,332,333,334,335,336,337,338,339,340,341,342,343,344,345,346,347,348,349,350,351,352,353,354,355,356,357,358,359,360,361,362,363,364,365,366,367,368,369,370,371,372,373,374,375,376,377,378,379,380,381,382,383,384,385,386,387,388,389,390,391,392,393,394,395,396,397,398,399,400,401,402,403,404,405,406,407,408,409,410,411,412,413,414,415,416,417,418,419,420,421,422,423,424,425,426,427,428,429,430,431,432,433,434,435,436,437,438,439,440,441,442,443,444,445,446,447,448,449,450,451,452,453,454,455,456,457,458,459,460,461,462,463,464,465,466,467,468,469,470,471,472,473,474,475,476,477,478,479,480,481,482,483,484,485,486,487,488,489,490,491,492,493,494,495,496,497,498,499,500,501,502,503,504,505,506,507,508,509,510,511,512,513,514,515,516,517,518,519,520,521,522,523,524,525,526,527,528,529,530,531,532,533,534,535,536,537,538,539,540,541,542,543,544,545,546,547,548,549,550,551,552,553,554,555,556,557,558,559,560,561,562,563,564,565,566,567,568,569,570,571,572,573,574,575,576,577,578,579,580,581,582,583,584,585,586,587,588,589,590,591,592,593,594,595,596,597,598,599,600,601,602,603,604,605,606,607,608,609,610,611,612,613,614,615,616,617,618,619,620,621,622,623,624,625,626,627,628,629,630,631,632,633,634,635,636,637,638,639,640,641,642,643,644,645,646,647,648,649,650,651,652,653,654,655,656,657,658,659,660,661,662,663,664,665,666,667,668,669,670,671,672,673,674,675,676,677,678,679,680,681,682,683,684,685,686,687,688,689,690,691,692,693,694,695,696,697,698,699,700,701,702,703,704,705,706,707,708,709,710,711,712,713,714,715,716,717,718,719,720,721,722,723,724,725,726,727,728,729,730,731,732,733,734,735,736,737,738,739,740,741,742,743,744,745,746,747,748,749,750,751,752,753,754,755,756,757,758,759,760,761,762,763,764,765,766,767,768,769,770,771,772,773,774,775,776,777,778,779,780,781,782,783,784,785,786,787,788,789,790,791,792,793,794,795,796,797,798,799,800,801,802,803,804,805,806,807,808,809,810,811,812,813,814,815,816,817,818,819,820,821,822,823,824,825,826,827,828,829,830,831,832,833,834,835,836,837,838,839,840,841,842,843,844,845,846,847,848,849,850,851,852,853,854,855,856,857,858,859,860,861,862,863,864,865,866,867,868,869,870,871,872,873,874,875,876,877,878,879,880,881,882,883,884,885,886,887,888,889,890,891,892,893,894,895,896,897,898,899,900,901,902,903,904,905,906,907,908,909,910,911,912,913,914,915,916,917,918,919,920,921,922,923,924,925,926,927,928,929,930,931,932,933,934,935,936,937,938,939,940,941,942,943,944,945,946,947,948,949,950,951,952,953,954,955,956,957,958,959,960,961,962,963,964,965,966,967,968,969,970,971,972,973,974,975,976,977,978,979,980,981,982,983,984,985,986,987,988,989,990,991,992,993],\"tday\":{\"__ndarray__\":\"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\",\"dtype\":\"float64\",\"shape\":[994]}},\"selected\":null,\"selection_policy\":null},\"id\":\"34b84e70-6176-485a-80e5-74150fd729b4\",\"type\":\"ColumnDataSource\"},{\"attributes\":{},\"id\":\"1007368d-4d62-4bbd-b7d3-443c7fd1384f\",\"type\":\"SaveTool\"},{\"attributes\":{},\"id\":\"ec97c19c-2b14-4d65-addb-9a5865344486\",\"type\":\"LinearScale\"},{\"attributes\":{},\"id\":\"31573f80-6df0-4532-80fc-5e7f28632b8c\",\"type\":\"ResetTool\"},{\"attributes\":{},\"id\":\"197ff70e-a31f-421a-b4d9-0d11ddd33f6f\",\"type\":\"HelpTool\"},{\"attributes\":{\"months\":[0,1,2,3,4,5,6,7,8,9,10,11]},\"id\":\"3e26a772-0b2e-4a9e-b59e-d16277f4a21a\",\"type\":\"MonthsTicker\"},{\"attributes\":{\"items\":[{\"id\":\"be8b0f93-10c1-42fc-8d61-7e93e0946b34\",\"type\":\"LegendItem\"}],\"location\":\"top_left\",\"plot\":{\"id\":\"ce3c0cfd-3e76-499e-9d9a-dcfb53f93a86\",\"subtype\":\"Figure\",\"type\":\"Plot\"}},\"id\":\"f1a55635-0e3c-4db8-9662-50cebad8fe1f\",\"type\":\"Legend\"},{\"attributes\":{\"num_minor_ticks\":5,\"tickers\":[{\"id\":\"97ca40dd-c06b-4e2a-b04d-5824cafb6fc0\",\"type\":\"AdaptiveTicker\"},{\"id\":\"a6412d2f-4ee7-423e-a0a3-0879dae24863\",\"type\":\"AdaptiveTicker\"},{\"id\":\"8f1ae95e-2f48-48a3-8f3f-cd1aab658f2a\",\"type\":\"AdaptiveTicker\"},{\"id\":\"d6b6716b-60e2-4a2b-a764-640fa5dc1c53\",\"type\":\"DaysTicker\"},{\"id\":\"8580bd4a-a7ee-4bd3-9dd2-a8e294b039fe\",\"type\":\"DaysTicker\"},{\"id\":\"485e7dc4-ea59-4fef-a744-35a212a761d9\",\"type\":\"DaysTicker\"},{\"id\":\"ce63941b-8aa9-4be7-bd22-a10ebeba1c3f\",\"type\":\"DaysTicker\"},{\"id\":\"3e26a772-0b2e-4a9e-b59e-d16277f4a21a\",\"type\":\"MonthsTicker\"},{\"id\":\"b6ae26b0-e29a-40a0-b52c-07ab993d811a\",\"type\":\"MonthsTicker\"},{\"id\":\"fbdaffdd-a87c-4048-93a3-e9e3204019a0\",\"type\":\"MonthsTicker\"},{\"id\":\"a12c7bfa-92bf-4fa8-9567-f8f14301fce1\",\"type\":\"MonthsTicker\"},{\"id\":\"3e0f4697-2c8b-41c7-bd06-035c145eb9cc\",\"type\":\"YearsTicker\"}]},\"id\":\"a4ec86c2-591e-4997-9f61-877507dd83d8\",\"type\":\"DatetimeTicker\"},{\"attributes\":{},\"id\":\"56525ae8-6cd5-4c79-a074-888c2ca41d5e\",\"type\":\"BasicTicker\"},{\"attributes\":{\"days\":[1,15]},\"id\":\"ce63941b-8aa9-4be7-bd22-a10ebeba1c3f\",\"type\":\"DaysTicker\"},{\"attributes\":{\"data_source\":{\"id\":\"34b84e70-6176-485a-80e5-74150fd729b4\",\"type\":\"ColumnDataSource\"},\"glyph\":{\"id\":\"511fbd83-fc06-423e-832d-5bffaea1ebb0\",\"type\":\"Line\"},\"hover_glyph\":null,\"muted_glyph\":null,\"nonselection_glyph\":{\"id\":\"47d01052-ad14-4d7b-8021-2e2570795b5e\",\"type\":\"Line\"},\"selection_glyph\":null,\"view\":{\"id\":\"3abed33f-c7b1-4397-877b-6e7b315ce19e\",\"type\":\"CDSView\"}},\"id\":\"c6157b69-a8ec-44fe-9d09-347e87abe67a\",\"type\":\"GlyphRenderer\"},{\"attributes\":{\"overlay\":{\"id\":\"95a51b9f-a79d-4c05-9ffd-f990725bec7f\",\"type\":\"BoxAnnotation\"}},\"id\":\"59761631-d850-46f4-9cc3-fe70e927e180\",\"type\":\"BoxZoomTool\"},{\"attributes\":{\"active_drag\":\"auto\",\"active_inspect\":\"auto\",\"active_scroll\":\"auto\",\"active_tap\":\"auto\",\"tools\":[{\"id\":\"8e05e132-0225-42c0-940e-253ad7294db1\",\"type\":\"PanTool\"},{\"id\":\"63c525b0-e51b-4488-a106-281fc371318b\",\"type\":\"WheelZoomTool\"},{\"id\":\"59761631-d850-46f4-9cc3-fe70e927e180\",\"type\":\"BoxZoomTool\"},{\"id\":\"1007368d-4d62-4bbd-b7d3-443c7fd1384f\",\"type\":\"SaveTool\"},{\"id\":\"31573f80-6df0-4532-80fc-5e7f28632b8c\",\"type\":\"ResetTool\"},{\"id\":\"197ff70e-a31f-421a-b4d9-0d11ddd33f6f\",\"type\":\"HelpTool\"}]},\"id\":\"2a71d57e-18b5-44a8-bdfc-bdf40ce83781\",\"type\":\"Toolbar\"},{\"attributes\":{\"mantissas\":[1,2,5],\"max_interval\":500.0,\"num_minor_ticks\":0},\"id\":\"97ca40dd-c06b-4e2a-b04d-5824cafb6fc0\",\"type\":\"AdaptiveTicker\"},{\"attributes\":{\"base\":60,\"mantissas\":[1,2,5,10,15,20,30],\"max_interval\":1800000.0,\"min_interval\":1000.0,\"num_minor_ticks\":0},\"id\":\"a6412d2f-4ee7-423e-a0a3-0879dae24863\",\"type\":\"AdaptiveTicker\"},{\"attributes\":{\"base\":24,\"mantissas\":[1,2,4,6,8,12],\"max_interval\":43200000.0,\"min_interval\":3600000.0,\"num_minor_ticks\":0},\"id\":\"8f1ae95e-2f48-48a3-8f3f-cd1aab658f2a\",\"type\":\"AdaptiveTicker\"},{\"attributes\":{},\"id\":\"8e05e132-0225-42c0-940e-253ad7294db1\",\"type\":\"PanTool\"},{\"attributes\":{},\"id\":\"bbe35c41-4d6d-47f0-971c-b860e750d98b\",\"type\":\"DatetimeTickFormatter\"},{\"attributes\":{\"plot\":null,\"text\":\"Cumulative Returns\"},\"id\":\"3bfac094-ac07-424e-acb9-3ded7c2e1b34\",\"type\":\"Title\"},{\"attributes\":{},\"id\":\"3e0f4697-2c8b-41c7-bd06-035c145eb9cc\",\"type\":\"YearsTicker\"},{\"attributes\":{\"line_color\":\"#A6CEE3\",\"x\":{\"field\":\"tday\"},\"y\":{\"field\":\"acum_return\"}},\"id\":\"511fbd83-fc06-423e-832d-5bffaea1ebb0\",\"type\":\"Line\"},{\"attributes\":{\"months\":[0,6]},\"id\":\"a12c7bfa-92bf-4fa8-9567-f8f14301fce1\",\"type\":\"MonthsTicker\"},{\"attributes\":{},\"id\":\"63c525b0-e51b-4488-a106-281fc371318b\",\"type\":\"WheelZoomTool\"},{\"attributes\":{},\"id\":\"5060de99-4319-4c65-b9ed-2ae79615972b\",\"type\":\"BasicTickFormatter\"},{\"attributes\":{\"below\":[{\"id\":\"ba193ab3-dc28-424b-85a9-a9776bc8def6\",\"type\":\"DatetimeAxis\"}],\"left\":[{\"id\":\"ce2afe93-8cf3-4b72-a091-4d12de716cfb\",\"type\":\"LinearAxis\"}],\"renderers\":[{\"id\":\"ba193ab3-dc28-424b-85a9-a9776bc8def6\",\"type\":\"DatetimeAxis\"},{\"id\":\"ef0036bd-0cd6-406f-847d-9c12759123f1\",\"type\":\"Grid\"},{\"id\":\"ce2afe93-8cf3-4b72-a091-4d12de716cfb\",\"type\":\"LinearAxis\"},{\"id\":\"1dea99e2-9146-422c-9ff4-78d0b6075834\",\"type\":\"Grid\"},{\"id\":\"95a51b9f-a79d-4c05-9ffd-f990725bec7f\",\"type\":\"BoxAnnotation\"},{\"id\":\"f1a55635-0e3c-4db8-9662-50cebad8fe1f\",\"type\":\"Legend\"},{\"id\":\"c6157b69-a8ec-44fe-9d09-347e87abe67a\",\"type\":\"GlyphRenderer\"}],\"title\":{\"id\":\"3bfac094-ac07-424e-acb9-3ded7c2e1b34\",\"type\":\"Title\"},\"toolbar\":{\"id\":\"2a71d57e-18b5-44a8-bdfc-bdf40ce83781\",\"type\":\"Toolbar\"},\"x_range\":{\"id\":\"6e678866-a5df-4ed6-8a15-c603e9045fcb\",\"type\":\"DataRange1d\"},\"x_scale\":{\"id\":\"ec97c19c-2b14-4d65-addb-9a5865344486\",\"type\":\"LinearScale\"},\"y_range\":{\"id\":\"5ae312f3-4772-48b7-8723-b49ee5f5f2dc\",\"type\":\"DataRange1d\"},\"y_scale\":{\"id\":\"5663aa39-60dd-4702-9651-ab9788467a7b\",\"type\":\"LinearScale\"}},\"id\":\"ce3c0cfd-3e76-499e-9d9a-dcfb53f93a86\",\"subtype\":\"Figure\",\"type\":\"Plot\"},{\"attributes\":{\"axis_label\":\"Cumulative Returns\",\"formatter\":{\"id\":\"5060de99-4319-4c65-b9ed-2ae79615972b\",\"type\":\"BasicTickFormatter\"},\"plot\":{\"id\":\"ce3c0cfd-3e76-499e-9d9a-dcfb53f93a86\",\"subtype\":\"Figure\",\"type\":\"Plot\"},\"ticker\":{\"id\":\"56525ae8-6cd5-4c79-a074-888c2ca41d5e\",\"type\":\"BasicTicker\"}},\"id\":\"ce2afe93-8cf3-4b72-a091-4d12de716cfb\",\"type\":\"LinearAxis\"},{\"attributes\":{\"grid_line_alpha\":{\"value\":0.3},\"plot\":{\"id\":\"ce3c0cfd-3e76-499e-9d9a-dcfb53f93a86\",\"subtype\":\"Figure\",\"type\":\"Plot\"},\"ticker\":{\"id\":\"a4ec86c2-591e-4997-9f61-877507dd83d8\",\"type\":\"DatetimeTicker\"}},\"id\":\"ef0036bd-0cd6-406f-847d-9c12759123f1\",\"type\":\"Grid\"},{\"attributes\":{\"days\":[1,2,3,4,5,6,7,8,9,10,11,12,13,14,15,16,17,18,19,20,21,22,23,24,25,26,27,28,29,30,31]},\"id\":\"d6b6716b-60e2-4a2b-a764-640fa5dc1c53\",\"type\":\"DaysTicker\"},{\"attributes\":{\"callback\":null},\"id\":\"5ae312f3-4772-48b7-8723-b49ee5f5f2dc\",\"type\":\"DataRange1d\"},{\"attributes\":{\"source\":{\"id\":\"34b84e70-6176-485a-80e5-74150fd729b4\",\"type\":\"ColumnDataSource\"}},\"id\":\"3abed33f-c7b1-4397-877b-6e7b315ce19e\",\"type\":\"CDSView\"},{\"attributes\":{\"days\":[1,4,7,10,13,16,19,22,25,28]},\"id\":\"8580bd4a-a7ee-4bd3-9dd2-a8e294b039fe\",\"type\":\"DaysTicker\"},{\"attributes\":{\"dimension\":1,\"grid_line_alpha\":{\"value\":0.3},\"plot\":{\"id\":\"ce3c0cfd-3e76-499e-9d9a-dcfb53f93a86\",\"subtype\":\"Figure\",\"type\":\"Plot\"},\"ticker\":{\"id\":\"56525ae8-6cd5-4c79-a074-888c2ca41d5e\",\"type\":\"BasicTicker\"}},\"id\":\"1dea99e2-9146-422c-9ff4-78d0b6075834\",\"type\":\"Grid\"},{\"attributes\":{\"months\":[0,2,4,6,8,10]},\"id\":\"b6ae26b0-e29a-40a0-b52c-07ab993d811a\",\"type\":\"MonthsTicker\"},{\"attributes\":{\"axis_label\":\"Date\",\"formatter\":{\"id\":\"bbe35c41-4d6d-47f0-971c-b860e750d98b\",\"type\":\"DatetimeTickFormatter\"},\"plot\":{\"id\":\"ce3c0cfd-3e76-499e-9d9a-dcfb53f93a86\",\"subtype\":\"Figure\",\"type\":\"Plot\"},\"ticker\":{\"id\":\"a4ec86c2-591e-4997-9f61-877507dd83d8\",\"type\":\"DatetimeTicker\"}},\"id\":\"ba193ab3-dc28-424b-85a9-a9776bc8def6\",\"type\":\"DatetimeAxis\"},{\"attributes\":{},\"id\":\"5663aa39-60dd-4702-9651-ab9788467a7b\",\"type\":\"LinearScale\"},{\"attributes\":{\"days\":[1,8,15,22]},\"id\":\"485e7dc4-ea59-4fef-a744-35a212a761d9\",\"type\":\"DaysTicker\"},{\"attributes\":{\"line_alpha\":0.1,\"line_color\":\"#1f77b4\",\"x\":{\"field\":\"tday\"},\"y\":{\"field\":\"acum_return\"}},\"id\":\"47d01052-ad14-4d7b-8021-2e2570795b5e\",\"type\":\"Line\"},{\"attributes\":{\"bottom_units\":\"screen\",\"fill_alpha\":{\"value\":0.5},\"fill_color\":{\"value\":\"lightgrey\"},\"left_units\":\"screen\",\"level\":\"overlay\",\"line_alpha\":{\"value\":1.0},\"line_color\":{\"value\":\"black\"},\"line_dash\":[4,4],\"line_width\":{\"value\":2},\"plot\":null,\"render_mode\":\"css\",\"right_units\":\"screen\",\"top_units\":\"screen\"},\"id\":\"95a51b9f-a79d-4c05-9ffd-f990725bec7f\",\"type\":\"BoxAnnotation\"}],\"root_ids\":[\"ce3c0cfd-3e76-499e-9d9a-dcfb53f93a86\"]},\"title\":\"Bokeh Application\",\"version\":\"0.12.15\"}};\n",
       "  var render_items = [{\"docid\":\"812b21e0-6913-4cdf-a1da-cf674770bc2b\",\"elementid\":\"b9ab4b1b-4e28-4c8f-affd-d3b1d5b9c1bb\",\"modelid\":\"ce3c0cfd-3e76-499e-9d9a-dcfb53f93a86\"}];\n",
       "  root.Bokeh.embed.embed_items_notebook(docs_json, render_items);\n",
       "\n",
       "  }\n",
       "  if (root.Bokeh !== undefined) {\n",
       "    embed_document(root);\n",
       "  } else {\n",
       "    var attempts = 0;\n",
       "    var timer = setInterval(function(root) {\n",
       "      if (root.Bokeh !== undefined) {\n",
       "        embed_document(root);\n",
       "        clearInterval(timer);\n",
       "      }\n",
       "      attempts++;\n",
       "      if (attempts > 100) {\n",
       "        console.log(\"Bokeh: ERROR: Unable to run BokehJS code because BokehJS library is missing\")\n",
       "        clearInterval(timer);\n",
       "      }\n",
       "    }, 10, root)\n",
       "  }\n",
       "})(window);"
      ],
      "application/vnd.bokehjs_exec.v0+json": ""
     },
     "metadata": {
      "application/vnd.bokehjs_exec.v0+json": {
       "id": "ce3c0cfd-3e76-499e-9d9a-dcfb53f93a86"
      }
     },
     "output_type": "display_data"
    }
   ],
   "source": [
    "# compute performance\n",
    "sharpe = (np.sqrt(252) * np.mean(final_return)) / np.std(final_return) \n",
    "APR = np.prod(1+final_return) ** (252.0 / len(final_return)) - 1\n",
    "print('Price spread Sharpe: {:.4}'.format(sharpe)) \n",
    "print('Price spread APR: {:.4%}'.format(APR))\n",
    "\n",
    "acum_return_date = pd.concat([tday_datetime['AUD'][idx_start:idx_end].reset_index(drop=True), acum_return[:-2]], axis=1) # concat date and acum_ret\n",
    "acum_return_date.columns = ['tday', 'acum_return'] # reset column names\n",
    "acum_return_for_plot = ColumnDataSource(acum_return_date) # convert pd.DataFrame to bokeh.models.ColumnDataSource\n",
    "\n",
    "p1 = figure(x_axis_type=\"datetime\", title=\"Cumulative Returns\")\n",
    "p1.grid.grid_line_alpha=0.3\n",
    "p1.xaxis.axis_label = 'Date'\n",
    "p1.yaxis.axis_label = 'Cumulative Returns'\n",
    "\n",
    "p1.line('tday', 'acum_return', color='#A6CEE3', legend='acum ret', source=acum_return_for_plot)\n",
    "p1.legend.location = \"top_left\"\n",
    "\n",
    "show(p1)"
   ]
  },
  {
   "cell_type": "markdown",
   "metadata": {},
   "source": [
    "### Trading calendar spread\n",
    "\n",
    "Futures usually do not show mean reversion. However, for a specific time period, currency pairs exist mean reversion. Therefore, we can use similar mean reversion strategy described above to trade currency cross-rates.\n",
    "\n",
    "To do so, the first task is to identify a currency pair that is mean reverting. This has been discussed in Chen's book. Here we will try to recreate a mean reversion calendar spread strategy."
   ]
  },
  {
   "cell_type": "code",
   "execution_count": 37,
   "metadata": {},
   "outputs": [
    {
     "name": "stdout",
     "output_type": "stream",
     "text": [
      "   2007F  2007G  2007H  2007J  2007K  2007M  2007N  2007Q  2007U  2007V  ...  \\\n",
      "0    NaN    NaN    NaN    NaN    NaN    NaN    NaN    NaN    NaN    NaN  ...   \n",
      "1    NaN    NaN    NaN    NaN    NaN    NaN    NaN    NaN    NaN    NaN  ...   \n",
      "2    NaN    NaN    NaN    NaN    NaN    NaN    NaN    NaN    NaN    NaN  ...   \n",
      "3    NaN    NaN    NaN    NaN    NaN    NaN    NaN    NaN    NaN    NaN  ...   \n",
      "4    NaN    NaN    NaN    NaN    NaN    NaN    NaN    NaN    NaN    NaN  ...   \n",
      "\n",
      "   2013Q  2013U  2013V  2013X  2013Z  2014F  2014G  2014H  2014J  2014K  \n",
      "0    NaN    NaN    NaN    NaN    NaN    NaN    NaN    NaN    NaN    NaN  \n",
      "1    NaN    NaN    NaN    NaN    NaN    NaN    NaN    NaN    NaN    NaN  \n",
      "2    NaN    NaN    NaN    NaN    NaN    NaN    NaN    NaN    NaN    NaN  \n",
      "3    NaN    NaN    NaN    NaN    NaN    NaN    NaN    NaN    NaN    NaN  \n",
      "4    NaN    NaN    NaN    NaN    NaN    NaN    NaN    NaN    NaN    NaN  \n",
      "\n",
      "[5 rows x 89 columns]\n"
     ]
    }
   ],
   "source": [
    "import scipy.io\n",
    "import numpy as np\n",
    "from datetime import datetime\n",
    "\n",
    "mat = scipy.io.loadmat('../data/inputDataDaily_CL_20120813.mat') # load .mat file\n",
    "contracts = [item for sublist in np.array(mat['contracts']) for items in sublist for item in items] # flatten list of lists of lists for symbol names\n",
    "tday = pd.DataFrame(mat['tday'])\n",
    "tday.columns = ['tday']\n",
    "cl = pd.DataFrame(mat['cl'])\n",
    "cl.columns = contracts\n",
    "\n",
    "# get spot price, clean contracts list and cl\n",
    "temp = pd.concat([cl, tday], axis=1)\n",
    "spot = temp[['tday','0000$']]\n",
    "contracts = contracts.remove('0000$')\n",
    "cl = cl.drop('0000$', axis=1)\n",
    "print(cl.head())"
   ]
  },
  {
   "cell_type": "markdown",
   "metadata": {},
   "source": [
    "In this dataset, the first column is the spot price. The last column is the trading date. The rest is different contracts. We first extract the spot price, pick a date and fit the prices of futures of five nearest maturities to their time-to-maturity $T$. In this way, we get $\\gamma$."
   ]
  },
  {
   "cell_type": "code",
   "execution_count": 40,
   "metadata": {},
   "outputs": [
    {
     "name": "stderr",
     "output_type": "stream",
     "text": [
      "/home/adam/.pyenv/ep-chan/lib/python3.5/site-packages/ipykernel-4.8.2-py3.5.egg/ipykernel_launcher.py:3: SettingWithCopyWarning: \n",
      "A value is trying to be set on a copy of a slice from a DataFrame.\n",
      "Try using .loc[row_indexer,col_indexer] = value instead\n",
      "\n",
      "See the caveats in the documentation: http://pandas.pydata.org/pandas-docs/stable/indexing.html#indexing-view-versus-copy\n",
      "  This is separate from the ipykernel package so we can avoid doing imports until\n"
     ]
    },
    {
     "ename": "KeyboardInterrupt",
     "evalue": "",
     "output_type": "error",
     "traceback": [
      "\u001b[0;31m---------------------------------------------------------------------------\u001b[0m",
      "\u001b[0;31mKeyboardInterrupt\u001b[0m                         Traceback (most recent call last)",
      "\u001b[0;32m<ipython-input-40-115fab66d60e>\u001b[0m in \u001b[0;36m<module>\u001b[0;34m\u001b[0m\n\u001b[1;32m      6\u001b[0m     \u001b[0midx\u001b[0m \u001b[0;34m=\u001b[0m \u001b[0mft\u001b[0m\u001b[0;34m.\u001b[0m\u001b[0mreset_index\u001b[0m\u001b[0;34m(\u001b[0m\u001b[0;34m)\u001b[0m\u001b[0;34m.\u001b[0m\u001b[0mindex\u001b[0m\u001b[0;34m\u001b[0m\u001b[0m\n\u001b[1;32m      7\u001b[0m     \u001b[0midx_list\u001b[0m \u001b[0;34m=\u001b[0m \u001b[0midx\u001b[0m\u001b[0;34m.\u001b[0m\u001b[0mtolist\u001b[0m\u001b[0;34m(\u001b[0m\u001b[0;34m)\u001b[0m\u001b[0;34m\u001b[0m\u001b[0m\n\u001b[0;32m----> 8\u001b[0;31m     \u001b[0midx_list_no_na\u001b[0m \u001b[0;34m=\u001b[0m \u001b[0;34m[\u001b[0m\u001b[0midx_list\u001b[0m\u001b[0;34m[\u001b[0m\u001b[0mi\u001b[0m\u001b[0;34m]\u001b[0m \u001b[0;32mfor\u001b[0m \u001b[0mi\u001b[0m \u001b[0;32min\u001b[0m \u001b[0mrange\u001b[0m\u001b[0;34m(\u001b[0m\u001b[0mlen\u001b[0m\u001b[0;34m(\u001b[0m\u001b[0mft\u001b[0m\u001b[0;34m)\u001b[0m\u001b[0;34m)\u001b[0m \u001b[0;32mif\u001b[0m \u001b[0;32mnot\u001b[0m \u001b[0mft\u001b[0m\u001b[0;34m.\u001b[0m\u001b[0misna\u001b[0m\u001b[0;34m(\u001b[0m\u001b[0;34m)\u001b[0m\u001b[0;34m[\u001b[0m\u001b[0mi\u001b[0m\u001b[0;34m]\u001b[0m\u001b[0;34m]\u001b[0m \u001b[0;31m# get rid of NAN ones\u001b[0m\u001b[0;34m\u001b[0m\u001b[0m\n\u001b[0m\u001b[1;32m      9\u001b[0m     \u001b[0midx_no_na\u001b[0m \u001b[0;34m=\u001b[0m \u001b[0mpd\u001b[0m\u001b[0;34m.\u001b[0m\u001b[0mSeries\u001b[0m\u001b[0;34m(\u001b[0m\u001b[0midx_list_no_na\u001b[0m\u001b[0;34m)\u001b[0m\u001b[0;34m\u001b[0m\u001b[0m\n\u001b[1;32m     10\u001b[0m     \u001b[0midx_diff\u001b[0m \u001b[0;34m=\u001b[0m \u001b[0midx_no_na\u001b[0m\u001b[0;34m.\u001b[0m\u001b[0mshift\u001b[0m\u001b[0;34m(\u001b[0m\u001b[0;34m-\u001b[0m\u001b[0;36m1\u001b[0m\u001b[0;34m)\u001b[0m \u001b[0;34m-\u001b[0m \u001b[0midx_no_na\u001b[0m\u001b[0;34m\u001b[0m\u001b[0m\n",
      "\u001b[0;32m<ipython-input-40-115fab66d60e>\u001b[0m in \u001b[0;36m<listcomp>\u001b[0;34m(.0)\u001b[0m\n\u001b[1;32m      6\u001b[0m     \u001b[0midx\u001b[0m \u001b[0;34m=\u001b[0m \u001b[0mft\u001b[0m\u001b[0;34m.\u001b[0m\u001b[0mreset_index\u001b[0m\u001b[0;34m(\u001b[0m\u001b[0;34m)\u001b[0m\u001b[0;34m.\u001b[0m\u001b[0mindex\u001b[0m\u001b[0;34m\u001b[0m\u001b[0m\n\u001b[1;32m      7\u001b[0m     \u001b[0midx_list\u001b[0m \u001b[0;34m=\u001b[0m \u001b[0midx\u001b[0m\u001b[0;34m.\u001b[0m\u001b[0mtolist\u001b[0m\u001b[0;34m(\u001b[0m\u001b[0;34m)\u001b[0m\u001b[0;34m\u001b[0m\u001b[0m\n\u001b[0;32m----> 8\u001b[0;31m     \u001b[0midx_list_no_na\u001b[0m \u001b[0;34m=\u001b[0m \u001b[0;34m[\u001b[0m\u001b[0midx_list\u001b[0m\u001b[0;34m[\u001b[0m\u001b[0mi\u001b[0m\u001b[0;34m]\u001b[0m \u001b[0;32mfor\u001b[0m \u001b[0mi\u001b[0m \u001b[0;32min\u001b[0m \u001b[0mrange\u001b[0m\u001b[0;34m(\u001b[0m\u001b[0mlen\u001b[0m\u001b[0;34m(\u001b[0m\u001b[0mft\u001b[0m\u001b[0;34m)\u001b[0m\u001b[0;34m)\u001b[0m \u001b[0;32mif\u001b[0m \u001b[0;32mnot\u001b[0m \u001b[0mft\u001b[0m\u001b[0;34m.\u001b[0m\u001b[0misna\u001b[0m\u001b[0;34m(\u001b[0m\u001b[0;34m)\u001b[0m\u001b[0;34m[\u001b[0m\u001b[0mi\u001b[0m\u001b[0;34m]\u001b[0m\u001b[0;34m]\u001b[0m \u001b[0;31m# get rid of NAN ones\u001b[0m\u001b[0;34m\u001b[0m\u001b[0m\n\u001b[0m\u001b[1;32m      9\u001b[0m     \u001b[0midx_no_na\u001b[0m \u001b[0;34m=\u001b[0m \u001b[0mpd\u001b[0m\u001b[0;34m.\u001b[0m\u001b[0mSeries\u001b[0m\u001b[0;34m(\u001b[0m\u001b[0midx_list_no_na\u001b[0m\u001b[0;34m)\u001b[0m\u001b[0;34m\u001b[0m\u001b[0m\n\u001b[1;32m     10\u001b[0m     \u001b[0midx_diff\u001b[0m \u001b[0;34m=\u001b[0m \u001b[0midx_no_na\u001b[0m\u001b[0;34m.\u001b[0m\u001b[0mshift\u001b[0m\u001b[0;34m(\u001b[0m\u001b[0;34m-\u001b[0m\u001b[0;36m1\u001b[0m\u001b[0;34m)\u001b[0m \u001b[0;34m-\u001b[0m \u001b[0midx_no_na\u001b[0m\u001b[0;34m\u001b[0m\u001b[0m\n",
      "\u001b[0;32m~/.pyenv/ep-chan/lib/python3.5/site-packages/pandas-0.24.2-py3.5-linux-x86_64.egg/pandas/core/series.py\u001b[0m in \u001b[0;36m__getitem__\u001b[0;34m(self, key)\u001b[0m\n\u001b[1;32m    866\u001b[0m         \u001b[0mkey\u001b[0m \u001b[0;34m=\u001b[0m \u001b[0mcom\u001b[0m\u001b[0;34m.\u001b[0m\u001b[0mapply_if_callable\u001b[0m\u001b[0;34m(\u001b[0m\u001b[0mkey\u001b[0m\u001b[0;34m,\u001b[0m \u001b[0mself\u001b[0m\u001b[0;34m)\u001b[0m\u001b[0;34m\u001b[0m\u001b[0m\n\u001b[1;32m    867\u001b[0m         \u001b[0;32mtry\u001b[0m\u001b[0;34m:\u001b[0m\u001b[0;34m\u001b[0m\u001b[0m\n\u001b[0;32m--> 868\u001b[0;31m             \u001b[0mresult\u001b[0m \u001b[0;34m=\u001b[0m \u001b[0mself\u001b[0m\u001b[0;34m.\u001b[0m\u001b[0mindex\u001b[0m\u001b[0;34m.\u001b[0m\u001b[0mget_value\u001b[0m\u001b[0;34m(\u001b[0m\u001b[0mself\u001b[0m\u001b[0;34m,\u001b[0m \u001b[0mkey\u001b[0m\u001b[0;34m)\u001b[0m\u001b[0;34m\u001b[0m\u001b[0m\n\u001b[0m\u001b[1;32m    869\u001b[0m \u001b[0;34m\u001b[0m\u001b[0m\n\u001b[1;32m    870\u001b[0m             \u001b[0;32mif\u001b[0m \u001b[0;32mnot\u001b[0m \u001b[0mis_scalar\u001b[0m\u001b[0;34m(\u001b[0m\u001b[0mresult\u001b[0m\u001b[0;34m)\u001b[0m\u001b[0;34m:\u001b[0m\u001b[0;34m\u001b[0m\u001b[0m\n",
      "\u001b[0;32m~/.pyenv/ep-chan/lib/python3.5/site-packages/pandas-0.24.2-py3.5-linux-x86_64.egg/pandas/core/indexes/base.py\u001b[0m in \u001b[0;36mget_value\u001b[0;34m(self, series, key)\u001b[0m\n\u001b[1;32m   4373\u001b[0m         \u001b[0;32mtry\u001b[0m\u001b[0;34m:\u001b[0m\u001b[0;34m\u001b[0m\u001b[0m\n\u001b[1;32m   4374\u001b[0m             return self._engine.get_value(s, k,\n\u001b[0;32m-> 4375\u001b[0;31m                                           tz=getattr(series.dtype, 'tz', None))\n\u001b[0m\u001b[1;32m   4376\u001b[0m         \u001b[0;32mexcept\u001b[0m \u001b[0mKeyError\u001b[0m \u001b[0;32mas\u001b[0m \u001b[0me1\u001b[0m\u001b[0;34m:\u001b[0m\u001b[0;34m\u001b[0m\u001b[0m\n\u001b[1;32m   4377\u001b[0m             \u001b[0;32mif\u001b[0m \u001b[0mlen\u001b[0m\u001b[0;34m(\u001b[0m\u001b[0mself\u001b[0m\u001b[0;34m)\u001b[0m \u001b[0;34m>\u001b[0m \u001b[0;36m0\u001b[0m \u001b[0;32mand\u001b[0m \u001b[0;34m(\u001b[0m\u001b[0mself\u001b[0m\u001b[0;34m.\u001b[0m\u001b[0mholds_integer\u001b[0m\u001b[0;34m(\u001b[0m\u001b[0;34m)\u001b[0m \u001b[0;32mor\u001b[0m \u001b[0mself\u001b[0m\u001b[0;34m.\u001b[0m\u001b[0mis_boolean\u001b[0m\u001b[0;34m(\u001b[0m\u001b[0;34m)\u001b[0m\u001b[0;34m)\u001b[0m\u001b[0;34m:\u001b[0m\u001b[0;34m\u001b[0m\u001b[0m\n",
      "\u001b[0;32m~/.pyenv/ep-chan/lib/python3.5/site-packages/pandas-0.24.2-py3.5-linux-x86_64.egg/pandas/core/series.py\u001b[0m in \u001b[0;36mdtype\u001b[0;34m(self)\u001b[0m\n\u001b[1;32m    404\u001b[0m \u001b[0;34m\u001b[0m\u001b[0m\n\u001b[1;32m    405\u001b[0m     \u001b[0;31m# ndarray compatibility\u001b[0m\u001b[0;34m\u001b[0m\u001b[0;34m\u001b[0m\u001b[0m\n\u001b[0;32m--> 406\u001b[0;31m     \u001b[0;34m@\u001b[0m\u001b[0mproperty\u001b[0m\u001b[0;34m\u001b[0m\u001b[0m\n\u001b[0m\u001b[1;32m    407\u001b[0m     \u001b[0;32mdef\u001b[0m \u001b[0mdtype\u001b[0m\u001b[0;34m(\u001b[0m\u001b[0mself\u001b[0m\u001b[0;34m)\u001b[0m\u001b[0;34m:\u001b[0m\u001b[0;34m\u001b[0m\u001b[0m\n\u001b[1;32m    408\u001b[0m         \"\"\"\n",
      "\u001b[0;31mKeyboardInterrupt\u001b[0m: "
     ]
    }
   ],
   "source": [
    "import statsmodels.api as sm\n",
    "\n",
    "spot['gamma'] = np.nan\n",
    "for t in range(spot.shape[0]):\n",
    "    ft = cl.iloc[t]\n",
    "    idx = ft.reset_index().index\n",
    "    idx_list = idx.tolist()\n",
    "    idx_list_no_na = [idx_list[i] for i in range(len(ft)) if not ft.isna()[i]] # get rid of NAN ones\n",
    "    idx_no_na = pd.Series(idx_list_no_na)\n",
    "    idx_diff = idx_no_na.shift(-1) - idx_no_na\n",
    "    if len(idx_no_na) >= 5 and any(idx_diff[0:3]==1):\n",
    "        ft_new = list(ft[idx_no_na[0:4]]) # use list instead of pd.Series so that sm.OLS can handle it\n",
    "        tt = range(len(ft_new))\n",
    "        tt = sm.add_constant(tt) # add constant for `statsmodels.api.OLS` to work\n",
    "        beta = sm.OLS(ft_new,tt).fit().params[1] # return slope from `OLS`\n",
    "        spot.loc[t, 'gamma'] = -12 * beta\n",
    "print(spot['gamma'].tail())"
   ]
  },
  {
   "cell_type": "markdown",
   "metadata": {},
   "source": [
    "Known $\\gamma$, we can find the half-life of it. "
   ]
  },
  {
   "cell_type": "code",
   "execution_count": null,
   "metadata": {},
   "outputs": [],
   "source": [
    "# TODO"
   ]
  },
  {
   "cell_type": "markdown",
   "metadata": {},
   "source": [
    "To apply mean reversion strategy, we need to find Zscore, with lookback set equal to the half-life."
   ]
  },
  {
   "cell_type": "code",
   "execution_count": null,
   "metadata": {},
   "outputs": [],
   "source": [
    "# TODO"
   ]
  },
  {
   "cell_type": "markdown",
   "metadata": {},
   "source": [
    "A pair of contract is selected based on a set of criteria:\n",
    "\n",
    "* First, the holding period for a pair of contracts is 3 months (61 trading days).\n",
    "* Second, we roll forward to the next pair of contracts 10 days before the current near contract’s expiration.\n",
    "* Third, the expiration dates of the near and far contracts are 1 year apart.\n",
    "\n",
    "Assume we hold a long position in the far contract, and a short contract in the near one initially, we can find the true position according to our mean reversion strategy."
   ]
  },
  {
   "cell_type": "code",
   "execution_count": null,
   "metadata": {},
   "outputs": [],
   "source": [
    "# TODO"
   ]
  },
  {
   "cell_type": "markdown",
   "metadata": {},
   "source": [
    "We can calculate the performance and plot the cumulative return."
   ]
  },
  {
   "cell_type": "code",
   "execution_count": null,
   "metadata": {},
   "outputs": [],
   "source": [
    "# TODO"
   ]
  },
  {
   "cell_type": "markdown",
   "metadata": {},
   "source": [
    "## Momentum Strategies\n",
    "\n",
    "### Cross-sectional momentum\n",
    "\n",
    "The section aims to create a momentum strategy that buys and holds stocks within the top decile of 12-month lagged returns for a month, and vice versa for the bottom decile. In this way, we trade on a scross-sectional momentum of stocks.\n",
    "\n",
    "As usual, the first task is to get the data in a workable format."
   ]
  },
  {
   "cell_type": "code",
   "execution_count": 41,
   "metadata": {},
   "outputs": [
    {
     "name": "stdout",
     "output_type": "stream",
     "text": [
      "          A    AA    AAPL    ABC    ABT    ACE    ACN   ADBE    ADI    ADM  \\\n",
      "1495  42.32  9.95  608.34  37.45  60.46  72.35  63.56  33.39  38.39  30.93   \n",
      "1496  41.92  9.76  587.44  37.48  59.51  74.84  63.05  32.90  38.28  30.68   \n",
      "1497  42.10  9.70  572.98  37.75  59.88  75.30  63.40  33.06  37.81  30.71   \n",
      "1498  41.27  9.63  571.70  37.49  59.87  74.50  63.03  32.62  37.22  30.42   \n",
      "1499  39.80  9.66  560.28  37.50  60.73  75.24  62.82  32.40  37.46  30.94   \n",
      "\n",
      "      ...     XL   XLNX    XOM   XRAY   XRX    XYL   YHOO    YUM   ZION    ZMH  \n",
      "1495  ...  20.89  35.37  85.75  40.31  7.96  27.65  15.49  72.94  21.17  64.29  \n",
      "1496  ...  21.37  35.04  85.28  39.73  7.91  27.10  15.40  71.41  20.93  63.06  \n",
      "1497  ...  21.38  34.40  85.30  39.73  7.87  27.36  15.60  73.93  20.54  63.08  \n",
      "1498  ...  21.03  33.92  85.69  39.27  7.88  26.89  15.33  73.78  20.81  62.13  \n",
      "1499  ...  21.26  33.53  86.31  39.98  7.92  27.10  15.43  72.24  20.06  62.39  \n",
      "\n",
      "[5 rows x 497 columns]\n",
      "           tday\n",
      "1495 2012-04-18\n",
      "1496 2012-04-19\n",
      "1497 2012-04-20\n",
      "1498 2012-04-23\n",
      "1499 2012-04-24\n"
     ]
    }
   ],
   "source": [
    "import scipy.io\n",
    "import numpy as np\n",
    "from datetime import datetime\n",
    "\n",
    "mat = scipy.io.loadmat('../data/inputDataOHLCDaily_stocks_20120424.mat') # load .mat file\n",
    "syms = [item for sublist in np.array(mat['stocks']) for items in sublist for item in items] # flatten list of lists of lists for symbol names\n",
    "tday = pd.DataFrame(mat['tday'])\n",
    "tday_datetime = convert_df_to_datetime(tday)\n",
    "tday_datetime.columns = ['tday']\n",
    "cl = pd.DataFrame(mat['cl'])\n",
    "cl.columns = syms\n",
    "# op = pd.DataFrame(mat['op'])\n",
    "# op.columns = syms\n",
    "print(cl.tail())\n",
    "print(tday_datetime.tail())"
   ]
  },
  {
   "cell_type": "markdown",
   "metadata": {},
   "source": [
    "Given the dataset, we can go ahead create the long and short signals. We calculate the return for each day and sort the returns, and create a long and a short array respectively."
   ]
  },
  {
   "cell_type": "code",
   "execution_count": 43,
   "metadata": {},
   "outputs": [],
   "source": [
    "lookback = 252\n",
    "holddays = 25\n",
    "topN = 50\n",
    "\n",
    "ret=(cl - cl.shift(lookback)) / cl.shift(lookback)\n",
    "\n",
    "# initialize signal matrix\n",
    "longs = pd.DataFrame().reindex_like(cl)\n",
    "shorts = pd.DataFrame().reindex_like(cl)\n",
    "\n",
    "for t in range(lookback+1, len(tday)):\n",
    "    temp = ret.iloc[t]\n",
    "    temp_sort = temp.sort_values()\n",
    "    idx = temp_sort.index\n",
    "    idx_list = idx.tolist()\n",
    "    idx_list_no_na = [idx_list[i] for i in range(len(temp_sort)) if temp_sort.isna()[i] == False] # get rid of NAN ones\n",
    "    longs.at[t, idx_list_no_na[-topN:]] = True\n",
    "    shorts.at[t, idx_list_no_na[0:topN]] = True"
   ]
  },
  {
   "cell_type": "markdown",
   "metadata": {},
   "source": [
    "Then, we create a zero *positions* matrix. We lag the long and short signal according to our holding period. Update the *positions* matrix for every holding day."
   ]
  },
  {
   "cell_type": "code",
   "execution_count": 45,
   "metadata": {},
   "outputs": [],
   "source": [
    "positions = pd.DataFrame().reindex_like(longs)\n",
    "positions = positions.fillna(0)\n",
    "\n",
    "for h in range(holddays):\n",
    "    long_lag = longs.shift(h)\n",
    "    long_lag = long_lag.fillna(0)\n",
    "    long_lag = long_lag.astype('int')\n",
    "    \n",
    "    short_lag = shorts.shift(h)\n",
    "    short_lag = short_lag.fillna(0)\n",
    "    short_lag = short_lag.astype('int')\n",
    "    \n",
    "    positions = positions + long_lag.where(long_lag == 0, 1)\n",
    "    positions = positions + short_lag.where(short_lag == 0 , -1)"
   ]
  },
  {
   "cell_type": "markdown",
   "metadata": {},
   "source": [
    "Once the *positions* matrix is obtained, we can trade accordingly. The daily and cumulative return can be calculated. Sharpe ratio and APR can be obtained."
   ]
  },
  {
   "cell_type": "code",
   "execution_count": 46,
   "metadata": {},
   "outputs": [
    {
     "name": "stdout",
     "output_type": "stream",
     "text": [
      "Price spread Sharpe: 4.202\n",
      "Price spread APR: 38.6203%\n"
     ]
    }
   ],
   "source": [
    "dailyret=np.sum(positions.shift(1) * (cl - cl.shift(1)) / cl.shift(1), axis=1) / (2 * topN) / holddays\n",
    "dailyret.fillna(0)\n",
    "\n",
    "# select specific start and end date\n",
    "start_day = '20070515'\n",
    "end_day = '20071231'\n",
    "start_mask = tday_datetime['tday'] == start_day\n",
    "end_mask = tday_datetime['tday'] == end_day\n",
    "idx_start = tday_datetime['tday'][start_mask].index[0]\n",
    "idx_end =  tday_datetime['tday'][end_mask].index[0]\n",
    "\n",
    "# calculate cumulative return\n",
    "cumret=np.cumprod(1 + dailyret[idx_start:idx_end]) - 1;\n",
    "\n",
    "sharpe = (np.sqrt(252) * np.mean(dailyret[idx_start:idx_end])) / np.std(dailyret[idx_start:idx_end]) \n",
    "APR = np.prod(1+dailyret[idx_start:idx_end]) ** (252.0 / len(dailyret[idx_start:idx_end])) - 1\n",
    "print('Price spread Sharpe: {:.4}'.format(sharpe))\n",
    "print('Price spread APR: {:.4%}'.format(APR))"
   ]
  },
  {
   "cell_type": "markdown",
   "metadata": {},
   "source": [
    "Finally, we go ahead plot the cumulative return."
   ]
  },
  {
   "cell_type": "code",
   "execution_count": 47,
   "metadata": {},
   "outputs": [
    {
     "data": {
      "text/html": [
       "\n",
       "<div class=\"bk-root\">\n",
       "    <div class=\"bk-plotdiv\" id=\"af11a5ac-3330-4ba2-b771-3acd0bc3ee1d\"></div>\n",
       "</div>"
      ]
     },
     "metadata": {},
     "output_type": "display_data"
    },
    {
     "data": {
      "application/javascript": [
       "(function(root) {\n",
       "  function embed_document(root) {\n",
       "    \n",
       "  var docs_json = {\"0a2504e8-fb42-4ded-b5e9-01fd05a5fda5\":{\"roots\":{\"references\":[{\"attributes\":{\"months\":[0,4,8]},\"id\":\"8829a842-7a72-46c2-9f7d-d49bbabada4d\",\"type\":\"MonthsTicker\"},{\"attributes\":{\"line_color\":\"#A6CEE3\",\"x\":{\"field\":\"tday\"},\"y\":{\"field\":\"acum_return\"}},\"id\":\"9fe6a78a-2599-40ec-9275-d0e34839533c\",\"type\":\"Line\"},{\"attributes\":{},\"id\":\"a806e2d3-b461-4a4b-8284-e01b4d163f6e\",\"type\":\"ResetTool\"},{\"attributes\":{},\"id\":\"f6b48bce-df74-4250-bd13-044c4b403c72\",\"type\":\"PanTool\"},{\"attributes\":{\"num_minor_ticks\":5,\"tickers\":[{\"id\":\"e81c8acc-70f0-432c-b6c4-3d98b6e16150\",\"type\":\"AdaptiveTicker\"},{\"id\":\"f4c2e1ac-fb8a-432e-9884-99e0d18915bb\",\"type\":\"AdaptiveTicker\"},{\"id\":\"f031dfad-5241-4231-88b9-51a335b07877\",\"type\":\"AdaptiveTicker\"},{\"id\":\"e752afe1-b772-4f02-b309-f876c2e7ba84\",\"type\":\"DaysTicker\"},{\"id\":\"09d21616-eb33-49ae-975b-1d6ff7ddda90\",\"type\":\"DaysTicker\"},{\"id\":\"a49848b1-c5eb-49c7-b4a7-b7b20ca5629b\",\"type\":\"DaysTicker\"},{\"id\":\"82fc2343-5875-4713-b589-b60e1c84ae95\",\"type\":\"DaysTicker\"},{\"id\":\"b2206bb9-3121-4b76-bf92-0ba81da12e76\",\"type\":\"MonthsTicker\"},{\"id\":\"95d82862-9a7e-4288-858f-83baab59dbb6\",\"type\":\"MonthsTicker\"},{\"id\":\"8829a842-7a72-46c2-9f7d-d49bbabada4d\",\"type\":\"MonthsTicker\"},{\"id\":\"22d124b9-2300-4a5f-a7ba-a9525263217d\",\"type\":\"MonthsTicker\"},{\"id\":\"cfdeef32-dc6c-4497-a495-f6cdf3932b7a\",\"type\":\"YearsTicker\"}]},\"id\":\"62126ef2-a523-465b-b7ca-ea0a29ed0c09\",\"type\":\"DatetimeTicker\"},{\"attributes\":{\"days\":[1,8,15,22]},\"id\":\"a49848b1-c5eb-49c7-b4a7-b7b20ca5629b\",\"type\":\"DaysTicker\"},{\"attributes\":{\"days\":[1,15]},\"id\":\"82fc2343-5875-4713-b589-b60e1c84ae95\",\"type\":\"DaysTicker\"},{\"attributes\":{\"months\":[0,1,2,3,4,5,6,7,8,9,10,11]},\"id\":\"b2206bb9-3121-4b76-bf92-0ba81da12e76\",\"type\":\"MonthsTicker\"},{\"attributes\":{\"days\":[1,4,7,10,13,16,19,22,25,28]},\"id\":\"09d21616-eb33-49ae-975b-1d6ff7ddda90\",\"type\":\"DaysTicker\"},{\"attributes\":{\"label\":{\"value\":\"acum ret\"},\"renderers\":[{\"id\":\"66e413bb-e53e-434c-b83d-f52f0363e723\",\"type\":\"GlyphRenderer\"}]},\"id\":\"d076f819-72d5-41f8-b111-48eea572706e\",\"type\":\"LegendItem\"},{\"attributes\":{\"base\":60,\"mantissas\":[1,2,5,10,15,20,30],\"max_interval\":1800000.0,\"min_interval\":1000.0,\"num_minor_ticks\":0},\"id\":\"f4c2e1ac-fb8a-432e-9884-99e0d18915bb\",\"type\":\"AdaptiveTicker\"},{\"attributes\":{\"months\":[0,2,4,6,8,10]},\"id\":\"95d82862-9a7e-4288-858f-83baab59dbb6\",\"type\":\"MonthsTicker\"},{\"attributes\":{\"dimension\":1,\"grid_line_alpha\":{\"value\":0.3},\"plot\":{\"id\":\"263ec24c-1e1a-45e1-832f-6553d4688694\",\"subtype\":\"Figure\",\"type\":\"Plot\"},\"ticker\":{\"id\":\"da7a8e92-1e7a-4dcf-9276-2a09888059b0\",\"type\":\"BasicTicker\"}},\"id\":\"ff6b767c-7b80-47ad-9089-b4852911f712\",\"type\":\"Grid\"},{\"attributes\":{\"callback\":null,\"column_names\":[\"tday\",\"index\",\"acum_return\"],\"data\":{\"acum_return\":{\"__ndarray__\":\"AAAAAAAAAAAAoDA6nA0TvwCAxk3lhhE/AEBtk8WFIT8AcI1eIZg3PwAA+ZBnIzE/AGATsXfMQr8AKP9MbXZVvwCMqKnXjkC/AIBgvPMTNj8AvKm3oQBVPwDYAxp9s0M/ACBDU4SDRj8AeBNYdU5RPwB0ITB17Vo/AACb9fzoNj8ATvNkAm9ovwC04qm2qmq/AJVRW2nVZL8AZJiDoGFfvwBoeRLxxEQ/AKIEevocZz8AVxEgHA15PwCCOqFUJXs/gEysKwt4hT8Am/Xu/8l7PwBqVofPv38/AAZBqS3Nej8AGLQSMMN4PwBOtjUre2M/AIjZv9xcWT8AlrU8mSh2PwBaBK6L2H4/AJsgktMtjD+AKa6NdsGKP0CBaFKOCJA/gPFZsqpIjD8ACro0t2uQP4C+SdoE+Ys/gAy1hWPciT+AwsTitNqPP0BYIGOJXZI/gMfZftyQkT+A8XpzmOWQPwByHZPUZJM/ALHGo8D0kz/Asicaig+QP8AX4ki4AZI/AFV290XjiD+A2OUYf4qGPwDD1r92ZIg/AOiLaS+vhD/AO8rqwfSSPwBQUM+7ipI/AFgvJxIMjT9AwHY4Bo2TP0CECwWacpM/gEsmJf0Zjz/AUwjs/2CRP4Av3GBReYU/AOYOVBOCXr8AHmo/OpNjPwAi2feuXI0/gJAgT5Ihij8AuknKlRiCPwAq4fKwpmC/AICllMnHHj+ALr7AYA+BP4ByEofXaIg/QDYOongvlT9AtxZ8k5SUP8DfKpwLNps/gG26v3WEnT9ATdml7SCZP8A1dyXHdp0/wJncEiR2nz+AGwQ6NgqjP6Agni9cmaM/AIQ6QjRnoz/gmRm4faqjP8ApAEKEB6I/YMighgN0oz/AvSyFqmWlP4DlfxtwS6c/IKx/HH5gpz8A0uTdPRmnPyB4o6gw7KY/QN60p02kqT+gMfdsOfKpP2B+tpQTz6w/YLapCFABsD8g6zWYYTGxP+AE3UBGj7I/UF4r/Q35sj+ASeXeL2WzP0DDxQG057I/ABS96eBlsz8Q9ZZGqgOyPyAUuYlMt68/ML128fILsT/QqXkUuUexPzC1E2nbPLI/YBQ764hxsz9wbBlWP7W0P5CaB2qtJLQ/4M+jSXIOtj9Q/SeHT6q2PwCHQ7jGabg/QFnrKtrZuD9A6hQXrTW7P3B2fxOUwbk/0OTgwkuKtz/QL5RHT0y6P1CJyXj3Lrs/MFFpmwZqvD+wj1nU6uW9PzAv/rjuW74/oPEy6X11uz8Ag07cSDa+P9Bqan1pYr8/oBixmY39wD9o8CtBNRXBPyj3NrNFNsI/oGNmlXjkwj84zab6YqPCPzDUCQEDasE/UAxNC0TNvD9g0EoPnNW7P4DMGWpGUL4/AJ1bQIe0vj+IWIP8/MfAP5gOl/D3VcE/yESU55ULwz8w3ivqjbnCP0DSHeXnAcI/4EaeWKrbwz9IhYY/oLDDP8BBpttQnMM/8OK3TAnjxD8w3R85YdjDP6B0wr7KNsU/gKwNEC/OxT8oXCZlm+DFP4Bko2YsgcU/gLjlfM2nxT9owRvqK/vEP5gFsbCkUcY/QHjxghH5xz8wv+R4mPXIP+C7LbvAKMo/oE1ysBaSyD8Qz1K9jNfIP7DqQeJ6n8k/+DJcyU3vyj9gmO27EW7LP+ibAPvNbMs/8K8xaPypzD+wr87866XMPwB2F03ESc0/\",\"dtype\":\"float64\",\"shape\":[159]},\"index\":[0,1,2,3,4,5,6,7,8,9,10,11,12,13,14,15,16,17,18,19,20,21,22,23,24,25,26,27,28,29,30,31,32,33,34,35,36,37,38,39,40,41,42,43,44,45,46,47,48,49,50,51,52,53,54,55,56,57,58,59,60,61,62,63,64,65,66,67,68,69,70,71,72,73,74,75,76,77,78,79,80,81,82,83,84,85,86,87,88,89,90,91,92,93,94,95,96,97,98,99,100,101,102,103,104,105,106,107,108,109,110,111,112,113,114,115,116,117,118,119,120,121,122,123,124,125,126,127,128,129,130,131,132,133,134,135,136,137,138,139,140,141,142,143,144,145,146,147,148,149,150,151,152,153,154,155,156,157,158],\"tday\":{\"__ndarray__\":\"AAAAjNAocUIAAMDxIilxQgAAgFd1KXFCAABAvccpcUIAAIDuvipxQgAAQFQRK3FCAAAAumMrcUIAAMAftitxQgAAgIUILHFCAACAHFItcUIAAECCpC1xQgAAAOj2LXFCAADATUkucUIAAAB/QC9xQgAAwOSSL3FCAACASuUvcUIAAECwNzBxQgAAABaKMHFCAABAR4ExcUIAAACt0zFxQgAAwBImMnFCAACAeHgycUIAAEDeyjJxQgAAgA/CM3FCAABAdRQ0cUIAAADbZjRxQgAAwEC5NHFCAACApgs1cUIAAMDXAjZxQgAAgD1VNnFCAABAo6c2cUIAAAAJ+jZxQgAAwG5MN3FCAAAAoEM4cUIAAMAFljhxQgAAQNE6OXFCAAAAN405cUIAAEBohDpxQgAAAM7WOnFCAADAMyk7cUIAAICZeztxQgAAQP/NO3FCAACAMMU8cUIAAECWFz1xQgAAAPxpPXFCAADAYbw9cUIAAIDHDj5xQgAAwPgFP3FCAACAXlg/cUIAAEDEqj9xQgAAACr9P3FCAADAj09AcUIAAADBRkFxQgAAwCaZQXFCAACAjOtBcUIAAEDyPUJxQgAAAFiQQnFCAABAiYdDcUIAAADv2UNxQgAAwFQsRHFCAACAun5EcUIAAEAg0URxQgAAgFHIRXFCAABAtxpGcUIAAAAdbUZxQgAAwIK/RnFCAACA6BFHcUIAAMAZCUhxQgAAgH9bSHFCAABA5a1IcUIAAABLAElxQgAAwLBSSXFCAAAA4klKcUIAAMBHnEpxQgAAgK3uSnFCAABAE0FLcUIAAAB5k0txQgAAABDdTHFCAADAdS9NcUIAAIDbgU1xQgAAQEHUTXFCAACAcstOcUIAAEDYHU9xQgAAAD5wT3FCAADAo8JPcUIAAIAJFVBxQgAAwDoMUXFCAACAoF5RcUIAAEAGsVFxQgAAAGwDUnFCAADA0VVScUIAAAADTVNxQgAAwGifU3FCAACAzvFTcUIAAEA0RFRxQgAAAJqWVHFCAABAy41VcUIAAAAx4FVxQgAAwJYyVnFCAACA/IRWcUIAAEBi11ZxQgAAgJPOV3FCAABA+SBYcUIAAABfc1hxQgAAwMTFWHFCAACAKhhZcUIAAMBbD1pxQgAAgMFhWnFCAABAJ7RacUIAAACNBltxQgAAwPJYW3FCAAAAJFBccUIAAMCJolxxQgAAgO/0XHFCAABAVUddcUIAAAC7mV1xQgAAQOyQXnFCAAAAUuNecUIAAMC3NV9xQgAAgB2IX3FCAABAg9pfcUIAAIC00WBxQgAAQBokYXFCAAAAgHZhcUIAAMDlyGFxQgAAgEsbYnFCAADAfBJjcUIAAIDiZGNxQgAAQEi3Y3FCAAAArglkcUIAAMATXGRxQgAAAEVTZXFCAADAqqVlcUIAAIAQ+GVxQgAAANycZnFCAABADZRncUIAAABz5mdxQgAAwNg4aHFCAACAPotocUIAAECk3WhxQgAAgNXUaXFCAABAOydqcUIAAACheWpxQgAAwAbManFCAACAbB5rcUIAAMCdFWxxQgAAgANobHFCAABAabpscUIAAADPDG1xQgAAwDRfbXFCAAAAZlZucUIAAMDLqG5xQgAAgDH7bnFCAABAl01vcUIAAAD9n29xQgAAQC6XcHFCAADA+TtxcUIAAIBfjnFxQgAAQMXgcXFC\",\"dtype\":\"float64\",\"shape\":[159]}},\"selected\":null,\"selection_policy\":null},\"id\":\"b7e81b66-43bb-4a92-9cf2-51979f8c0cb2\",\"type\":\"ColumnDataSource\"},{\"attributes\":{},\"id\":\"da7a8e92-1e7a-4dcf-9276-2a09888059b0\",\"type\":\"BasicTicker\"},{\"attributes\":{\"base\":24,\"mantissas\":[1,2,4,6,8,12],\"max_interval\":43200000.0,\"min_interval\":3600000.0,\"num_minor_ticks\":0},\"id\":\"f031dfad-5241-4231-88b9-51a335b07877\",\"type\":\"AdaptiveTicker\"},{\"attributes\":{\"data_source\":{\"id\":\"b7e81b66-43bb-4a92-9cf2-51979f8c0cb2\",\"type\":\"ColumnDataSource\"},\"glyph\":{\"id\":\"9fe6a78a-2599-40ec-9275-d0e34839533c\",\"type\":\"Line\"},\"hover_glyph\":null,\"muted_glyph\":null,\"nonselection_glyph\":{\"id\":\"b77df04b-d949-4e4a-b2b9-19a191a165b8\",\"type\":\"Line\"},\"selection_glyph\":null,\"view\":{\"id\":\"82fb7796-ac86-47be-9a06-d6b8fce6eb7a\",\"type\":\"CDSView\"}},\"id\":\"66e413bb-e53e-434c-b83d-f52f0363e723\",\"type\":\"GlyphRenderer\"},{\"attributes\":{},\"id\":\"17c6b66d-42fe-4772-889e-0114d9e16ee3\",\"type\":\"WheelZoomTool\"},{\"attributes\":{\"callback\":null},\"id\":\"424cda3a-d1a5-48de-8619-dfa0879b8595\",\"type\":\"DataRange1d\"},{\"attributes\":{\"mantissas\":[1,2,5],\"max_interval\":500.0,\"num_minor_ticks\":0},\"id\":\"e81c8acc-70f0-432c-b6c4-3d98b6e16150\",\"type\":\"AdaptiveTicker\"},{\"attributes\":{\"source\":{\"id\":\"b7e81b66-43bb-4a92-9cf2-51979f8c0cb2\",\"type\":\"ColumnDataSource\"}},\"id\":\"82fb7796-ac86-47be-9a06-d6b8fce6eb7a\",\"type\":\"CDSView\"},{\"attributes\":{},\"id\":\"84f7ef85-987a-4c61-b707-d163ba7f2933\",\"type\":\"BasicTickFormatter\"},{\"attributes\":{\"plot\":null,\"text\":\"Cumulative Returns\"},\"id\":\"bdfe80eb-8bf3-467f-af47-836cf76de276\",\"type\":\"Title\"},{\"attributes\":{},\"id\":\"aacb7404-f269-409e-a5d2-5e249c7ef5e1\",\"type\":\"LinearScale\"},{\"attributes\":{\"days\":[1,2,3,4,5,6,7,8,9,10,11,12,13,14,15,16,17,18,19,20,21,22,23,24,25,26,27,28,29,30,31]},\"id\":\"e752afe1-b772-4f02-b309-f876c2e7ba84\",\"type\":\"DaysTicker\"},{\"attributes\":{\"axis_label\":\"Cumulative Returns\",\"formatter\":{\"id\":\"84f7ef85-987a-4c61-b707-d163ba7f2933\",\"type\":\"BasicTickFormatter\"},\"plot\":{\"id\":\"263ec24c-1e1a-45e1-832f-6553d4688694\",\"subtype\":\"Figure\",\"type\":\"Plot\"},\"ticker\":{\"id\":\"da7a8e92-1e7a-4dcf-9276-2a09888059b0\",\"type\":\"BasicTicker\"}},\"id\":\"d0fdd7ba-5264-4a61-a3a1-83e887bdc430\",\"type\":\"LinearAxis\"},{\"attributes\":{\"callback\":null},\"id\":\"ef81d49f-f021-4686-b5bb-8bc377df065a\",\"type\":\"DataRange1d\"},{\"attributes\":{\"active_drag\":\"auto\",\"active_inspect\":\"auto\",\"active_scroll\":\"auto\",\"active_tap\":\"auto\",\"tools\":[{\"id\":\"f6b48bce-df74-4250-bd13-044c4b403c72\",\"type\":\"PanTool\"},{\"id\":\"17c6b66d-42fe-4772-889e-0114d9e16ee3\",\"type\":\"WheelZoomTool\"},{\"id\":\"e4a2ca2b-aa53-4aea-82ab-d4ee9b486705\",\"type\":\"BoxZoomTool\"},{\"id\":\"a17b0151-8406-48fc-8f2e-907d420446c3\",\"type\":\"SaveTool\"},{\"id\":\"a806e2d3-b461-4a4b-8284-e01b4d163f6e\",\"type\":\"ResetTool\"},{\"id\":\"5d78918f-4dc8-4b25-8d98-fc605669911a\",\"type\":\"HelpTool\"}]},\"id\":\"d6d76ce5-ec9d-4da4-b28d-34898b3a7daf\",\"type\":\"Toolbar\"},{\"attributes\":{},\"id\":\"5d78918f-4dc8-4b25-8d98-fc605669911a\",\"type\":\"HelpTool\"},{\"attributes\":{\"overlay\":{\"id\":\"5df82b29-5cd9-4518-a23d-b92417832832\",\"type\":\"BoxAnnotation\"}},\"id\":\"e4a2ca2b-aa53-4aea-82ab-d4ee9b486705\",\"type\":\"BoxZoomTool\"},{\"attributes\":{\"axis_label\":\"Date\",\"formatter\":{\"id\":\"d274621a-2fe2-449e-b125-7818f5b88b08\",\"type\":\"DatetimeTickFormatter\"},\"plot\":{\"id\":\"263ec24c-1e1a-45e1-832f-6553d4688694\",\"subtype\":\"Figure\",\"type\":\"Plot\"},\"ticker\":{\"id\":\"62126ef2-a523-465b-b7ca-ea0a29ed0c09\",\"type\":\"DatetimeTicker\"}},\"id\":\"68592343-5d49-4d21-bbe5-809678d54690\",\"type\":\"DatetimeAxis\"},{\"attributes\":{\"items\":[{\"id\":\"d076f819-72d5-41f8-b111-48eea572706e\",\"type\":\"LegendItem\"}],\"location\":\"top_left\",\"plot\":{\"id\":\"263ec24c-1e1a-45e1-832f-6553d4688694\",\"subtype\":\"Figure\",\"type\":\"Plot\"}},\"id\":\"2462585e-0219-4003-8f21-27dde3891e09\",\"type\":\"Legend\"},{\"attributes\":{},\"id\":\"d274621a-2fe2-449e-b125-7818f5b88b08\",\"type\":\"DatetimeTickFormatter\"},{\"attributes\":{},\"id\":\"dc158c2d-675c-48a4-8792-134743c31e35\",\"type\":\"LinearScale\"},{\"attributes\":{\"below\":[{\"id\":\"68592343-5d49-4d21-bbe5-809678d54690\",\"type\":\"DatetimeAxis\"}],\"left\":[{\"id\":\"d0fdd7ba-5264-4a61-a3a1-83e887bdc430\",\"type\":\"LinearAxis\"}],\"renderers\":[{\"id\":\"68592343-5d49-4d21-bbe5-809678d54690\",\"type\":\"DatetimeAxis\"},{\"id\":\"bd006020-2ea0-4846-86aa-97603fe32a7f\",\"type\":\"Grid\"},{\"id\":\"d0fdd7ba-5264-4a61-a3a1-83e887bdc430\",\"type\":\"LinearAxis\"},{\"id\":\"ff6b767c-7b80-47ad-9089-b4852911f712\",\"type\":\"Grid\"},{\"id\":\"5df82b29-5cd9-4518-a23d-b92417832832\",\"type\":\"BoxAnnotation\"},{\"id\":\"2462585e-0219-4003-8f21-27dde3891e09\",\"type\":\"Legend\"},{\"id\":\"66e413bb-e53e-434c-b83d-f52f0363e723\",\"type\":\"GlyphRenderer\"}],\"title\":{\"id\":\"bdfe80eb-8bf3-467f-af47-836cf76de276\",\"type\":\"Title\"},\"toolbar\":{\"id\":\"d6d76ce5-ec9d-4da4-b28d-34898b3a7daf\",\"type\":\"Toolbar\"},\"x_range\":{\"id\":\"ef81d49f-f021-4686-b5bb-8bc377df065a\",\"type\":\"DataRange1d\"},\"x_scale\":{\"id\":\"aacb7404-f269-409e-a5d2-5e249c7ef5e1\",\"type\":\"LinearScale\"},\"y_range\":{\"id\":\"424cda3a-d1a5-48de-8619-dfa0879b8595\",\"type\":\"DataRange1d\"},\"y_scale\":{\"id\":\"dc158c2d-675c-48a4-8792-134743c31e35\",\"type\":\"LinearScale\"}},\"id\":\"263ec24c-1e1a-45e1-832f-6553d4688694\",\"subtype\":\"Figure\",\"type\":\"Plot\"},{\"attributes\":{},\"id\":\"cfdeef32-dc6c-4497-a495-f6cdf3932b7a\",\"type\":\"YearsTicker\"},{\"attributes\":{\"line_alpha\":0.1,\"line_color\":\"#1f77b4\",\"x\":{\"field\":\"tday\"},\"y\":{\"field\":\"acum_return\"}},\"id\":\"b77df04b-d949-4e4a-b2b9-19a191a165b8\",\"type\":\"Line\"},{\"attributes\":{\"months\":[0,6]},\"id\":\"22d124b9-2300-4a5f-a7ba-a9525263217d\",\"type\":\"MonthsTicker\"},{\"attributes\":{},\"id\":\"a17b0151-8406-48fc-8f2e-907d420446c3\",\"type\":\"SaveTool\"},{\"attributes\":{\"bottom_units\":\"screen\",\"fill_alpha\":{\"value\":0.5},\"fill_color\":{\"value\":\"lightgrey\"},\"left_units\":\"screen\",\"level\":\"overlay\",\"line_alpha\":{\"value\":1.0},\"line_color\":{\"value\":\"black\"},\"line_dash\":[4,4],\"line_width\":{\"value\":2},\"plot\":null,\"render_mode\":\"css\",\"right_units\":\"screen\",\"top_units\":\"screen\"},\"id\":\"5df82b29-5cd9-4518-a23d-b92417832832\",\"type\":\"BoxAnnotation\"},{\"attributes\":{\"grid_line_alpha\":{\"value\":0.3},\"plot\":{\"id\":\"263ec24c-1e1a-45e1-832f-6553d4688694\",\"subtype\":\"Figure\",\"type\":\"Plot\"},\"ticker\":{\"id\":\"62126ef2-a523-465b-b7ca-ea0a29ed0c09\",\"type\":\"DatetimeTicker\"}},\"id\":\"bd006020-2ea0-4846-86aa-97603fe32a7f\",\"type\":\"Grid\"}],\"root_ids\":[\"263ec24c-1e1a-45e1-832f-6553d4688694\"]},\"title\":\"Bokeh Application\",\"version\":\"0.12.15\"}};\n",
       "  var render_items = [{\"docid\":\"0a2504e8-fb42-4ded-b5e9-01fd05a5fda5\",\"elementid\":\"af11a5ac-3330-4ba2-b771-3acd0bc3ee1d\",\"modelid\":\"263ec24c-1e1a-45e1-832f-6553d4688694\"}];\n",
       "  root.Bokeh.embed.embed_items_notebook(docs_json, render_items);\n",
       "\n",
       "  }\n",
       "  if (root.Bokeh !== undefined) {\n",
       "    embed_document(root);\n",
       "  } else {\n",
       "    var attempts = 0;\n",
       "    var timer = setInterval(function(root) {\n",
       "      if (root.Bokeh !== undefined) {\n",
       "        embed_document(root);\n",
       "        clearInterval(timer);\n",
       "      }\n",
       "      attempts++;\n",
       "      if (attempts > 100) {\n",
       "        console.log(\"Bokeh: ERROR: Unable to run BokehJS code because BokehJS library is missing\")\n",
       "        clearInterval(timer);\n",
       "      }\n",
       "    }, 10, root)\n",
       "  }\n",
       "})(window);"
      ],
      "application/vnd.bokehjs_exec.v0+json": ""
     },
     "metadata": {
      "application/vnd.bokehjs_exec.v0+json": {
       "id": "263ec24c-1e1a-45e1-832f-6553d4688694"
      }
     },
     "output_type": "display_data"
    }
   ],
   "source": [
    "acum_return_date = pd.concat([tday_datetime['tday'][idx_start:idx_end].reset_index(drop=True), cumret.reset_index(drop=True)], axis=1) # reset_index so that two df can be concated correctly\n",
    "acum_return_date.columns = ['tday', 'acum_return'] # reset column names\n",
    "acum_return_for_plot = ColumnDataSource(acum_return_date) # convert pd.DataFrame to bokeh.models.ColumnDataSource\n",
    "\n",
    "p1 = figure(x_axis_type=\"datetime\", title=\"Cumulative Returns\")\n",
    "p1.grid.grid_line_alpha=0.3\n",
    "p1.xaxis.axis_label = 'Date'\n",
    "p1.yaxis.axis_label = 'Cumulative Returns'\n",
    "\n",
    "p1.line('tday', 'acum_return', color='#A6CEE3', legend='acum ret', source=acum_return_for_plot)\n",
    "p1.legend.location = \"top_left\"\n",
    "\n",
    "show(p1)"
   ]
  },
  {
   "cell_type": "markdown",
   "metadata": {},
   "source": [
    "## Conclusion\n",
    "\n",
    "So far, we have implemented most important contents in E.P. Chan's book. For every part of code, I added some necessary explanations to show the thinking process. This serves as a starting point of quantitative trading. One should read more books and articles to find out his/her own strategy. Morevoer, to gain a solid understanding, try to implement a backtesting environment yourself before going to some well known places, such as Quantopian and WorldQuant.\n",
    "\n",
    "Hope everyone find their way to success!"
   ]
  }
 ],
 "metadata": {
  "kernelspec": {
   "display_name": "Python 3",
   "language": "python",
   "name": "python3"
  },
  "language_info": {
   "codemirror_mode": {
    "name": "ipython",
    "version": 3
   },
   "file_extension": ".py",
   "mimetype": "text/x-python",
   "name": "python",
   "nbconvert_exporter": "python",
   "pygments_lexer": "ipython3",
   "version": "3.5.2"
  }
 },
 "nbformat": 4,
 "nbformat_minor": 2
}
